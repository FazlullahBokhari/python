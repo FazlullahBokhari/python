{
 "cells": [
  {
   "cell_type": "code",
   "execution_count": 5,
   "id": "429b2369",
   "metadata": {},
   "outputs": [],
   "source": [
    "f = open(\"test.txt\",\"w\")"
   ]
  },
  {
   "cell_type": "code",
   "execution_count": 7,
   "id": "516aec94",
   "metadata": {},
   "outputs": [
    {
     "name": "stdout",
     "output_type": "stream",
     "text": [
      " Volume in drive C has no label.\n",
      " Volume Serial Number is BEC0-260A\n",
      "\n",
      " Directory of C:\\Users\\fazlu\\Working_space\\class\\python\n",
      "\n",
      "11-01-2022  12:19    <DIR>          .\n",
      "11-01-2022  12:19    <DIR>          ..\n",
      "11-01-2022  12:14    <DIR>          .ipynb_checkpoints\n",
      "07-01-2022  21:31           494,904 control flow in python.ipynb\n",
      "11-01-2022  12:17             1,234 file system.ipynb\n",
      "11-01-2022  12:07            41,925 function.ipynb\n",
      "03-01-2022  16:40           103,975 Python Basic.ipynb\n",
      "11-01-2022  12:19                 0 test.txt\n",
      "               5 File(s)        642,038 bytes\n",
      "               3 Dir(s)  398,277,074,944 bytes free\n"
     ]
    }
   ],
   "source": [
    "%ls"
   ]
  },
  {
   "cell_type": "code",
   "execution_count": 4,
   "id": "feb8d8da",
   "metadata": {},
   "outputs": [
    {
     "data": {
      "text/plain": [
       "'C:\\\\Users\\\\fazlu\\\\Working_space\\\\class\\\\python'"
      ]
     },
     "execution_count": 4,
     "metadata": {},
     "output_type": "execute_result"
    }
   ],
   "source": [
    "pwd()"
   ]
  },
  {
   "cell_type": "code",
   "execution_count": 8,
   "id": "ebdef42b",
   "metadata": {},
   "outputs": [],
   "source": [
    "f = open(\"test.txt\",\"w\")"
   ]
  },
  {
   "cell_type": "code",
   "execution_count": 9,
   "id": "67625b73",
   "metadata": {},
   "outputs": [
    {
     "data": {
      "text/plain": [
       "54"
      ]
     },
     "execution_count": 9,
     "metadata": {},
     "output_type": "execute_result"
    }
   ],
   "source": [
    "f.write(\"This is my first operation to something in my text.txt\")"
   ]
  },
  {
   "cell_type": "code",
   "execution_count": 10,
   "id": "b96a7d14",
   "metadata": {},
   "outputs": [],
   "source": [
    "f.close()"
   ]
  },
  {
   "cell_type": "code",
   "execution_count": 11,
   "id": "9a4a374c",
   "metadata": {},
   "outputs": [
    {
     "name": "stdout",
     "output_type": "stream",
     "text": [
      "Writing test2.txt\n"
     ]
    }
   ],
   "source": [
    "%%writefile test2.txt\n",
    "This is my second operation to do something in my text2.txt"
   ]
  },
  {
   "cell_type": "code",
   "execution_count": 12,
   "id": "d458133c",
   "metadata": {},
   "outputs": [],
   "source": [
    "f = open(\"test2.txt\")"
   ]
  },
  {
   "cell_type": "code",
   "execution_count": 13,
   "id": "da750bf4",
   "metadata": {},
   "outputs": [
    {
     "data": {
      "text/plain": [
       "'This is my second operation to do something in my text2.txt\\n'"
      ]
     },
     "execution_count": 13,
     "metadata": {},
     "output_type": "execute_result"
    }
   ],
   "source": [
    "f.read()"
   ]
  },
  {
   "cell_type": "code",
   "execution_count": 14,
   "id": "052c6f04",
   "metadata": {},
   "outputs": [
    {
     "ename": "UnsupportedOperation",
     "evalue": "not writable",
     "output_type": "error",
     "traceback": [
      "\u001b[1;31m---------------------------------------------------------------------------\u001b[0m",
      "\u001b[1;31mUnsupportedOperation\u001b[0m                      Traceback (most recent call last)",
      "\u001b[1;32m<ipython-input-14-c0dfa1d5d8da>\u001b[0m in \u001b[0;36m<module>\u001b[1;34m\u001b[0m\n\u001b[1;32m----> 1\u001b[1;33m \u001b[0mf\u001b[0m\u001b[1;33m.\u001b[0m\u001b[0mwrite\u001b[0m\u001b[1;33m(\u001b[0m\u001b[1;34m\"sudh\"\u001b[0m\u001b[1;33m)\u001b[0m\u001b[1;33m\u001b[0m\u001b[1;33m\u001b[0m\u001b[0m\n\u001b[0m",
      "\u001b[1;31mUnsupportedOperation\u001b[0m: not writable"
     ]
    }
   ],
   "source": [
    "f.write(\"sudh\")"
   ]
  },
  {
   "cell_type": "code",
   "execution_count": 15,
   "id": "e2aaaec2",
   "metadata": {},
   "outputs": [
    {
     "data": {
      "text/plain": [
       "''"
      ]
     },
     "execution_count": 15,
     "metadata": {},
     "output_type": "execute_result"
    }
   ],
   "source": [
    "f.read()"
   ]
  },
  {
   "cell_type": "code",
   "execution_count": 16,
   "id": "b830d994",
   "metadata": {},
   "outputs": [
    {
     "data": {
      "text/plain": [
       "5"
      ]
     },
     "execution_count": 16,
     "metadata": {},
     "output_type": "execute_result"
    }
   ],
   "source": [
    "f.seek(5)"
   ]
  },
  {
   "cell_type": "code",
   "execution_count": 17,
   "id": "066998da",
   "metadata": {},
   "outputs": [
    {
     "data": {
      "text/plain": [
       "'is my second operation to do something in my text2.txt\\n'"
      ]
     },
     "execution_count": 17,
     "metadata": {},
     "output_type": "execute_result"
    }
   ],
   "source": [
    "f.read()"
   ]
  },
  {
   "cell_type": "code",
   "execution_count": 18,
   "id": "33a0bd45",
   "metadata": {},
   "outputs": [
    {
     "data": {
      "text/plain": [
       "0"
      ]
     },
     "execution_count": 18,
     "metadata": {},
     "output_type": "execute_result"
    }
   ],
   "source": [
    "f.seek(0)"
   ]
  },
  {
   "cell_type": "code",
   "execution_count": 19,
   "id": "d063a804",
   "metadata": {},
   "outputs": [
    {
     "data": {
      "text/plain": [
       "'This is my second operation to do something in my text2.txt\\n'"
      ]
     },
     "execution_count": 19,
     "metadata": {},
     "output_type": "execute_result"
    }
   ],
   "source": [
    "f.read()"
   ]
  },
  {
   "cell_type": "code",
   "execution_count": 20,
   "id": "4f297684",
   "metadata": {},
   "outputs": [
    {
     "data": {
      "text/plain": [
       "61"
      ]
     },
     "execution_count": 20,
     "metadata": {},
     "output_type": "execute_result"
    }
   ],
   "source": [
    "f.tell()"
   ]
  },
  {
   "cell_type": "code",
   "execution_count": 21,
   "id": "88b31427",
   "metadata": {},
   "outputs": [
    {
     "data": {
      "text/plain": [
       "10"
      ]
     },
     "execution_count": 21,
     "metadata": {},
     "output_type": "execute_result"
    }
   ],
   "source": [
    "f.seek(10)"
   ]
  },
  {
   "cell_type": "code",
   "execution_count": 22,
   "id": "dc0682df",
   "metadata": {},
   "outputs": [
    {
     "data": {
      "text/plain": [
       "10"
      ]
     },
     "execution_count": 22,
     "metadata": {},
     "output_type": "execute_result"
    }
   ],
   "source": [
    "f.tell()"
   ]
  },
  {
   "cell_type": "code",
   "execution_count": 30,
   "id": "78ece4c2",
   "metadata": {},
   "outputs": [],
   "source": [
    "f.close()"
   ]
  },
  {
   "cell_type": "code",
   "execution_count": 31,
   "id": "7413388e",
   "metadata": {},
   "outputs": [],
   "source": [
    "f = open('test.txt',\"r+\")"
   ]
  },
  {
   "cell_type": "code",
   "execution_count": 32,
   "id": "3fcc605c",
   "metadata": {},
   "outputs": [
    {
     "data": {
      "text/plain": [
       "'This is my first operation to something in my text.txt\\n\\nfazlullah bokhari\\n\\nfaiz\\nfazlu\\nmunger\\nb.tech'"
      ]
     },
     "execution_count": 32,
     "metadata": {},
     "output_type": "execute_result"
    }
   ],
   "source": [
    "f.read()"
   ]
  },
  {
   "cell_type": "code",
   "execution_count": 33,
   "id": "6a55bcde",
   "metadata": {},
   "outputs": [
    {
     "data": {
      "text/plain": [
       "''"
      ]
     },
     "execution_count": 33,
     "metadata": {},
     "output_type": "execute_result"
    }
   ],
   "source": [
    "f.readline()"
   ]
  },
  {
   "cell_type": "code",
   "execution_count": 34,
   "id": "bca60b20",
   "metadata": {},
   "outputs": [
    {
     "data": {
      "text/plain": [
       "99"
      ]
     },
     "execution_count": 34,
     "metadata": {},
     "output_type": "execute_result"
    }
   ],
   "source": [
    "f.tell()"
   ]
  },
  {
   "cell_type": "code",
   "execution_count": 35,
   "id": "2b9f7228",
   "metadata": {},
   "outputs": [
    {
     "data": {
      "text/plain": [
       "0"
      ]
     },
     "execution_count": 35,
     "metadata": {},
     "output_type": "execute_result"
    }
   ],
   "source": [
    "f.seek(0)"
   ]
  },
  {
   "cell_type": "code",
   "execution_count": 36,
   "id": "dab3da59",
   "metadata": {},
   "outputs": [
    {
     "data": {
      "text/plain": [
       "'This is my first operation to something in my text.txt\\n'"
      ]
     },
     "execution_count": 36,
     "metadata": {},
     "output_type": "execute_result"
    }
   ],
   "source": [
    "f.readline()"
   ]
  },
  {
   "cell_type": "code",
   "execution_count": 37,
   "id": "caa3b517",
   "metadata": {},
   "outputs": [
    {
     "data": {
      "text/plain": [
       "'\\n'"
      ]
     },
     "execution_count": 37,
     "metadata": {},
     "output_type": "execute_result"
    }
   ],
   "source": [
    "f.readline()"
   ]
  },
  {
   "cell_type": "code",
   "execution_count": 38,
   "id": "eec436c4",
   "metadata": {},
   "outputs": [
    {
     "data": {
      "text/plain": [
       "'fazlullah bokhari\\n'"
      ]
     },
     "execution_count": 38,
     "metadata": {},
     "output_type": "execute_result"
    }
   ],
   "source": [
    "f.readline()"
   ]
  },
  {
   "cell_type": "code",
   "execution_count": 39,
   "id": "1d333cbc",
   "metadata": {},
   "outputs": [
    {
     "data": {
      "text/plain": [
       "'\\n'"
      ]
     },
     "execution_count": 39,
     "metadata": {},
     "output_type": "execute_result"
    }
   ],
   "source": [
    "f.readline()"
   ]
  },
  {
   "cell_type": "code",
   "execution_count": 40,
   "id": "38056bd0",
   "metadata": {},
   "outputs": [
    {
     "data": {
      "text/plain": [
       "'faiz\\n'"
      ]
     },
     "execution_count": 40,
     "metadata": {},
     "output_type": "execute_result"
    }
   ],
   "source": [
    "f.readline()"
   ]
  },
  {
   "cell_type": "code",
   "execution_count": 41,
   "id": "d846773f",
   "metadata": {},
   "outputs": [],
   "source": [
    "f.close()"
   ]
  },
  {
   "cell_type": "code",
   "execution_count": 42,
   "id": "9adb3c47",
   "metadata": {},
   "outputs": [],
   "source": [
    "f = open(\"google.txt\", \"w\")"
   ]
  },
  {
   "cell_type": "code",
   "execution_count": 53,
   "id": "ddeaf2e7",
   "metadata": {},
   "outputs": [
    {
     "data": {
      "text/plain": [
       "385"
      ]
     },
     "execution_count": 53,
     "metadata": {},
     "output_type": "execute_result"
    }
   ],
   "source": [
    "f.write(\"\"\"The MediaWiki software is used by tens of thousands of websites and thousands of companies and organizations. It powers Wikipedia and also this website. MediaWiki helps you collect and organize knowledge and make it available to people. It's powerful, multilingual, free and open, extensible, customizable, reliable, and free of charge. Find out more and if MediaWiki is right for you.\"\"\")"
   ]
  },
  {
   "cell_type": "code",
   "execution_count": 54,
   "id": "3e44c5bc",
   "metadata": {},
   "outputs": [],
   "source": [
    "f.close()"
   ]
  },
  {
   "cell_type": "code",
   "execution_count": 55,
   "id": "7a3a2cb9",
   "metadata": {},
   "outputs": [],
   "source": [
    "f = open(\"google.txt\", \"r+\")"
   ]
  },
  {
   "cell_type": "code",
   "execution_count": 56,
   "id": "b475ea52",
   "metadata": {},
   "outputs": [
    {
     "data": {
      "text/plain": [
       "\"ggThe MediaWiki software is used by tens of thousands of websites and thousands of companies and organizations. It powers Wikipedia and also this website. MediaWiki helps you collect and organize knowledge and make it available to people. It's powerful, multilingual, free and open, extensible, customizable, reliable, and free of charge. Find out more and if MediaWiki is right for you.\""
      ]
     },
     "execution_count": 56,
     "metadata": {},
     "output_type": "execute_result"
    }
   ],
   "source": [
    "f.read()"
   ]
  },
  {
   "cell_type": "code",
   "execution_count": 58,
   "id": "e96a69cb",
   "metadata": {},
   "outputs": [
    {
     "data": {
      "text/plain": [
       "0"
      ]
     },
     "execution_count": 58,
     "metadata": {},
     "output_type": "execute_result"
    }
   ],
   "source": [
    "f.seek(0)"
   ]
  },
  {
   "cell_type": "code",
   "execution_count": 59,
   "id": "0f372426",
   "metadata": {},
   "outputs": [
    {
     "data": {
      "text/plain": [
       "\"ggThe MediaWiki software is used by tens of thousands of websites and thousands of companies and organizations. It powers Wikipedia and also this website. MediaWiki helps you collect and organize knowledge and make it available to people. It's powerful, multilingual, free and open, extensible, customizable, reliable, and free of charge. Find out more and if MediaWiki is right for you.\""
      ]
     },
     "execution_count": 59,
     "metadata": {},
     "output_type": "execute_result"
    }
   ],
   "source": [
    "f.readline()"
   ]
  },
  {
   "cell_type": "code",
   "execution_count": 60,
   "id": "c9feb9af",
   "metadata": {},
   "outputs": [],
   "source": [
    "f.close()"
   ]
  },
  {
   "cell_type": "code",
   "execution_count": 63,
   "id": "f3e76739",
   "metadata": {},
   "outputs": [
    {
     "name": "stdout",
     "output_type": "stream",
     "text": [
      "ggThe MediaWiki software is used by tens of thousands of websites and thousands of companies and organizations. It powers Wikipedia and also this website. MediaWiki helps you collect and organize knowledge and make it available to people. It's powerful, multilingual, free and open, extensible, customizable, reliable, and free of charge. Find out more and if MediaWiki is right for you.fazlullah bokhari "
     ]
    }
   ],
   "source": [
    "f = open(\"google.txt\", \"r+\")\n",
    "for line in f:\n",
    "    print(line, end=\" \")         "
   ]
  },
  {
   "cell_type": "code",
   "execution_count": 62,
   "id": "3ec9ea58",
   "metadata": {},
   "outputs": [
    {
     "data": {
      "text/plain": [
       "17"
      ]
     },
     "execution_count": 62,
     "metadata": {},
     "output_type": "execute_result"
    }
   ],
   "source": [
    "f.write(\"fazlullah bokhari\")"
   ]
  },
  {
   "cell_type": "code",
   "execution_count": 64,
   "id": "ad8799b6",
   "metadata": {},
   "outputs": [
    {
     "data": {
      "text/plain": [
       "404"
      ]
     },
     "execution_count": 64,
     "metadata": {},
     "output_type": "execute_result"
    }
   ],
   "source": [
    "f.tell()"
   ]
  },
  {
   "cell_type": "code",
   "execution_count": 65,
   "id": "d707f44d",
   "metadata": {},
   "outputs": [
    {
     "data": {
      "text/plain": [
       "5"
      ]
     },
     "execution_count": 65,
     "metadata": {},
     "output_type": "execute_result"
    }
   ],
   "source": [
    "f.seek(5)"
   ]
  },
  {
   "cell_type": "code",
   "execution_count": 66,
   "id": "9344e53a",
   "metadata": {},
   "outputs": [
    {
     "data": {
      "text/plain": [
       "22"
      ]
     },
     "execution_count": 66,
     "metadata": {},
     "output_type": "execute_result"
    }
   ],
   "source": [
    "f.write(\"write at 5th location \")"
   ]
  },
  {
   "cell_type": "code",
   "execution_count": 67,
   "id": "33652958",
   "metadata": {},
   "outputs": [
    {
     "data": {
      "text/plain": [
       "\" used by tens of thousands of websites and thousands of companies and organizations. It powers Wikipedia and also this website. MediaWiki helps you collect and organize knowledge and make it available to people. It's powerful, multilingual, free and open, extensible, customizable, reliable, and free of charge. Find out more and if MediaWiki is right for you.fazlullah bokhari\""
      ]
     },
     "execution_count": 67,
     "metadata": {},
     "output_type": "execute_result"
    }
   ],
   "source": [
    "f.read()"
   ]
  },
  {
   "cell_type": "code",
   "execution_count": 81,
   "id": "d8689488",
   "metadata": {},
   "outputs": [
    {
     "data": {
      "text/plain": [
       "404"
      ]
     },
     "execution_count": 81,
     "metadata": {},
     "output_type": "execute_result"
    }
   ],
   "source": [
    "f.tell()"
   ]
  },
  {
   "cell_type": "code",
   "execution_count": 82,
   "id": "c8b75af3",
   "metadata": {},
   "outputs": [
    {
     "data": {
      "text/plain": [
       "0"
      ]
     },
     "execution_count": 82,
     "metadata": {},
     "output_type": "execute_result"
    }
   ],
   "source": [
    "f.seek(0)"
   ]
  },
  {
   "cell_type": "code",
   "execution_count": 70,
   "id": "fe87cb4d",
   "metadata": {},
   "outputs": [
    {
     "data": {
      "text/plain": [
       "\"ggThewrite at 5th location  used by tens of thousands of websites and thousands of companies and organizations. It powers Wikipedia and also this website. MediaWiki helps you collect and organize knowledge and make it available to people. It's powerful, multilingual, free and open, extensible, customizable, reliable, and free of charge. Find out more and if MediaWiki is right for you.fazlullah bokhari\""
      ]
     },
     "execution_count": 70,
     "metadata": {},
     "output_type": "execute_result"
    }
   ],
   "source": [
    "f.read()"
   ]
  },
  {
   "cell_type": "code",
   "execution_count": 80,
   "id": "33aa9712",
   "metadata": {},
   "outputs": [
    {
     "data": {
      "text/plain": [
       "[\"ggThewrite at 5th location  used by tens of thousands of websites and thousands of companies and organizations. It powers Wikipedia and also this website. MediaWiki helps you collect and organize knowledge and make it available to people. It's powerful, multilingual, free and open, extensible, customizable, reliable, and free of charge. Find out more and if MediaWiki is right for you.fazlullah bokhari\"]"
      ]
     },
     "execution_count": 80,
     "metadata": {},
     "output_type": "execute_result"
    }
   ],
   "source": [
    "f.readlines()"
   ]
  },
  {
   "cell_type": "code",
   "execution_count": 76,
   "id": "1ef410eb",
   "metadata": {},
   "outputs": [
    {
     "data": {
      "text/plain": [
       "1"
      ]
     },
     "execution_count": 76,
     "metadata": {},
     "output_type": "execute_result"
    }
   ],
   "source": [
    "len(f.readlines())"
   ]
  },
  {
   "cell_type": "code",
   "execution_count": 83,
   "id": "9a2aef87",
   "metadata": {},
   "outputs": [],
   "source": [
    "l = f.readlines()"
   ]
  },
  {
   "cell_type": "code",
   "execution_count": 84,
   "id": "c6d838c4",
   "metadata": {},
   "outputs": [
    {
     "data": {
      "text/plain": [
       "['ggThewrite',\n",
       " 'at',\n",
       " '5th',\n",
       " 'location',\n",
       " 'used',\n",
       " 'by',\n",
       " 'tens',\n",
       " 'of',\n",
       " 'thousands',\n",
       " 'of',\n",
       " 'websites',\n",
       " 'and',\n",
       " 'thousands',\n",
       " 'of',\n",
       " 'companies',\n",
       " 'and',\n",
       " 'organizations.',\n",
       " 'It',\n",
       " 'powers',\n",
       " 'Wikipedia',\n",
       " 'and',\n",
       " 'also',\n",
       " 'this',\n",
       " 'website.',\n",
       " 'MediaWiki',\n",
       " 'helps',\n",
       " 'you',\n",
       " 'collect',\n",
       " 'and',\n",
       " 'organize',\n",
       " 'knowledge',\n",
       " 'and',\n",
       " 'make',\n",
       " 'it',\n",
       " 'available',\n",
       " 'to',\n",
       " 'people.',\n",
       " \"It's\",\n",
       " 'powerful,',\n",
       " 'multilingual,',\n",
       " 'free',\n",
       " 'and',\n",
       " 'open,',\n",
       " 'extensible,',\n",
       " 'customizable,',\n",
       " 'reliable,',\n",
       " 'and',\n",
       " 'free',\n",
       " 'of',\n",
       " 'charge.',\n",
       " 'Find',\n",
       " 'out',\n",
       " 'more',\n",
       " 'and',\n",
       " 'if',\n",
       " 'MediaWiki',\n",
       " 'is',\n",
       " 'right',\n",
       " 'for',\n",
       " 'you.fazlullah',\n",
       " 'bokhari']"
      ]
     },
     "execution_count": 84,
     "metadata": {},
     "output_type": "execute_result"
    }
   ],
   "source": [
    "l[0].split()"
   ]
  },
  {
   "cell_type": "code",
   "execution_count": 89,
   "id": "42e1f1dc",
   "metadata": {},
   "outputs": [
    {
     "name": "stdout",
     "output_type": "stream",
     "text": [
      "['g', 'a', '5', 'l', 'u', 'b', 't', 'o', 't', 'o', 'w', 'a', 't', 'o', 'c', 'a', 'o', 'I', 'p', 'W', 'a', 'a', 't', 'w', 'M', 'h', 'y', 'c', 'a', 'o', 'k', 'a', 'm', 'i', 'a', 't', 'p', 'I', 'p', 'm', 'f', 'a', 'o', 'e', 'c', 'r', 'a', 'f', 'o', 'c', 'F', 'o', 'm', 'a', 'i', 'M', 'i', 'r', 'f', 'y', 'b']\n"
     ]
    }
   ],
   "source": [
    "l1 = []\n",
    "for i in l[0].split():\n",
    "    l1.append(i[0])\n",
    "print(l1)    "
   ]
  },
  {
   "cell_type": "code",
   "execution_count": 90,
   "id": "c781686f",
   "metadata": {},
   "outputs": [
    {
     "data": {
      "text/plain": [
       "'google.txt'"
      ]
     },
     "execution_count": 90,
     "metadata": {},
     "output_type": "execute_result"
    }
   ],
   "source": [
    "f.name"
   ]
  },
  {
   "cell_type": "code",
   "execution_count": 91,
   "id": "14562752",
   "metadata": {},
   "outputs": [],
   "source": [
    "l = [\"This is my line 1\",\"This is my line 2\",\"This is my line 3\",\"This is my line 4\"]"
   ]
  },
  {
   "cell_type": "code",
   "execution_count": 95,
   "id": "6422a031",
   "metadata": {},
   "outputs": [
    {
     "data": {
      "text/plain": [
       "20"
      ]
     },
     "execution_count": 95,
     "metadata": {},
     "output_type": "execute_result"
    }
   ],
   "source": [
    "f.tell()"
   ]
  },
  {
   "cell_type": "code",
   "execution_count": 94,
   "id": "e9030bd8",
   "metadata": {},
   "outputs": [
    {
     "data": {
      "text/plain": [
       "20"
      ]
     },
     "execution_count": 94,
     "metadata": {},
     "output_type": "execute_result"
    }
   ],
   "source": [
    "f.seek(20)"
   ]
  },
  {
   "cell_type": "code",
   "execution_count": 96,
   "id": "b160c813",
   "metadata": {},
   "outputs": [
    {
     "data": {
      "text/plain": [
       "36"
      ]
     },
     "execution_count": 96,
     "metadata": {},
     "output_type": "execute_result"
    }
   ],
   "source": [
    "f.write(\" I can write lines at current cursor\")"
   ]
  },
  {
   "cell_type": "code",
   "execution_count": 97,
   "id": "648fcec9",
   "metadata": {},
   "outputs": [],
   "source": [
    "f.writelines(l)"
   ]
  },
  {
   "cell_type": "code",
   "execution_count": 98,
   "id": "c5411243",
   "metadata": {},
   "outputs": [],
   "source": [
    "f.close()"
   ]
  },
  {
   "cell_type": "code",
   "execution_count": 99,
   "id": "ef7c0e83",
   "metadata": {},
   "outputs": [],
   "source": [
    "f = open(\"google.txt\", \"r+\")"
   ]
  },
  {
   "cell_type": "code",
   "execution_count": 100,
   "id": "8b9e8d38",
   "metadata": {},
   "outputs": [
    {
     "data": {
      "text/plain": [
       "4"
      ]
     },
     "execution_count": 100,
     "metadata": {},
     "output_type": "execute_result"
    }
   ],
   "source": [
    "f.fileno()"
   ]
  },
  {
   "cell_type": "code",
   "execution_count": 101,
   "id": "bca166bc",
   "metadata": {},
   "outputs": [
    {
     "name": "stdout",
     "output_type": "stream",
     "text": [
      " Volume in drive C has no label.\n",
      " Volume Serial Number is BEC0-260A\n",
      "\n",
      " Directory of C:\\Users\\fazlu\\Working_space\\class\\python\n",
      "\n",
      "11-01-2022  14:39    <DIR>          .\n",
      "11-01-2022  14:39    <DIR>          ..\n",
      "11-01-2022  12:14    <DIR>          .ipynb_checkpoints\n",
      "07-01-2022  21:31           494,904 control flow in python.ipynb\n",
      "11-01-2022  14:39            23,597 file system.ipynb\n",
      "11-01-2022  12:07            41,925 function.ipynb\n",
      "11-01-2022  14:39               404 google.txt\n",
      "03-01-2022  16:40           103,975 Python Basic.ipynb\n",
      "11-01-2022  12:44                99 test.txt\n",
      "11-01-2022  12:31                61 test2.txt\n",
      "               7 File(s)        664,965 bytes\n",
      "               3 Dir(s)  399,938,842,624 bytes free\n"
     ]
    }
   ],
   "source": [
    "ls"
   ]
  },
  {
   "cell_type": "code",
   "execution_count": 104,
   "id": "1f38ca97",
   "metadata": {},
   "outputs": [],
   "source": [
    "f.close()"
   ]
  },
  {
   "cell_type": "code",
   "execution_count": 105,
   "id": "6a597919",
   "metadata": {},
   "outputs": [],
   "source": [
    "import os"
   ]
  },
  {
   "cell_type": "code",
   "execution_count": 106,
   "id": "d94fba8d",
   "metadata": {},
   "outputs": [],
   "source": [
    "os.remove(\"google.txt\")"
   ]
  },
  {
   "cell_type": "code",
   "execution_count": 107,
   "id": "88120e2a",
   "metadata": {},
   "outputs": [
    {
     "data": {
      "text/plain": [
       "'C:\\\\Users\\\\fazlu\\\\Working_space\\\\class\\\\python'"
      ]
     },
     "execution_count": 107,
     "metadata": {},
     "output_type": "execute_result"
    }
   ],
   "source": [
    "os.getcwd()"
   ]
  },
  {
   "cell_type": "code",
   "execution_count": 108,
   "id": "adf0bb86",
   "metadata": {},
   "outputs": [
    {
     "data": {
      "text/plain": [
       "['.ipynb_checkpoints',\n",
       " 'control flow in python.ipynb',\n",
       " 'file system.ipynb',\n",
       " 'function.ipynb',\n",
       " 'Python Basic.ipynb',\n",
       " 'test.txt',\n",
       " 'test2.txt']"
      ]
     },
     "execution_count": 108,
     "metadata": {},
     "output_type": "execute_result"
    }
   ],
   "source": [
    "os.listdir()"
   ]
  },
  {
   "cell_type": "code",
   "execution_count": 109,
   "id": "deda18a6",
   "metadata": {},
   "outputs": [
    {
     "data": {
      "text/plain": [
       "['.ipynb_checkpoints',\n",
       " '2_linear_regression_multivariate.ipynb',\n",
       " 'class',\n",
       " 'College',\n",
       " 'data structures and algorithms in python',\n",
       " 'Data visualization',\n",
       " 'Datasets-master',\n",
       " 'Datasets-master.zip',\n",
       " 'Deep Learning',\n",
       " 'EDA project',\n",
       " 'equation.jpg',\n",
       " 'fastai_deepl_earning',\n",
       " 'feynn labs Internship',\n",
       " 'general_equation.jpg',\n",
       " 'homeprices.csv',\n",
       " 'homeprices.jpg',\n",
       " 'home_equation.jpg',\n",
       " 'house_prices.csv',\n",
       " 'Machine Learning',\n",
       " 'Machine Learning projects',\n",
       " 'Multiple Linear Regression.ipynb',\n",
       " 'Python_Training',\n",
       " 'test-dataset.csv',\n",
       " 'Untitled Folder',\n",
       " 'Untitled.ipynb',\n",
       " 'Untitled1.ipynb',\n",
       " 'YouTube']"
      ]
     },
     "execution_count": 109,
     "metadata": {},
     "output_type": "execute_result"
    }
   ],
   "source": [
    "os.listdir(\"C:\\\\Users\\\\fazlu\\\\Working_space\")"
   ]
  },
  {
   "cell_type": "code",
   "execution_count": 110,
   "id": "c39d3c57",
   "metadata": {},
   "outputs": [
    {
     "data": {
      "text/plain": [
       "'C:\\\\Users\\\\fazlu\\\\Working_space\\\\class\\\\python'"
      ]
     },
     "execution_count": 110,
     "metadata": {},
     "output_type": "execute_result"
    }
   ],
   "source": [
    "os.getcwd()"
   ]
  },
  {
   "cell_type": "raw",
   "id": "e8d65e7d",
   "metadata": {},
   "source": [
    "r\tOnly for reading. The pointer is located at the start of file and it’s a default mode.\n",
    "rb\tOnly for reading in a binary format. The pointer is located at the start of file and it’s a default mode.\n",
    "r+\tTo opens a file for the both writing and reading. The pointer is located at the start of file.\n",
    "rb+\tFor the both writing and reading operation in binary format. The pointer is located at the start of file.\n",
    "w\tOnly for writing. Check for existing file, if its present overwrites in the exists file. If there is no any existing file then, makes a novel file for the writing.\n",
    "wb\tOnly for writing in a binary format. Check for existing file, if its present overwrites in the exists file. If there is no any existing file then, makes a novel file for the writing.\n",
    "w+\tFor the both writing and reading operation. Check for existing file, if its present overwrites in the exists file. If there is no any existing file then, makes a novel file for the writing and reading.\n",
    "wb+\tFor the both writing and reading operation in binary format. Check for existing file, if its present overwrites in the exists file. If there is no any existing file then, makes a novel file for the writing and reading.\n",
    "a\topens the file for appending; any data written to the file is automatically added to the end. Check for existing file, if its present pointer is set at last of existing file for appending operation. If there is no any existing file then, makes a novel file for the writing."
   ]
  },
  {
   "cell_type": "code",
   "execution_count": 112,
   "id": "d6c02269",
   "metadata": {},
   "outputs": [],
   "source": [
    "#3:12"
   ]
  },
  {
   "cell_type": "code",
   "execution_count": null,
   "id": "a4678df3",
   "metadata": {},
   "outputs": [],
   "source": []
  }
 ],
 "metadata": {
  "kernelspec": {
   "display_name": "Python 3",
   "language": "python",
   "name": "python3"
  },
  "language_info": {
   "codemirror_mode": {
    "name": "ipython",
    "version": 3
   },
   "file_extension": ".py",
   "mimetype": "text/x-python",
   "name": "python",
   "nbconvert_exporter": "python",
   "pygments_lexer": "ipython3",
   "version": "3.8.8"
  }
 },
 "nbformat": 4,
 "nbformat_minor": 5
}
