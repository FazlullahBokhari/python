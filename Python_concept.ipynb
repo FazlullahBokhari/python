{
 "cells": [
  {
   "cell_type": "code",
   "execution_count": 11,
   "id": "9f9d2de0",
   "metadata": {},
   "outputs": [],
   "source": [
    "l = [1,2,3,4]\n",
    "it1 = iter(l)"
   ]
  },
  {
   "cell_type": "code",
   "execution_count": 12,
   "id": "deab63c6",
   "metadata": {},
   "outputs": [
    {
     "ename": "TypeError",
     "evalue": "'list' object is not an iterator",
     "output_type": "error",
     "traceback": [
      "\u001b[1;31m---------------------------------------------------------------------------\u001b[0m",
      "\u001b[1;31mTypeError\u001b[0m                                 Traceback (most recent call last)",
      "\u001b[1;32m~\\AppData\\Local\\Temp/ipykernel_11532/3335607625.py\u001b[0m in \u001b[0;36m<module>\u001b[1;34m\u001b[0m\n\u001b[0;32m      1\u001b[0m \u001b[1;32mwhile\u001b[0m \u001b[1;32mTrue\u001b[0m\u001b[1;33m:\u001b[0m\u001b[1;33m\u001b[0m\u001b[1;33m\u001b[0m\u001b[0m\n\u001b[0;32m      2\u001b[0m     \u001b[1;32mtry\u001b[0m\u001b[1;33m:\u001b[0m\u001b[1;33m\u001b[0m\u001b[1;33m\u001b[0m\u001b[0m\n\u001b[1;32m----> 3\u001b[1;33m         \u001b[0mprint\u001b[0m\u001b[1;33m(\u001b[0m\u001b[0mnext\u001b[0m\u001b[1;33m(\u001b[0m\u001b[0ml\u001b[0m\u001b[1;33m)\u001b[0m\u001b[1;33m)\u001b[0m\u001b[1;33m\u001b[0m\u001b[1;33m\u001b[0m\u001b[0m\n\u001b[0m\u001b[0;32m      4\u001b[0m     \u001b[1;32mexcept\u001b[0m \u001b[0mStopIteration\u001b[0m \u001b[1;32mas\u001b[0m \u001b[0ms\u001b[0m\u001b[1;33m:\u001b[0m\u001b[1;33m\u001b[0m\u001b[1;33m\u001b[0m\u001b[0m\n\u001b[0;32m      5\u001b[0m         \u001b[0mprint\u001b[0m\u001b[1;33m(\u001b[0m\u001b[0ms\u001b[0m\u001b[1;33m)\u001b[0m\u001b[1;33m\u001b[0m\u001b[1;33m\u001b[0m\u001b[0m\n",
      "\u001b[1;31mTypeError\u001b[0m: 'list' object is not an iterator"
     ]
    }
   ],
   "source": [
    "while True:\n",
    "    try:\n",
    "        print(next(l))\n",
    "    except StopIteration as s:\n",
    "        print(s)\n",
    "        break"
   ]
  },
  {
   "cell_type": "code",
   "execution_count": 13,
   "id": "4c358a64",
   "metadata": {},
   "outputs": [
    {
     "name": "stdout",
     "output_type": "stream",
     "text": [
      "1\n",
      "2\n",
      "3\n",
      "4\n",
      "\n"
     ]
    }
   ],
   "source": [
    "while True:\n",
    "    try:\n",
    "        print(next(it1))\n",
    "    except StopIteration as s:\n",
    "        print(s)\n",
    "        break"
   ]
  },
  {
   "cell_type": "code",
   "execution_count": 14,
   "id": "c20e91e3",
   "metadata": {},
   "outputs": [],
   "source": [
    "def sum_numbers(a,b):\n",
    "    return a+b"
   ]
  },
  {
   "cell_type": "code",
   "execution_count": null,
   "id": "0783e65c",
   "metadata": {},
   "outputs": [],
   "source": []
  },
  {
   "cell_type": "code",
   "execution_count": 15,
   "id": "8efdd99c",
   "metadata": {},
   "outputs": [],
   "source": [
    "def genrate_number():\n",
    "    yield 1\n",
    "    yield 2\n",
    "    yield 3"
   ]
  },
  {
   "cell_type": "code",
   "execution_count": 25,
   "id": "1e32a704",
   "metadata": {},
   "outputs": [],
   "source": [
    "gen1 = genrate_number()"
   ]
  },
  {
   "cell_type": "code",
   "execution_count": 26,
   "id": "14aebeb7",
   "metadata": {},
   "outputs": [
    {
     "data": {
      "text/plain": [
       "1"
      ]
     },
     "execution_count": 26,
     "metadata": {},
     "output_type": "execute_result"
    }
   ],
   "source": [
    "next(gen1)"
   ]
  },
  {
   "cell_type": "code",
   "execution_count": 27,
   "id": "486c3e53",
   "metadata": {},
   "outputs": [
    {
     "data": {
      "text/plain": [
       "2"
      ]
     },
     "execution_count": 27,
     "metadata": {},
     "output_type": "execute_result"
    }
   ],
   "source": [
    "next(gen1)"
   ]
  },
  {
   "cell_type": "code",
   "execution_count": 28,
   "id": "ff8fd257",
   "metadata": {},
   "outputs": [
    {
     "data": {
      "text/plain": [
       "3"
      ]
     },
     "execution_count": 28,
     "metadata": {},
     "output_type": "execute_result"
    }
   ],
   "source": [
    "next(gen1)"
   ]
  },
  {
   "cell_type": "code",
   "execution_count": 29,
   "id": "f1e3af9b",
   "metadata": {},
   "outputs": [
    {
     "ename": "StopIteration",
     "evalue": "",
     "output_type": "error",
     "traceback": [
      "\u001b[1;31m---------------------------------------------------------------------------\u001b[0m",
      "\u001b[1;31mStopIteration\u001b[0m                             Traceback (most recent call last)",
      "\u001b[1;32m~\\AppData\\Local\\Temp/ipykernel_11532/3608331878.py\u001b[0m in \u001b[0;36m<module>\u001b[1;34m\u001b[0m\n\u001b[1;32m----> 1\u001b[1;33m \u001b[0mnext\u001b[0m\u001b[1;33m(\u001b[0m\u001b[0mgen1\u001b[0m\u001b[1;33m)\u001b[0m\u001b[1;33m\u001b[0m\u001b[1;33m\u001b[0m\u001b[0m\n\u001b[0m",
      "\u001b[1;31mStopIteration\u001b[0m: "
     ]
    }
   ],
   "source": [
    "next(gen1)"
   ]
  },
  {
   "cell_type": "code",
   "execution_count": 31,
   "id": "a160ead2",
   "metadata": {},
   "outputs": [],
   "source": [
    "gen1 = genrate_number()"
   ]
  },
  {
   "cell_type": "code",
   "execution_count": 32,
   "id": "eb2b7551",
   "metadata": {},
   "outputs": [
    {
     "name": "stdout",
     "output_type": "stream",
     "text": [
      "1\n",
      "2\n",
      "3\n"
     ]
    }
   ],
   "source": [
    "for i in gen1:\n",
    "    print(i)"
   ]
  },
  {
   "cell_type": "code",
   "execution_count": 18,
   "id": "d67d8853",
   "metadata": {},
   "outputs": [
    {
     "data": {
      "text/plain": [
       "generator"
      ]
     },
     "execution_count": 18,
     "metadata": {},
     "output_type": "execute_result"
    }
   ],
   "source": [
    "type(genrate_number())"
   ]
  },
  {
   "cell_type": "code",
   "execution_count": 33,
   "id": "12c9e93a",
   "metadata": {},
   "outputs": [],
   "source": [
    "str1 = \"fazlullah@$%\""
   ]
  },
  {
   "cell_type": "code",
   "execution_count": 39,
   "id": "fcbb1c4d",
   "metadata": {},
   "outputs": [],
   "source": [
    "word1 = ''.join(char for char in str1 if  char.isalnum())"
   ]
  },
  {
   "cell_type": "code",
   "execution_count": 40,
   "id": "504ec567",
   "metadata": {},
   "outputs": [
    {
     "data": {
      "text/plain": [
       "'fazlullah'"
      ]
     },
     "execution_count": 40,
     "metadata": {},
     "output_type": "execute_result"
    }
   ],
   "source": [
    "word1"
   ]
  },
  {
   "cell_type": "code",
   "execution_count": 38,
   "id": "2b2b26cd",
   "metadata": {},
   "outputs": [
    {
     "name": "stdout",
     "output_type": "stream",
     "text": [
      "HeyWhatsupbro\n"
     ]
    }
   ],
   "source": [
    "string = \"Hey! What's up bro?\"\n",
    "\n",
    "new_string = ''.join(char for char in string if char.isalnum())\n",
    "print(new_string)"
   ]
  },
  {
   "cell_type": "code",
   "execution_count": 44,
   "id": "bbc476ca",
   "metadata": {},
   "outputs": [
    {
     "name": "stdout",
     "output_type": "stream",
     "text": [
      "Lorem ipsum dolor sit amet, consectetur adipiscing elit. Aliquam sem odio, varius nec aliquam nec, tempor commodo ante. Pellentesque sit amet augue vel ante dictum placerat ut ut sapien. Proin maximus eu diam in posuere. Suspendisse in lectus in lectus finibus auctor. Nam sed porttitor arcu. Vestibulum augue odio, posuere quis libero sed, pharetra sollicitudin est. Donec sit amet nunc eu nisi malesuada elementum id ut purus.Nunc sit amet % massa rhoncus, venenatis eros sit amet, ornare augue. Nunc a mi sed est tincidunt facilisis at nec diam. Donec nec ex lorem. Morbi vitae diam tincidunt, dignissim arcu ut, facilisis nisi. Maecenas non felis #ullamcorper, viverra augue id, consequat_nunc. Suspendisse potenti. Proin tempor, sapien ut ornare placerat, sapien mauris luctus sapien, eget aliquam turpis urna at quam. Sed a&eros vel@ ante vestibulum vulputate. Suspendisse vitae vulputate velit. Suspendisse! ligula nisl, semper ut sodales et, ultricies porttitor felis. Nunc ac mattis erat, aliquet pretium risus. Nullam quis congue lacus, et mollis nulla. Nunc laoreet in nisi sit amet facili*sis. Cras rutrum justo ut eros mollis volutpat. Sed quis mi nunc. Nunc sed bibendum nibh, quis bibendum tortor. ,_!@*%#$.\n",
      ",\n",
      "3\n",
      "adipiscing\n"
     ]
    },
    {
     "ename": "ValueError",
     "evalue": "invalid literal for int() with base 10: 'adipiscing'",
     "output_type": "error",
     "traceback": [
      "\u001b[1;31m---------------------------------------------------------------------------\u001b[0m",
      "\u001b[1;31mValueError\u001b[0m                                Traceback (most recent call last)",
      "\u001b[1;32m~\\AppData\\Local\\Temp/ipykernel_11532/4049292686.py\u001b[0m in \u001b[0;36m<module>\u001b[1;34m\u001b[0m\n\u001b[0;32m     92\u001b[0m     \u001b[0mspch2\u001b[0m \u001b[1;33m=\u001b[0m \u001b[0minput\u001b[0m\u001b[1;33m(\u001b[0m\u001b[1;33m)\u001b[0m\u001b[1;33m\u001b[0m\u001b[1;33m\u001b[0m\u001b[0m\n\u001b[0;32m     93\u001b[0m \u001b[1;33m\u001b[0m\u001b[0m\n\u001b[1;32m---> 94\u001b[1;33m     \u001b[0mqw1_count\u001b[0m \u001b[1;33m=\u001b[0m \u001b[0mint\u001b[0m\u001b[1;33m(\u001b[0m\u001b[0minput\u001b[0m\u001b[1;33m(\u001b[0m\u001b[1;33m)\u001b[0m\u001b[1;33m.\u001b[0m\u001b[0mstrip\u001b[0m\u001b[1;33m(\u001b[0m\u001b[1;33m)\u001b[0m\u001b[1;33m)\u001b[0m\u001b[1;33m\u001b[0m\u001b[1;33m\u001b[0m\u001b[0m\n\u001b[0m\u001b[0;32m     95\u001b[0m \u001b[1;33m\u001b[0m\u001b[0m\n\u001b[0;32m     96\u001b[0m     \u001b[0mqw1\u001b[0m \u001b[1;33m=\u001b[0m \u001b[1;33m[\u001b[0m\u001b[1;33m]\u001b[0m\u001b[1;33m\u001b[0m\u001b[1;33m\u001b[0m\u001b[0m\n",
      "\u001b[1;31mValueError\u001b[0m: invalid literal for int() with base 10: 'adipiscing'"
     ]
    }
   ],
   "source": [
    "#!/bin/python3\n",
    "\n",
    "import math\n",
    "import os\n",
    "import random\n",
    "import re\n",
    "import sys\n",
    "\n",
    "\n",
    "\n",
    "#\n",
    "# Complete the 'strmethod' function below.\n",
    "#\n",
    "# The function accepts following parameters:\n",
    "#  1. STRING para\n",
    "#  2. STRING spch1\n",
    "#  3. STRING spch2\n",
    "#  4. LIST li1\n",
    "#  5. STRING strf\n",
    "#\n",
    "def stringmethod(para: str, special1: str, special2: str, list1: list, strfind: str):\n",
    "    tpara = para\n",
    "\n",
    "    \"\"\"\n",
    "    Remove all the special characters from para specified in special1 and save them in the variable word1.\n",
    "    Get the first 70 characters from word1, reverse the strings, save it in variable rword2, \n",
    "    and print it.\n",
    "    \"\"\"\n",
    "    for symbol in special1:\n",
    "        tpara = tpara.replace(symbol, '')\n",
    "    word1 = tpara\n",
    "    rword2 = word1[0:70]\n",
    "    rword2 = rword2[::-1]\n",
    "    print(rword2)\n",
    "\n",
    "    \"\"\"\n",
    "    Remove all the wide spaces from rword2, join the characters using the special \n",
    "    character specified in special2, and print the joint string.\n",
    "    \"\"\"\n",
    "    rword3 = special2.join(rword2.replace(\" \", ''))\n",
    "    print(rword3)\n",
    "\n",
    "    \"\"\"\n",
    "    If every string from list1 is present in para, then format the print statement as follows:\n",
    "    \"Every string in {list1} were present\"\n",
    "    else\"Every string in {list1} were not present\"\n",
    "    \"\"\"\n",
    "\n",
    "    status = True\n",
    "    for pattern in list1:\n",
    "        if pattern not in para:\n",
    "            status = False\n",
    "            break\n",
    "\n",
    "    if status == True:\n",
    "        print(\"Every string in\", list1, \"were present\")\n",
    "    else:\n",
    "        print(\"Every string in\", list1, \"were not present\")\n",
    "\n",
    "    \"\"\"\n",
    "    Split every word from word1 and print the first 20 strings as a list.\n",
    "    Calculate the less frequently used words whose count < 13**. and print the last 20 less frequent \n",
    "    words as a list.\n",
    "\n",
    "    *** Note: Count the words in the order that they appear\n",
    "    \"\"\"\n",
    "\n",
    "    spitted_word = word1.split(' ')\n",
    "    first_20 = spitted_word[:20]\n",
    "    print(first_20)\n",
    "\n",
    "    less_freq_word_lists = []\n",
    "\n",
    "    for word in spitted_word:\n",
    "        if word1.count(word) < 13:\n",
    "            if word not in less_freq_word_lists:\n",
    "                less_freq_word_lists.append(word)\n",
    "\n",
    "    print(less_freq_word_lists[-20:])\n",
    "\n",
    "    \"\"\"\n",
    "    Print the last index in word1, where the substring strfind is found.\n",
    "    \"\"\"\n",
    "    print(word1.rfind(strfind))\n",
    "\n",
    "\n",
    "if __name__ == '__main__':\n",
    "    para = input()\n",
    "\n",
    "    spch1 = input()\n",
    "\n",
    "    spch2 = input()\n",
    "    \n",
    "    qw1_count = int(input().strip())\n",
    "\n",
    "    qw1 = []\n",
    "\n",
    "    for _ in range(qw1_count):\n",
    "        qw1_item = input()\n",
    "        qw1.append(qw1_item)\n",
    "\n",
    "    strf = input()\n",
    "\n",
    "    stringmethod(para, spch1, spch2, qw1, strf)\n"
   ]
  },
  {
   "cell_type": "code",
   "execution_count": null,
   "id": "ac235b30",
   "metadata": {},
   "outputs": [],
   "source": [
    "Lorem ipsum dolor sit amet, consectetur adipiscing elit. Aliquam sem odio, varius nec aliquam nec, tempor commodo ante. Pellentesque sit amet augue vel ante dictum placerat ut ut sapien. Proin maximus eu diam in posuere. Suspendisse in lectus in lectus finibus auctor. Nam sed porttitor arcu. Vestibulum augue odio, posuere quis libero sed, pharetra sollicitudin est. Donec sit amet nunc eu nisi malesuada elementum id ut purus.Nunc sit amet % massa rhoncus, venenatis eros sit amet, ornare augue. Nunc a mi sed est tincidunt facilisis at nec diam. Donec nec ex lorem. Morbi vitae diam tincidunt, dignissim arcu ut, facilisis nisi. Maecenas non felis #ullamcorper, viverra augue id, consequat_nunc. Suspendisse potenti. Proin tempor, sapien ut ornare placerat, sapien mauris luctus sapien, eget aliquam turpis urna at quam. Sed a&eros vel@ ante vestibulum vulputate. Suspendisse vitae vulputate velit. Suspendisse! ligula nisl, semper ut sodales et, ultricies porttitor felis. Nunc ac mattis erat, aliquet pretium risus. Nullam quis congue lacus, et mollis nulla. Nunc laoreet in nisi sit amet facili*sis. Cras rutrum justo ut eros mollis volutpat. Sed quis mi nunc. Nunc sed bibendum nibh, quis bibendum tortor.\n",
    ",_!@*%#$.\n",
    ",\n",
    "3\n",
    "adipiscing\n",
    "Aliquam\n",
    "Suspendisse\n",
    "vulputate"
   ]
  },
  {
   "cell_type": "code",
   "execution_count": null,
   "id": "2523f52f",
   "metadata": {},
   "outputs": [],
   "source": []
  },
  {
   "cell_type": "code",
   "execution_count": 48,
   "id": "d34b0bde",
   "metadata": {},
   "outputs": [
    {
     "name": "stdout",
     "output_type": "stream",
     "text": [
      "10\n",
      "15\n",
      "34\n",
      "65\n",
      "111\n",
      "175\n",
      "260\n",
      "369\n",
      "505\n",
      "<class 'generator'>\n"
     ]
    }
   ],
   "source": [
    "def generator_Magic(n1):\n",
    "    # Write your code here\n",
    "    #list_magic = []\n",
    "    for a in range(3,n+1):\n",
    "        yield  (a*a*a+ a)/2\n",
    "        \n",
    "\n",
    "if __name__ == '__main__':\n",
    "\n",
    "    n = int(input().strip())\n",
    "    \n",
    "    for i in generator_Magic(n):\n",
    "        print(int(i))\n",
    "\n",
    "    gen1 = generator_Magic(n)\n",
    "    print(type(gen1))"
   ]
  },
  {
   "cell_type": "code",
   "execution_count": 52,
   "id": "9ccc6e90",
   "metadata": {},
   "outputs": [
    {
     "name": "stdout",
     "output_type": "stream",
     "text": [
      "21\n",
      "1\n",
      "2 5 11 17 "
     ]
    }
   ],
   "source": [
    "def primegenerator(num, val):\n",
    "    # Write your code here\n",
    "    primes = []\n",
    "    for i in range(2, num):\n",
    "        for j in range(2, int(i / 2) + 1):\n",
    "            if i % j == 0:\n",
    "                break\n",
    "        else:\n",
    "            primes.append(i)\n",
    "        \n",
    "    for i in range(1 - val, len(primes), 2):\n",
    "        yield primes[i]\n",
    "\n",
    "#prime1 = list(primenum(21, 0)) # [3, 7, 13, 19]\n",
    "#prime2 = list(primenum(21, 1)) # [2, 5, 11, 17]\n",
    "\n",
    "if __name__ == '__main__':\n",
    "\n",
    "    num = int(input().strip())\n",
    "\n",
    "    val = int(input().strip())\n",
    "\n",
    "    for i in primegenerator(num, val):\n",
    "        print(i,end=\" \")"
   ]
  },
  {
   "cell_type": "code",
   "execution_count": 61,
   "id": "91c0baa5",
   "metadata": {},
   "outputs": [
    {
     "name": "stdout",
     "output_type": "stream",
     "text": [
      "m\n",
      "v\n",
      "r\n",
      "c\n",
      "k\n"
     ]
    }
   ],
   "source": [
    "k = [print(i) for i in \"maverick\" if i not in \"aeiou\"]"
   ]
  },
  {
   "cell_type": "code",
   "execution_count": 62,
   "id": "7d6d6b1c",
   "metadata": {},
   "outputs": [
    {
     "data": {
      "text/plain": [
       "list"
      ]
     },
     "execution_count": 62,
     "metadata": {},
     "output_type": "execute_result"
    }
   ],
   "source": [
    "type(k)"
   ]
  },
  {
   "cell_type": "code",
   "execution_count": 54,
   "id": "22b33d8f",
   "metadata": {},
   "outputs": [],
   "source": [
    "d = {0 if i%2 == 0 else 1 for i in range(8)}"
   ]
  },
  {
   "cell_type": "code",
   "execution_count": 55,
   "id": "b4be14aa",
   "metadata": {},
   "outputs": [
    {
     "data": {
      "text/plain": [
       "{0, 1}"
      ]
     },
     "execution_count": 55,
     "metadata": {},
     "output_type": "execute_result"
    }
   ],
   "source": [
    "d"
   ]
  },
  {
   "cell_type": "code",
   "execution_count": 60,
   "id": "68d49f38",
   "metadata": {},
   "outputs": [
    {
     "name": "stdout",
     "output_type": "stream",
     "text": [
      "<itertools.takewhile object at 0x0000024B5E82E4C0>\n"
     ]
    }
   ],
   "source": [
    "import itertools\n",
    "f = itertools.takewhile(lambda x: x<5, [1,4,6,4,1])\n",
    "print(f)"
   ]
  },
  {
   "cell_type": "code",
   "execution_count": 57,
   "id": "408d755a",
   "metadata": {},
   "outputs": [
    {
     "name": "stdout",
     "output_type": "stream",
     "text": [
      "1\n",
      "4\n",
      "4\n",
      "1\n"
     ]
    }
   ],
   "source": [
    "def test(x):\n",
    "    for i in x:\n",
    "        if i<5:\n",
    "            print(i)\n",
    "            \n",
    "test([1,4,6,4,1])            "
   ]
  },
  {
   "cell_type": "code",
   "execution_count": null,
   "id": "0e4fe3c1",
   "metadata": {},
   "outputs": [],
   "source": [
    "id()"
   ]
  }
 ],
 "metadata": {
  "kernelspec": {
   "display_name": "Python 3",
   "language": "python",
   "name": "python3"
  },
  "language_info": {
   "codemirror_mode": {
    "name": "ipython",
    "version": 3
   },
   "file_extension": ".py",
   "mimetype": "text/x-python",
   "name": "python",
   "nbconvert_exporter": "python",
   "pygments_lexer": "ipython3",
   "version": "3.8.8"
  }
 },
 "nbformat": 4,
 "nbformat_minor": 5
}
