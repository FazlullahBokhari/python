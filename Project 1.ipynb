{
 "cells": [
  {
   "cell_type": "code",
   "execution_count": 2,
   "id": "6c7fdaaf",
   "metadata": {},
   "outputs": [
    {
     "name": "stdout",
     "output_type": "stream",
     "text": [
      "Type Your name : faiz\n",
      "Hello  Faiz\n",
      "Faiz, do you want to play number guessing game (y/n): t\n",
      "Invalid keyword\n",
      "Type again: o\n",
      "Invalid keyword\n",
      "Type again: y\n",
      "88\n",
      "\n",
      "You have 6 guesses \n",
      " Guess any number between 1 to 10077\n",
      "\n",
      "Too low\n",
      "You have  5  guesses left. \n",
      "Guess again : 66\n",
      "Too low\n",
      "You have  4  guesses left. \n",
      "Guess again : 2\n",
      "Too low\n",
      "You have  3  guesses left. \n",
      "Guess again : 1\n",
      "Too low\n",
      "You have  2  guesses left. \n",
      "Guess again : 4\n",
      "Too low\n",
      "You have  1  guesses left. \n",
      "Guess again : 4\n",
      "Sorry you can't guess the number in  6  times\n",
      "\n",
      "Faiz do you want to play more (y/n) : y\n",
      "4\n",
      "\n",
      "You have 6 guesses \n",
      " Guess any number between 1 to 1004\n",
      "\n",
      "Congrats you guessed the number in  1  times\n",
      "\n",
      "Faiz do you want to play more (y/n) : y\n",
      "94\n",
      "\n",
      "You have 6 guesses \n",
      " Guess any number between 1 to 1004\n",
      "\n",
      "Too low\n",
      "You have  5  guesses left. \n",
      "Guess again : 8\n",
      "Too low\n",
      "You have  4  guesses left. \n",
      "Guess again : 6\n",
      "Too low\n",
      "You have  3  guesses left. \n",
      "Guess again : 6\n",
      "Too low\n",
      "You have  2  guesses left. \n",
      "Guess again : 6\n",
      "Too low\n",
      "You have  1  guesses left. \n",
      "Guess again : 6\n",
      "Sorry you can't guess the number in  6  times\n",
      "\n",
      "Faiz do you want to play more (y/n) : n\n",
      "Okay Bye bye  Faiz  See you again. \n"
     ]
    }
   ],
   "source": [
    "import random as r\n",
    "\n",
    "#Welcome Screen\n",
    "\n",
    "user_name = input(\"Type Your name : \").title()\n",
    "print(\"Hello \",user_name)  #()--> roubd bracket [] ---> square bracket and {} ---> Curly bracket : ---> Colon print() --> function for output\n",
    "user_said = input(user_name + \", do you want to play number guessing game (y/n): \")\n",
    "\n",
    "while True:\n",
    "    if (\"y\" not in user_said) and (\"n\" not in user_said):\n",
    "        user_said = input(\"Invalid keyword\\nType again: \")\n",
    "    elif \"y\" in user_said:\n",
    "        winning_number = r.randint(1,100) #generated from random module\n",
    "        print(winning_number)\n",
    "        print()\n",
    "        user_guessed = int(input(\"You have 6 guesses \\n Guess any number between 1 to 100\"))\n",
    "        print()\n",
    "        turn = 1\n",
    "        while True:\n",
    "            if winning_number == user_guessed:\n",
    "                print(\"Congrats you guessed the number in \",turn,\" times\")\n",
    "                break\n",
    "            elif turn == 6:\n",
    "                print(\"Sorry you can't guess the number in \",turn,\" times\")\n",
    "                break\n",
    "            else:\n",
    "                if winning_number > user_guessed:\n",
    "                    print(\"Too low\")\n",
    "                else:\n",
    "                    print(\"Too high\")\n",
    "                print(\"You have \",6-turn,\" guesses left. \")\n",
    "                turn = turn + 1\n",
    "                user_guessed = int(input(\"Guess again : \"))\n",
    "        print()\n",
    "        user_said = input(user_name + \" do you want to play more (y/n) : \")\n",
    "    else:\n",
    "        print(\"Okay Bye bye \",user_name,\" See you again. \")\n",
    "        break              "
   ]
  },
  {
   "cell_type": "code",
   "execution_count": null,
   "id": "b5f4f53e",
   "metadata": {},
   "outputs": [],
   "source": [
    "\"\" double string, '' sinle string ''' ''' triple string"
   ]
  },
  {
   "cell_type": "code",
   "execution_count": 1,
   "id": "56380252",
   "metadata": {},
   "outputs": [
    {
     "name": "stdout",
     "output_type": "stream",
     "text": [
      "<class 'float'>\n",
      "<class 'int'>\n"
     ]
    }
   ],
   "source": [
    "a = 5.0\n",
    "print(type(a))\n",
    "b = int(a)\n",
    "print(type(b))"
   ]
  },
  {
   "cell_type": "code",
   "execution_count": 2,
   "id": "6badb71a",
   "metadata": {},
   "outputs": [
    {
     "name": "stdout",
     "output_type": "stream",
     "text": [
      "Enter a number: 1\n",
      "1\n",
      "<class 'str'>\n",
      "<class 'int'>\n",
      "55\n",
      "55.0\n",
      "55\n"
     ]
    }
   ],
   "source": [
    "a = input(\"Enter a number: \")\n",
    "print(a)\n",
    "print(type(a))\n",
    "b = int(a)\n",
    "print(type(b))\n",
    "print(\"55\")\n",
    "print(55.0)\n",
    "print(55)"
   ]
  },
  {
   "cell_type": "code",
   "execution_count": null,
   "id": "91edde18",
   "metadata": {},
   "outputs": [],
   "source": []
  }
 ],
 "metadata": {
  "kernelspec": {
   "display_name": "Python 3",
   "language": "python",
   "name": "python3"
  },
  "language_info": {
   "codemirror_mode": {
    "name": "ipython",
    "version": 3
   },
   "file_extension": ".py",
   "mimetype": "text/x-python",
   "name": "python",
   "nbconvert_exporter": "python",
   "pygments_lexer": "ipython3",
   "version": "3.8.8"
  }
 },
 "nbformat": 4,
 "nbformat_minor": 5
}
