{
 "cells": [
  {
   "cell_type": "code",
   "execution_count": 12,
   "id": "aa402de3",
   "metadata": {},
   "outputs": [],
   "source": [
    "def test(a,b):\n",
    "    return a+b"
   ]
  },
  {
   "cell_type": "code",
   "execution_count": 13,
   "id": "f2df6f22",
   "metadata": {},
   "outputs": [
    {
     "name": "stdout",
     "output_type": "stream",
     "text": [
      " Volume in drive C has no label.\n",
      " Volume Serial Number is BEC0-260A\n",
      "\n",
      " Directory of C:\\Users\\fazlu\\Working_space\\class\\python\n",
      "\n",
      "15-02-2022  19:43    <DIR>          .\n",
      "15-02-2022  19:43    <DIR>          ..\n",
      "15-02-2022  19:43    <DIR>          .ipynb_checkpoints\n",
      "22-01-2022  10:41    <DIR>          __pycache__\n",
      "14-01-2022  21:01               609 20 Questions of python basics .ipynb\n",
      "23-01-2022  11:38            35,215 Exception Handling.ipynb\n",
      "14-01-2022  20:54            30,100 file system.ipynb\n",
      "28-01-2022  20:04             4,539 logging.ipynb\n",
      "15-02-2022  16:02            39,946 oops 29th .ipynb\n",
      "15-02-2022  17:19            55,168 Oops.ipynb\n",
      "15-02-2022  19:42    <DIR>          Python\n",
      "28-01-2022  19:34               245 test.log\n",
      "22-01-2022  10:34                31 test.py\n",
      "22-01-2022  10:28                 0 test.py.bak\n",
      "11-01-2022  12:44                99 test.txt\n",
      "16-01-2022  10:43                10 test11.txt\n",
      "16-01-2022  10:56                22 test1111.txt\n",
      "28-01-2022  19:45               640 test2.log\n",
      "22-01-2022  10:41               213 test2.py\n",
      "22-01-2022  10:41               233 test2.py.bak\n",
      "11-01-2022  12:31                61 test2.txt\n",
      "28-01-2022  20:02               451 test3.log\n",
      "22-01-2022  10:44             4,722 Untitled1.ipynb\n",
      "              18 File(s)        172,304 bytes\n",
      "               5 Dir(s)  392,517,730,304 bytes free\n"
     ]
    }
   ],
   "source": [
    "ls"
   ]
  },
  {
   "cell_type": "code",
   "execution_count": 14,
   "id": "aa1f7033",
   "metadata": {},
   "outputs": [],
   "source": [
    "import test2 as t2"
   ]
  },
  {
   "cell_type": "code",
   "execution_count": 15,
   "id": "254a102d",
   "metadata": {},
   "outputs": [
    {
     "data": {
      "text/plain": [
       "12"
      ]
     },
     "execution_count": 15,
     "metadata": {},
     "output_type": "execute_result"
    }
   ],
   "source": [
    "t2.tets(5,7)"
   ]
  },
  {
   "cell_type": "code",
   "execution_count": 16,
   "id": "8b744962",
   "metadata": {},
   "outputs": [
    {
     "data": {
      "text/plain": [
       "1"
      ]
     },
     "execution_count": 16,
     "metadata": {},
     "output_type": "execute_result"
    }
   ],
   "source": [
    "t2.test4(4,3)"
   ]
  },
  {
   "cell_type": "code",
   "execution_count": 17,
   "id": "e0c6c83c",
   "metadata": {},
   "outputs": [],
   "source": [
    "from test2 import test4 as t"
   ]
  },
  {
   "cell_type": "code",
   "execution_count": 18,
   "id": "3cc3b0d0",
   "metadata": {},
   "outputs": [
    {
     "ename": "TypeError",
     "evalue": "test4() missing 2 required positional arguments: 'c' and 'd'",
     "output_type": "error",
     "traceback": [
      "\u001b[1;31m---------------------------------------------------------------------------\u001b[0m",
      "\u001b[1;31mTypeError\u001b[0m                                 Traceback (most recent call last)",
      "\u001b[1;32m<ipython-input-18-bf1592f10eb3>\u001b[0m in \u001b[0;36m<module>\u001b[1;34m\u001b[0m\n\u001b[1;32m----> 1\u001b[1;33m \u001b[0mt\u001b[0m\u001b[1;33m(\u001b[0m\u001b[1;33m)\u001b[0m\u001b[1;33m\u001b[0m\u001b[1;33m\u001b[0m\u001b[0m\n\u001b[0m",
      "\u001b[1;31mTypeError\u001b[0m: test4() missing 2 required positional arguments: 'c' and 'd'"
     ]
    }
   ],
   "source": [
    "t()"
   ]
  },
  {
   "cell_type": "code",
   "execution_count": 19,
   "id": "5194812d",
   "metadata": {},
   "outputs": [],
   "source": [
    "from test2 import *"
   ]
  },
  {
   "cell_type": "code",
   "execution_count": 20,
   "id": "496cc60d",
   "metadata": {},
   "outputs": [
    {
     "data": {
      "text/plain": [
       "1"
      ]
     },
     "execution_count": 20,
     "metadata": {},
     "output_type": "execute_result"
    }
   ],
   "source": [
    "test4(7,3)"
   ]
  },
  {
   "cell_type": "code",
   "execution_count": 21,
   "id": "63c1c108",
   "metadata": {},
   "outputs": [
    {
     "data": {
      "text/plain": [
       "0.875"
      ]
     },
     "execution_count": 21,
     "metadata": {},
     "output_type": "execute_result"
    }
   ],
   "source": [
    "test3(7,8)"
   ]
  },
  {
   "cell_type": "code",
   "execution_count": 22,
   "id": "2e6965cd",
   "metadata": {},
   "outputs": [
    {
     "data": {
      "text/plain": [
       "72"
      ]
     },
     "execution_count": 22,
     "metadata": {},
     "output_type": "execute_result"
    }
   ],
   "source": [
    "test1(8,9)"
   ]
  },
  {
   "cell_type": "code",
   "execution_count": null,
   "id": "d57de262",
   "metadata": {},
   "outputs": [],
   "source": []
  }
 ],
 "metadata": {
  "kernelspec": {
   "display_name": "Python 3",
   "language": "python",
   "name": "python3"
  },
  "language_info": {
   "codemirror_mode": {
    "name": "ipython",
    "version": 3
   },
   "file_extension": ".py",
   "mimetype": "text/x-python",
   "name": "python",
   "nbconvert_exporter": "python",
   "pygments_lexer": "ipython3",
   "version": "3.8.8"
  }
 },
 "nbformat": 4,
 "nbformat_minor": 5
}
