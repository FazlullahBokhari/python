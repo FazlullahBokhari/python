{
 "cells": [
  {
   "cell_type": "code",
   "execution_count": 1,
   "id": "071bb579",
   "metadata": {},
   "outputs": [],
   "source": [
    "import logging"
   ]
  },
  {
   "cell_type": "code",
   "execution_count": 2,
   "id": "e1c06ab2",
   "metadata": {},
   "outputs": [],
   "source": [
    "logging.basicConfig(filename = \"test.log\")"
   ]
  },
  {
   "cell_type": "code",
   "execution_count": 3,
   "id": "256bc84a",
   "metadata": {},
   "outputs": [
    {
     "data": {
      "text/plain": [
       "\"'DEBUG LOG\\nINFO LOG\\nWARNING LOG\\nERROR \\nCRITICAL\""
      ]
     },
     "execution_count": 3,
     "metadata": {},
     "output_type": "execute_result"
    }
   ],
   "source": [
    "''''DEBUG LOG\n",
    "INFO LOG\n",
    "WARNING LOG\n",
    "ERROR \n",
    "CRITICAL'''"
   ]
  },
  {
   "cell_type": "code",
   "execution_count": 4,
   "id": "22712063",
   "metadata": {},
   "outputs": [],
   "source": [
    "logging.info(\"this is my warning log info\",level=logging.INFO)"
   ]
  },
  {
   "cell_type": "code",
   "execution_count": 5,
   "id": "8924699d",
   "metadata": {},
   "outputs": [],
   "source": [
    "logging.info(\"this is my warning log info\")\n",
    "logging.warning(\"this is my warning log\")\n",
    "logging.error(\"this is my error log \")"
   ]
  },
  {
   "cell_type": "code",
   "execution_count": 6,
   "id": "6edc731d",
   "metadata": {},
   "outputs": [],
   "source": [
    "logging.shutdown() # close the logging"
   ]
  },
  {
   "cell_type": "code",
   "execution_count": 10,
   "id": "544521c4",
   "metadata": {},
   "outputs": [],
   "source": [
    "import logging\n",
    "logging.basicConfig(filename = \"test2.log\", level=logging.DEBUG, format='%(asctime)s %(message)s')"
   ]
  },
  {
   "cell_type": "code",
   "execution_count": 9,
   "id": "13936a49",
   "metadata": {},
   "outputs": [],
   "source": [
    "import logging\n",
    "logging.basicConfig(filename = \"test2.log\", level=logging.ERROR, format='%(asctime)s %(message)s')"
   ]
  },
  {
   "cell_type": "code",
   "execution_count": 11,
   "id": "0c2f4592",
   "metadata": {},
   "outputs": [],
   "source": [
    "logging.info(\"this is my warning log info\")\n",
    "logging.warning(\"this is my warning log warning\")\n",
    "logging.error(\"this is my warning log error \")\n",
    "logging.debug(\"This is my debug log\")\n",
    "logging.error(\"this is my warning log error \")"
   ]
  },
  {
   "cell_type": "code",
   "execution_count": 6,
   "id": "284db027",
   "metadata": {},
   "outputs": [
    {
     "data": {
      "text/plain": [
       "'\\n1.ERROR\\n2.WARNING\\n3.INFO\\n4.DEBUG\\n'"
      ]
     },
     "execution_count": 6,
     "metadata": {},
     "output_type": "execute_result"
    }
   ],
   "source": [
    "'''\n",
    "1.ERROR\n",
    "2.WARNING\n",
    "3.INFO\n",
    "4.DEBUG\n",
    "'''"
   ]
  },
  {
   "cell_type": "code",
   "execution_count": 12,
   "id": "48116735",
   "metadata": {},
   "outputs": [],
   "source": [
    "import logging\n",
    "logging.basicConfig(filename = \"test3.log\", level=logging.DEBUG, format='%(asctime)s %(message)s')"
   ]
  },
  {
   "cell_type": "code",
   "execution_count": 13,
   "id": "99d0b164",
   "metadata": {},
   "outputs": [],
   "source": [
    "def div(a,b):\n",
    "    logging.info(\"this is start my code and i am try to enter %s and %s \",a,b)\n",
    "    try:\n",
    "        div = a/b\n",
    "        logging.info(\"executed sucessfully\")\n",
    "    except Exception as e:\n",
    "        logging.error(\"error has happed..\")\n",
    "        logging.exception(\"exception occured \"+ str(e))"
   ]
  },
  {
   "cell_type": "code",
   "execution_count": 3,
   "id": "75af6f21",
   "metadata": {},
   "outputs": [],
   "source": [
    "div(4,5)"
   ]
  },
  {
   "cell_type": "code",
   "execution_count": 4,
   "id": "83dd821c",
   "metadata": {},
   "outputs": [],
   "source": [
    "div(4,0)"
   ]
  },
  {
   "cell_type": "code",
   "execution_count": null,
   "id": "ea06fca0",
   "metadata": {},
   "outputs": [],
   "source": [
    "di"
   ]
  }
 ],
 "metadata": {
  "kernelspec": {
   "display_name": "Python 3",
   "language": "python",
   "name": "python3"
  },
  "language_info": {
   "codemirror_mode": {
    "name": "ipython",
    "version": 3
   },
   "file_extension": ".py",
   "mimetype": "text/x-python",
   "name": "python",
   "nbconvert_exporter": "python",
   "pygments_lexer": "ipython3",
   "version": "3.8.8"
  }
 },
 "nbformat": 4,
 "nbformat_minor": 5
}
