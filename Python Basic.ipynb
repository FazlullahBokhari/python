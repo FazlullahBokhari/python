{
 "cells": [
  {
   "cell_type": "code",
   "execution_count": 1,
   "id": "8f19a22e",
   "metadata": {},
   "outputs": [
    {
     "name": "stdout",
     "output_type": "stream",
     "text": [
      "The Zen of Python, by Tim Peters\n",
      "\n",
      "Beautiful is better than ugly.\n",
      "Explicit is better than implicit.\n",
      "Simple is better than complex.\n",
      "Complex is better than complicated.\n",
      "Flat is better than nested.\n",
      "Sparse is better than dense.\n",
      "Readability counts.\n",
      "Special cases aren't special enough to break the rules.\n",
      "Although practicality beats purity.\n",
      "Errors should never pass silently.\n",
      "Unless explicitly silenced.\n",
      "In the face of ambiguity, refuse the temptation to guess.\n",
      "There should be one-- and preferably only one --obvious way to do it.\n",
      "Although that way may not be obvious at first unless you're Dutch.\n",
      "Now is better than never.\n",
      "Although never is often better than *right* now.\n",
      "If the implementation is hard to explain, it's a bad idea.\n",
      "If the implementation is easy to explain, it may be a good idea.\n",
      "Namespaces are one honking great idea -- let's do more of those!\n"
     ]
    }
   ],
   "source": [
    "import this"
   ]
  },
  {
   "cell_type": "code",
   "execution_count": 2,
   "id": "1865c9cf",
   "metadata": {},
   "outputs": [
    {
     "name": "stdout",
     "output_type": "stream",
     "text": [
      "this is my first program. \n"
     ]
    }
   ],
   "source": [
    "print(\"this is my first program. \")"
   ]
  },
  {
   "cell_type": "code",
   "execution_count": 3,
   "id": "683fde47",
   "metadata": {},
   "outputs": [
    {
     "data": {
      "text/plain": [
       "9"
      ]
     },
     "execution_count": 3,
     "metadata": {},
     "output_type": "execute_result"
    }
   ],
   "source": [
    "len(\"fazlullah\")"
   ]
  },
  {
   "cell_type": "code",
   "execution_count": 4,
   "id": "91029821",
   "metadata": {},
   "outputs": [],
   "source": [
    "a = 10"
   ]
  },
  {
   "cell_type": "code",
   "execution_count": 5,
   "id": "33897516",
   "metadata": {},
   "outputs": [
    {
     "data": {
      "text/plain": [
       "10"
      ]
     },
     "execution_count": 5,
     "metadata": {},
     "output_type": "execute_result"
    }
   ],
   "source": [
    "a"
   ]
  },
  {
   "cell_type": "code",
   "execution_count": 6,
   "id": "cffd53af",
   "metadata": {},
   "outputs": [
    {
     "data": {
      "text/plain": [
       "int"
      ]
     },
     "execution_count": 6,
     "metadata": {},
     "output_type": "execute_result"
    }
   ],
   "source": [
    "type(a)"
   ]
  },
  {
   "cell_type": "code",
   "execution_count": 7,
   "id": "2caa064e",
   "metadata": {},
   "outputs": [],
   "source": [
    "b = 45.5"
   ]
  },
  {
   "cell_type": "code",
   "execution_count": 8,
   "id": "3787b3fc",
   "metadata": {},
   "outputs": [
    {
     "data": {
      "text/plain": [
       "float"
      ]
     },
     "execution_count": 8,
     "metadata": {},
     "output_type": "execute_result"
    }
   ],
   "source": [
    "type(b)"
   ]
  },
  {
   "cell_type": "code",
   "execution_count": 9,
   "id": "03bc45af",
   "metadata": {},
   "outputs": [],
   "source": [
    "c = \"fazlullah\""
   ]
  },
  {
   "cell_type": "code",
   "execution_count": 10,
   "id": "3dc7664f",
   "metadata": {},
   "outputs": [
    {
     "data": {
      "text/plain": [
       "str"
      ]
     },
     "execution_count": 10,
     "metadata": {},
     "output_type": "execute_result"
    }
   ],
   "source": [
    "type(c)"
   ]
  },
  {
   "cell_type": "code",
   "execution_count": 11,
   "id": "5c1e6926",
   "metadata": {},
   "outputs": [],
   "source": [
    "d = 5+6j"
   ]
  },
  {
   "cell_type": "code",
   "execution_count": 12,
   "id": "7974681a",
   "metadata": {},
   "outputs": [
    {
     "data": {
      "text/plain": [
       "complex"
      ]
     },
     "execution_count": 12,
     "metadata": {},
     "output_type": "execute_result"
    }
   ],
   "source": [
    "type(d)"
   ]
  },
  {
   "cell_type": "code",
   "execution_count": 13,
   "id": "1bca70b6",
   "metadata": {},
   "outputs": [],
   "source": [
    "g = True"
   ]
  },
  {
   "cell_type": "code",
   "execution_count": 14,
   "id": "299d0738",
   "metadata": {},
   "outputs": [
    {
     "data": {
      "text/plain": [
       "bool"
      ]
     },
     "execution_count": 14,
     "metadata": {},
     "output_type": "execute_result"
    }
   ],
   "source": [
    "type(g)"
   ]
  },
  {
   "cell_type": "code",
   "execution_count": 15,
   "id": "dd23a605",
   "metadata": {},
   "outputs": [
    {
     "ename": "SyntaxError",
     "evalue": "starred assignment target must be in a list or tuple (<ipython-input-15-b8efe33c9bf9>, line 1)",
     "output_type": "error",
     "traceback": [
      "\u001b[1;36m  File \u001b[1;32m\"<ipython-input-15-b8efe33c9bf9>\"\u001b[1;36m, line \u001b[1;32m1\u001b[0m\n\u001b[1;33m    *a = 67\u001b[0m\n\u001b[1;37m    ^\u001b[0m\n\u001b[1;31mSyntaxError\u001b[0m\u001b[1;31m:\u001b[0m starred assignment target must be in a list or tuple\n"
     ]
    }
   ],
   "source": [
    "*a = 67"
   ]
  },
  {
   "cell_type": "code",
   "execution_count": 16,
   "id": "f5aa5e13",
   "metadata": {},
   "outputs": [],
   "source": [
    "_a = 88"
   ]
  },
  {
   "cell_type": "code",
   "execution_count": 17,
   "id": "499dbc16",
   "metadata": {},
   "outputs": [
    {
     "data": {
      "text/plain": [
       "int"
      ]
     },
     "execution_count": 17,
     "metadata": {},
     "output_type": "execute_result"
    }
   ],
   "source": [
    "type(a)"
   ]
  },
  {
   "cell_type": "code",
   "execution_count": 18,
   "id": "a5866189",
   "metadata": {},
   "outputs": [],
   "source": [
    "a = 34"
   ]
  },
  {
   "cell_type": "code",
   "execution_count": 19,
   "id": "8867a760",
   "metadata": {},
   "outputs": [
    {
     "data": {
      "text/plain": [
       "int"
      ]
     },
     "execution_count": 19,
     "metadata": {},
     "output_type": "execute_result"
    }
   ],
   "source": [
    "type(_a)"
   ]
  },
  {
   "cell_type": "code",
   "execution_count": 20,
   "id": "e6505b46",
   "metadata": {},
   "outputs": [],
   "source": [
    "a, b, c, d, e = 124,\"fazlullah\",6+8j,False,88.2"
   ]
  },
  {
   "cell_type": "code",
   "execution_count": 21,
   "id": "e54fe34d",
   "metadata": {},
   "outputs": [
    {
     "data": {
      "text/plain": [
       "124"
      ]
     },
     "execution_count": 21,
     "metadata": {},
     "output_type": "execute_result"
    }
   ],
   "source": [
    "a"
   ]
  },
  {
   "cell_type": "code",
   "execution_count": 22,
   "id": "14a4a12f",
   "metadata": {},
   "outputs": [
    {
     "data": {
      "text/plain": [
       "'fazlullah'"
      ]
     },
     "execution_count": 22,
     "metadata": {},
     "output_type": "execute_result"
    }
   ],
   "source": [
    "b"
   ]
  },
  {
   "cell_type": "code",
   "execution_count": 23,
   "id": "981caec4",
   "metadata": {},
   "outputs": [
    {
     "data": {
      "text/plain": [
       "(6+8j)"
      ]
     },
     "execution_count": 23,
     "metadata": {},
     "output_type": "execute_result"
    }
   ],
   "source": [
    "c"
   ]
  },
  {
   "cell_type": "code",
   "execution_count": 24,
   "id": "f4732dbe",
   "metadata": {},
   "outputs": [],
   "source": [
    "a = \"sudh\""
   ]
  },
  {
   "cell_type": "code",
   "execution_count": 25,
   "id": "633aee52",
   "metadata": {},
   "outputs": [
    {
     "data": {
      "text/plain": [
       "'sudh4'"
      ]
     },
     "execution_count": 25,
     "metadata": {},
     "output_type": "execute_result"
    }
   ],
   "source": [
    "a+str(4)"
   ]
  },
  {
   "cell_type": "code",
   "execution_count": 26,
   "id": "b172a371",
   "metadata": {},
   "outputs": [
    {
     "data": {
      "text/plain": [
       "2"
      ]
     },
     "execution_count": 26,
     "metadata": {},
     "output_type": "execute_result"
    }
   ],
   "source": [
    "True + True"
   ]
  },
  {
   "cell_type": "code",
   "execution_count": 27,
   "id": "7bd81e1c",
   "metadata": {},
   "outputs": [
    {
     "data": {
      "text/plain": [
       "1"
      ]
     },
     "execution_count": 27,
     "metadata": {},
     "output_type": "execute_result"
    }
   ],
   "source": [
    "True - False"
   ]
  },
  {
   "cell_type": "code",
   "execution_count": 32,
   "id": "75c8185f",
   "metadata": {},
   "outputs": [
    {
     "data": {
      "text/plain": [
       "2"
      ]
     },
     "execution_count": 32,
     "metadata": {},
     "output_type": "execute_result"
    }
   ],
   "source": [
    "1 + True"
   ]
  },
  {
   "cell_type": "code",
   "execution_count": 33,
   "id": "1f69742a",
   "metadata": {},
   "outputs": [
    {
     "name": "stdout",
     "output_type": "stream",
     "text": [
      "faiz\n"
     ]
    }
   ],
   "source": [
    "a = input()"
   ]
  },
  {
   "cell_type": "code",
   "execution_count": 34,
   "id": "6bd58fd5",
   "metadata": {},
   "outputs": [
    {
     "data": {
      "text/plain": [
       "'faiz'"
      ]
     },
     "execution_count": 34,
     "metadata": {},
     "output_type": "execute_result"
    }
   ],
   "source": [
    "a"
   ]
  },
  {
   "cell_type": "code",
   "execution_count": 38,
   "id": "d62aff4b",
   "metadata": {},
   "outputs": [
    {
     "name": "stdout",
     "output_type": "stream",
     "text": [
      "12\n"
     ]
    }
   ],
   "source": [
    "a = input()"
   ]
  },
  {
   "cell_type": "code",
   "execution_count": 39,
   "id": "0e6b9b14",
   "metadata": {},
   "outputs": [
    {
     "data": {
      "text/plain": [
       "20"
      ]
     },
     "execution_count": 39,
     "metadata": {},
     "output_type": "execute_result"
    }
   ],
   "source": [
    "int(a)+8"
   ]
  },
  {
   "cell_type": "code",
   "execution_count": 40,
   "id": "d58ed7f3",
   "metadata": {},
   "outputs": [
    {
     "data": {
      "text/plain": [
       "'12'"
      ]
     },
     "execution_count": 40,
     "metadata": {},
     "output_type": "execute_result"
    }
   ],
   "source": [
    "a"
   ]
  },
  {
   "cell_type": "code",
   "execution_count": 41,
   "id": "e4ca8958",
   "metadata": {},
   "outputs": [
    {
     "data": {
      "text/plain": [
       "'C:\\\\Users\\\\fazlu\\\\Working_space\\\\class\\\\python'"
      ]
     },
     "execution_count": 41,
     "metadata": {},
     "output_type": "execute_result"
    }
   ],
   "source": [
    "pwd"
   ]
  },
  {
   "cell_type": "code",
   "execution_count": 42,
   "id": "b57660c4",
   "metadata": {},
   "outputs": [
    {
     "data": {
      "text/plain": [
       "(6+8j)"
      ]
     },
     "execution_count": 42,
     "metadata": {},
     "output_type": "execute_result"
    }
   ],
   "source": [
    "c"
   ]
  },
  {
   "cell_type": "code",
   "execution_count": 43,
   "id": "e0b4ffbc",
   "metadata": {},
   "outputs": [
    {
     "data": {
      "text/plain": [
       "(6-8j)"
      ]
     },
     "execution_count": 43,
     "metadata": {},
     "output_type": "execute_result"
    }
   ],
   "source": [
    "c.conjugate()"
   ]
  },
  {
   "cell_type": "code",
   "execution_count": 44,
   "id": "5eaffdad",
   "metadata": {},
   "outputs": [
    {
     "data": {
      "text/plain": [
       "8.0"
      ]
     },
     "execution_count": 44,
     "metadata": {},
     "output_type": "execute_result"
    }
   ],
   "source": [
    "c.imag"
   ]
  },
  {
   "cell_type": "code",
   "execution_count": 45,
   "id": "74456a0f",
   "metadata": {},
   "outputs": [
    {
     "data": {
      "text/plain": [
       "6.0"
      ]
     },
     "execution_count": 45,
     "metadata": {},
     "output_type": "execute_result"
    }
   ],
   "source": [
    "c.real"
   ]
  },
  {
   "cell_type": "code",
   "execution_count": 46,
   "id": "e8a85ea0",
   "metadata": {},
   "outputs": [],
   "source": [
    "s = \"sudh\""
   ]
  },
  {
   "cell_type": "code",
   "execution_count": 47,
   "id": "7107f729",
   "metadata": {},
   "outputs": [
    {
     "data": {
      "text/plain": [
       "'u'"
      ]
     },
     "execution_count": 47,
     "metadata": {},
     "output_type": "execute_result"
    }
   ],
   "source": [
    "s[1]"
   ]
  },
  {
   "cell_type": "code",
   "execution_count": 48,
   "id": "c3a282ea",
   "metadata": {},
   "outputs": [
    {
     "data": {
      "text/plain": [
       "'d'"
      ]
     },
     "execution_count": 48,
     "metadata": {},
     "output_type": "execute_result"
    }
   ],
   "source": [
    "s[2]"
   ]
  },
  {
   "cell_type": "code",
   "execution_count": 49,
   "id": "a4946208",
   "metadata": {},
   "outputs": [
    {
     "data": {
      "text/plain": [
       "'h'"
      ]
     },
     "execution_count": 49,
     "metadata": {},
     "output_type": "execute_result"
    }
   ],
   "source": [
    "s[3]"
   ]
  },
  {
   "cell_type": "code",
   "execution_count": 50,
   "id": "f0ae2394",
   "metadata": {},
   "outputs": [
    {
     "ename": "IndexError",
     "evalue": "string index out of range",
     "output_type": "error",
     "traceback": [
      "\u001b[1;31m---------------------------------------------------------------------------\u001b[0m",
      "\u001b[1;31mIndexError\u001b[0m                                Traceback (most recent call last)",
      "\u001b[1;32m<ipython-input-50-a81280e08423>\u001b[0m in \u001b[0;36m<module>\u001b[1;34m\u001b[0m\n\u001b[1;32m----> 1\u001b[1;33m \u001b[0ms\u001b[0m\u001b[1;33m[\u001b[0m\u001b[1;36m4\u001b[0m\u001b[1;33m]\u001b[0m\u001b[1;33m\u001b[0m\u001b[1;33m\u001b[0m\u001b[0m\n\u001b[0m",
      "\u001b[1;31mIndexError\u001b[0m: string index out of range"
     ]
    }
   ],
   "source": [
    "s[4]"
   ]
  },
  {
   "cell_type": "code",
   "execution_count": 51,
   "id": "a5d264ca",
   "metadata": {},
   "outputs": [
    {
     "ename": "IndexError",
     "evalue": "string index out of range",
     "output_type": "error",
     "traceback": [
      "\u001b[1;31m---------------------------------------------------------------------------\u001b[0m",
      "\u001b[1;31mIndexError\u001b[0m                                Traceback (most recent call last)",
      "\u001b[1;32m<ipython-input-51-2a138df92e52>\u001b[0m in \u001b[0;36m<module>\u001b[1;34m\u001b[0m\n\u001b[1;32m----> 1\u001b[1;33m \u001b[0ms\u001b[0m\u001b[1;33m[\u001b[0m\u001b[1;36m100\u001b[0m\u001b[1;33m]\u001b[0m\u001b[1;33m\u001b[0m\u001b[1;33m\u001b[0m\u001b[0m\n\u001b[0m",
      "\u001b[1;31mIndexError\u001b[0m: string index out of range"
     ]
    }
   ],
   "source": [
    "s[100]"
   ]
  },
  {
   "cell_type": "code",
   "execution_count": 52,
   "id": "d744bc49",
   "metadata": {},
   "outputs": [
    {
     "data": {
      "text/plain": [
       "'h'"
      ]
     },
     "execution_count": 52,
     "metadata": {},
     "output_type": "execute_result"
    }
   ],
   "source": [
    "s[-1]"
   ]
  },
  {
   "cell_type": "code",
   "execution_count": 53,
   "id": "3e25294a",
   "metadata": {},
   "outputs": [],
   "source": [
    "a = \"my name is sudh\""
   ]
  },
  {
   "cell_type": "code",
   "execution_count": 54,
   "id": "21c4f1de",
   "metadata": {},
   "outputs": [
    {
     "data": {
      "text/plain": [
       "'my name is'"
      ]
     },
     "execution_count": 54,
     "metadata": {},
     "output_type": "execute_result"
    }
   ],
   "source": [
    "a[:10]"
   ]
  },
  {
   "cell_type": "code",
   "execution_count": 55,
   "id": "384e5510",
   "metadata": {},
   "outputs": [],
   "source": [
    "b = \"ineuron\""
   ]
  },
  {
   "cell_type": "code",
   "execution_count": 56,
   "id": "21f1887b",
   "metadata": {},
   "outputs": [
    {
     "data": {
      "text/plain": [
       "'ine'"
      ]
     },
     "execution_count": 56,
     "metadata": {},
     "output_type": "execute_result"
    }
   ],
   "source": [
    "b[:3]"
   ]
  },
  {
   "cell_type": "code",
   "execution_count": 57,
   "id": "8f30503b",
   "metadata": {},
   "outputs": [
    {
     "data": {
      "text/plain": [
       "'ineuron'"
      ]
     },
     "execution_count": 57,
     "metadata": {},
     "output_type": "execute_result"
    }
   ],
   "source": [
    "b[:300]"
   ]
  },
  {
   "cell_type": "code",
   "execution_count": 58,
   "id": "7bec254c",
   "metadata": {},
   "outputs": [
    {
     "ename": "IndexError",
     "evalue": "string index out of range",
     "output_type": "error",
     "traceback": [
      "\u001b[1;31m---------------------------------------------------------------------------\u001b[0m",
      "\u001b[1;31mIndexError\u001b[0m                                Traceback (most recent call last)",
      "\u001b[1;32m<ipython-input-58-6ff6ddb2b1a6>\u001b[0m in \u001b[0;36m<module>\u001b[1;34m\u001b[0m\n\u001b[1;32m----> 1\u001b[1;33m \u001b[0mb\u001b[0m\u001b[1;33m[\u001b[0m\u001b[1;36m300\u001b[0m\u001b[1;33m]\u001b[0m\u001b[1;33m\u001b[0m\u001b[1;33m\u001b[0m\u001b[0m\n\u001b[0m",
      "\u001b[1;31mIndexError\u001b[0m: string index out of range"
     ]
    }
   ],
   "source": [
    "b[300]"
   ]
  },
  {
   "cell_type": "code",
   "execution_count": 59,
   "id": "9d2d73d7",
   "metadata": {},
   "outputs": [
    {
     "data": {
      "text/plain": [
       "'n'"
      ]
     },
     "execution_count": 59,
     "metadata": {},
     "output_type": "execute_result"
    }
   ],
   "source": [
    "b[-1]"
   ]
  },
  {
   "cell_type": "code",
   "execution_count": 60,
   "id": "dfd6740a",
   "metadata": {},
   "outputs": [
    {
     "ename": "IndexError",
     "evalue": "string index out of range",
     "output_type": "error",
     "traceback": [
      "\u001b[1;31m---------------------------------------------------------------------------\u001b[0m",
      "\u001b[1;31mIndexError\u001b[0m                                Traceback (most recent call last)",
      "\u001b[1;32m<ipython-input-60-b20bba380709>\u001b[0m in \u001b[0;36m<module>\u001b[1;34m\u001b[0m\n\u001b[1;32m----> 1\u001b[1;33m \u001b[0mb\u001b[0m\u001b[1;33m[\u001b[0m\u001b[1;33m-\u001b[0m\u001b[1;36m100\u001b[0m\u001b[1;33m]\u001b[0m\u001b[1;33m\u001b[0m\u001b[1;33m\u001b[0m\u001b[0m\n\u001b[0m",
      "\u001b[1;31mIndexError\u001b[0m: string index out of range"
     ]
    }
   ],
   "source": [
    "b[-100]"
   ]
  },
  {
   "cell_type": "code",
   "execution_count": 61,
   "id": "e1a462f6",
   "metadata": {},
   "outputs": [
    {
     "data": {
      "text/plain": [
       "''"
      ]
     },
     "execution_count": 61,
     "metadata": {},
     "output_type": "execute_result"
    }
   ],
   "source": [
    "b[-1:-4]"
   ]
  },
  {
   "cell_type": "code",
   "execution_count": 62,
   "id": "9c86216d",
   "metadata": {},
   "outputs": [
    {
     "data": {
      "text/plain": [
       "'ineu'"
      ]
     },
     "execution_count": 62,
     "metadata": {},
     "output_type": "execute_result"
    }
   ],
   "source": [
    "b[0:4]"
   ]
  },
  {
   "cell_type": "code",
   "execution_count": 63,
   "id": "afa33fc7",
   "metadata": {},
   "outputs": [],
   "source": [
    "a = 'kumar'"
   ]
  },
  {
   "cell_type": "code",
   "execution_count": 64,
   "id": "25cbf156",
   "metadata": {},
   "outputs": [
    {
     "data": {
      "text/plain": [
       "'kumar'"
      ]
     },
     "execution_count": 64,
     "metadata": {},
     "output_type": "execute_result"
    }
   ],
   "source": [
    "a[0:300]"
   ]
  },
  {
   "cell_type": "code",
   "execution_count": 65,
   "id": "402969ee",
   "metadata": {},
   "outputs": [
    {
     "data": {
      "text/plain": [
       "'kumar'"
      ]
     },
     "execution_count": 65,
     "metadata": {},
     "output_type": "execute_result"
    }
   ],
   "source": [
    "a[0:300:1]"
   ]
  },
  {
   "cell_type": "code",
   "execution_count": 66,
   "id": "4b146108",
   "metadata": {},
   "outputs": [
    {
     "data": {
      "text/plain": [
       "'kmr'"
      ]
     },
     "execution_count": 66,
     "metadata": {},
     "output_type": "execute_result"
    }
   ],
   "source": [
    "a[0:300:2]"
   ]
  },
  {
   "cell_type": "code",
   "execution_count": 67,
   "id": "fc76353c",
   "metadata": {},
   "outputs": [
    {
     "data": {
      "text/plain": [
       "'ka'"
      ]
     },
     "execution_count": 67,
     "metadata": {},
     "output_type": "execute_result"
    }
   ],
   "source": [
    "a[0:300:3]"
   ]
  },
  {
   "cell_type": "code",
   "execution_count": 68,
   "id": "045b469f",
   "metadata": {},
   "outputs": [
    {
     "data": {
      "text/plain": [
       "''"
      ]
     },
     "execution_count": 68,
     "metadata": {},
     "output_type": "execute_result"
    }
   ],
   "source": [
    "a[0:100:-1]"
   ]
  },
  {
   "cell_type": "code",
   "execution_count": 69,
   "id": "c15e120a",
   "metadata": {},
   "outputs": [
    {
     "data": {
      "text/plain": [
       "''"
      ]
     },
     "execution_count": 69,
     "metadata": {},
     "output_type": "execute_result"
    }
   ],
   "source": [
    "a[-1:-4]"
   ]
  },
  {
   "cell_type": "code",
   "execution_count": 70,
   "id": "e852cea3",
   "metadata": {},
   "outputs": [
    {
     "data": {
      "text/plain": [
       "'ram'"
      ]
     },
     "execution_count": 70,
     "metadata": {},
     "output_type": "execute_result"
    }
   ],
   "source": [
    "a[-1:-4:-1]"
   ]
  },
  {
   "cell_type": "code",
   "execution_count": 71,
   "id": "38207348",
   "metadata": {},
   "outputs": [
    {
     "data": {
      "text/plain": [
       "'ramuk'"
      ]
     },
     "execution_count": 71,
     "metadata": {},
     "output_type": "execute_result"
    }
   ],
   "source": [
    "a[-1:-10:-1]"
   ]
  },
  {
   "cell_type": "code",
   "execution_count": 72,
   "id": "2e25f74e",
   "metadata": {},
   "outputs": [
    {
     "data": {
      "text/plain": [
       "'k'"
      ]
     },
     "execution_count": 72,
     "metadata": {},
     "output_type": "execute_result"
    }
   ],
   "source": [
    "a[0:-10:-1]"
   ]
  },
  {
   "cell_type": "code",
   "execution_count": 73,
   "id": "4a75895f",
   "metadata": {},
   "outputs": [
    {
     "data": {
      "text/plain": [
       "'kumar'"
      ]
     },
     "execution_count": 73,
     "metadata": {},
     "output_type": "execute_result"
    }
   ],
   "source": [
    "a[::]"
   ]
  },
  {
   "cell_type": "code",
   "execution_count": 74,
   "id": "4950dc52",
   "metadata": {},
   "outputs": [
    {
     "data": {
      "text/plain": [
       "'ar'"
      ]
     },
     "execution_count": 74,
     "metadata": {},
     "output_type": "execute_result"
    }
   ],
   "source": [
    "a[-2:]"
   ]
  },
  {
   "cell_type": "code",
   "execution_count": 75,
   "id": "c31ce783",
   "metadata": {},
   "outputs": [
    {
     "data": {
      "text/plain": [
       "'a'"
      ]
     },
     "execution_count": 75,
     "metadata": {},
     "output_type": "execute_result"
    }
   ],
   "source": [
    "a[-2:-1]"
   ]
  },
  {
   "cell_type": "code",
   "execution_count": 76,
   "id": "fcb1e733",
   "metadata": {},
   "outputs": [
    {
     "data": {
      "text/plain": [
       "'ramuk'"
      ]
     },
     "execution_count": 76,
     "metadata": {},
     "output_type": "execute_result"
    }
   ],
   "source": [
    "a[::-1]"
   ]
  },
  {
   "cell_type": "code",
   "execution_count": 77,
   "id": "92a954a6",
   "metadata": {},
   "outputs": [
    {
     "data": {
      "text/plain": [
       "'ramuk'"
      ]
     },
     "execution_count": 77,
     "metadata": {},
     "output_type": "execute_result"
    }
   ],
   "source": [
    "a[-1::-1]"
   ]
  },
  {
   "cell_type": "code",
   "execution_count": 78,
   "id": "edcbfe96",
   "metadata": {},
   "outputs": [],
   "source": [
    "a = \"I am working with ineuron\""
   ]
  },
  {
   "cell_type": "code",
   "execution_count": 79,
   "id": "60f49baf",
   "metadata": {},
   "outputs": [
    {
     "data": {
      "text/plain": [
       "'I am working with ineuron'"
      ]
     },
     "execution_count": 79,
     "metadata": {},
     "output_type": "execute_result"
    }
   ],
   "source": [
    "a"
   ]
  },
  {
   "cell_type": "code",
   "execution_count": 80,
   "id": "92d4f56c",
   "metadata": {},
   "outputs": [
    {
     "data": {
      "text/plain": [
       "'norueni htiw gnikrow ma I'"
      ]
     },
     "execution_count": 80,
     "metadata": {},
     "output_type": "execute_result"
    }
   ],
   "source": [
    "a[::-1]"
   ]
  },
  {
   "cell_type": "code",
   "execution_count": 81,
   "id": "1657b871",
   "metadata": {},
   "outputs": [
    {
     "data": {
      "text/plain": [
       "''"
      ]
     },
     "execution_count": 81,
     "metadata": {},
     "output_type": "execute_result"
    }
   ],
   "source": [
    "a[-5:5]"
   ]
  },
  {
   "cell_type": "code",
   "execution_count": 82,
   "id": "a26020b9",
   "metadata": {},
   "outputs": [
    {
     "data": {
      "text/plain": [
       "'eni htiw gnikro'"
      ]
     },
     "execution_count": 82,
     "metadata": {},
     "output_type": "execute_result"
    }
   ],
   "source": [
    "a[-5:5:-1]"
   ]
  },
  {
   "cell_type": "code",
   "execution_count": 83,
   "id": "ab01a417",
   "metadata": {},
   "outputs": [
    {
     "data": {
      "text/plain": [
       "'orueni h'"
      ]
     },
     "execution_count": 83,
     "metadata": {},
     "output_type": "execute_result"
    }
   ],
   "source": [
    "a[-2:-10:-1]"
   ]
  },
  {
   "cell_type": "code",
   "execution_count": 84,
   "id": "04743d16",
   "metadata": {},
   "outputs": [
    {
     "data": {
      "text/plain": [
       "'sudhsudhsudh'"
      ]
     },
     "execution_count": 84,
     "metadata": {},
     "output_type": "execute_result"
    }
   ],
   "source": [
    "\"sudh\"*3"
   ]
  },
  {
   "cell_type": "code",
   "execution_count": 85,
   "id": "ca62974d",
   "metadata": {},
   "outputs": [
    {
     "data": {
      "text/plain": [
       "'sudh kumar'"
      ]
     },
     "execution_count": 85,
     "metadata": {},
     "output_type": "execute_result"
    }
   ],
   "source": [
    "\"sudh\" + \" kumar\""
   ]
  },
  {
   "cell_type": "code",
   "execution_count": 86,
   "id": "411be269",
   "metadata": {},
   "outputs": [
    {
     "data": {
      "text/plain": [
       "'I am working with ineuron'"
      ]
     },
     "execution_count": 86,
     "metadata": {},
     "output_type": "execute_result"
    }
   ],
   "source": [
    "a"
   ]
  },
  {
   "cell_type": "code",
   "execution_count": 87,
   "id": "d2b140e6",
   "metadata": {},
   "outputs": [
    {
     "data": {
      "text/plain": [
       "25"
      ]
     },
     "execution_count": 87,
     "metadata": {},
     "output_type": "execute_result"
    }
   ],
   "source": [
    "len(a)"
   ]
  },
  {
   "cell_type": "code",
   "execution_count": 88,
   "id": "98ca8e9b",
   "metadata": {},
   "outputs": [
    {
     "data": {
      "text/plain": [
       "2"
      ]
     },
     "execution_count": 88,
     "metadata": {},
     "output_type": "execute_result"
    }
   ],
   "source": [
    "a.find('a')"
   ]
  },
  {
   "cell_type": "code",
   "execution_count": 89,
   "id": "9bf19581",
   "metadata": {},
   "outputs": [
    {
     "data": {
      "text/plain": [
       "9"
      ]
     },
     "execution_count": 89,
     "metadata": {},
     "output_type": "execute_result"
    }
   ],
   "source": [
    "a.find('i')"
   ]
  },
  {
   "cell_type": "code",
   "execution_count": 90,
   "id": "12775e97",
   "metadata": {},
   "outputs": [
    {
     "data": {
      "text/plain": [
       "-1"
      ]
     },
     "execution_count": 90,
     "metadata": {},
     "output_type": "execute_result"
    }
   ],
   "source": [
    "a.find('ia')"
   ]
  },
  {
   "cell_type": "code",
   "execution_count": 91,
   "id": "d8b763a5",
   "metadata": {},
   "outputs": [
    {
     "data": {
      "text/plain": [
       "9"
      ]
     },
     "execution_count": 91,
     "metadata": {},
     "output_type": "execute_result"
    }
   ],
   "source": [
    "a.find('in')"
   ]
  },
  {
   "cell_type": "code",
   "execution_count": 92,
   "id": "87b569d5",
   "metadata": {},
   "outputs": [
    {
     "data": {
      "text/plain": [
       "3"
      ]
     },
     "execution_count": 92,
     "metadata": {},
     "output_type": "execute_result"
    }
   ],
   "source": [
    "a.count('i')"
   ]
  },
  {
   "cell_type": "code",
   "execution_count": 93,
   "id": "911d2a9a",
   "metadata": {},
   "outputs": [
    {
     "data": {
      "text/plain": [
       "'I am working with ineuron'"
      ]
     },
     "execution_count": 93,
     "metadata": {},
     "output_type": "execute_result"
    }
   ],
   "source": [
    "a"
   ]
  },
  {
   "cell_type": "code",
   "execution_count": 94,
   "id": "f48e21f9",
   "metadata": {},
   "outputs": [
    {
     "data": {
      "text/plain": [
       "0"
      ]
     },
     "execution_count": 94,
     "metadata": {},
     "output_type": "execute_result"
    }
   ],
   "source": [
    "a.count('x')"
   ]
  },
  {
   "cell_type": "code",
   "execution_count": 95,
   "id": "c2c024bc",
   "metadata": {},
   "outputs": [],
   "source": [
    "l = a.split()"
   ]
  },
  {
   "cell_type": "code",
   "execution_count": 96,
   "id": "9757a79f",
   "metadata": {},
   "outputs": [
    {
     "data": {
      "text/plain": [
       "'I'"
      ]
     },
     "execution_count": 96,
     "metadata": {},
     "output_type": "execute_result"
    }
   ],
   "source": [
    "l[0]"
   ]
  },
  {
   "cell_type": "code",
   "execution_count": 97,
   "id": "5ba25ff2",
   "metadata": {},
   "outputs": [
    {
     "data": {
      "text/plain": [
       "'am'"
      ]
     },
     "execution_count": 97,
     "metadata": {},
     "output_type": "execute_result"
    }
   ],
   "source": [
    "l[1]"
   ]
  },
  {
   "cell_type": "code",
   "execution_count": 98,
   "id": "5a750980",
   "metadata": {},
   "outputs": [
    {
     "data": {
      "text/plain": [
       "'working'"
      ]
     },
     "execution_count": 98,
     "metadata": {},
     "output_type": "execute_result"
    }
   ],
   "source": [
    "l[2]"
   ]
  },
  {
   "cell_type": "code",
   "execution_count": 99,
   "id": "6c2daa18",
   "metadata": {},
   "outputs": [
    {
     "data": {
      "text/plain": [
       "['I', 'am', 'working']"
      ]
     },
     "execution_count": 99,
     "metadata": {},
     "output_type": "execute_result"
    }
   ],
   "source": [
    "l[0:3]"
   ]
  },
  {
   "cell_type": "code",
   "execution_count": 100,
   "id": "7157b968",
   "metadata": {},
   "outputs": [
    {
     "data": {
      "text/plain": [
       "['I am ', 'orking ', 'ith ineuron']"
      ]
     },
     "execution_count": 100,
     "metadata": {},
     "output_type": "execute_result"
    }
   ],
   "source": [
    "a.split('w')"
   ]
  },
  {
   "cell_type": "code",
   "execution_count": 101,
   "id": "0cf36c86",
   "metadata": {},
   "outputs": [
    {
     "data": {
      "text/plain": [
       "['I am ', 'rking with ineuron']"
      ]
     },
     "execution_count": 101,
     "metadata": {},
     "output_type": "execute_result"
    }
   ],
   "source": [
    "a.split('wo')"
   ]
  },
  {
   "cell_type": "code",
   "execution_count": 102,
   "id": "9cc2c6a8",
   "metadata": {},
   "outputs": [
    {
     "data": {
      "text/plain": [
       "'I AM WORKING WITH INEURON'"
      ]
     },
     "execution_count": 102,
     "metadata": {},
     "output_type": "execute_result"
    }
   ],
   "source": [
    "a.upper()"
   ]
  },
  {
   "cell_type": "code",
   "execution_count": 103,
   "id": "b09b4399",
   "metadata": {},
   "outputs": [],
   "source": [
    "s = \"sUdh\""
   ]
  },
  {
   "cell_type": "code",
   "execution_count": 104,
   "id": "9f96193d",
   "metadata": {},
   "outputs": [
    {
     "data": {
      "text/plain": [
       "'SuDH'"
      ]
     },
     "execution_count": 104,
     "metadata": {},
     "output_type": "execute_result"
    }
   ],
   "source": [
    "s.swapcase()"
   ]
  },
  {
   "cell_type": "code",
   "execution_count": 105,
   "id": "b6ae686d",
   "metadata": {},
   "outputs": [
    {
     "data": {
      "text/plain": [
       "'Sudh'"
      ]
     },
     "execution_count": 105,
     "metadata": {},
     "output_type": "execute_result"
    }
   ],
   "source": [
    "s.title()"
   ]
  },
  {
   "cell_type": "code",
   "execution_count": 106,
   "id": "7c404709",
   "metadata": {},
   "outputs": [
    {
     "data": {
      "text/plain": [
       "'Sudh'"
      ]
     },
     "execution_count": 106,
     "metadata": {},
     "output_type": "execute_result"
    }
   ],
   "source": [
    "s.capitalize()"
   ]
  },
  {
   "cell_type": "code",
   "execution_count": 109,
   "id": "3a9447f2",
   "metadata": {},
   "outputs": [],
   "source": [
    "b = \"sudh\"\n",
    "c = \"ineuron\""
   ]
  },
  {
   "cell_type": "code",
   "execution_count": 110,
   "id": "b7a0f344",
   "metadata": {},
   "outputs": [
    {
     "data": {
      "text/plain": [
       "'isudhnsudhesudhusudhrsudhosudhn'"
      ]
     },
     "execution_count": 110,
     "metadata": {},
     "output_type": "execute_result"
    }
   ],
   "source": [
    "b.join(c)"
   ]
  },
  {
   "cell_type": "code",
   "execution_count": 111,
   "id": "b72dc33a",
   "metadata": {},
   "outputs": [
    {
     "data": {
      "text/plain": [
       "'s u d h'"
      ]
     },
     "execution_count": 111,
     "metadata": {},
     "output_type": "execute_result"
    }
   ],
   "source": [
    "\" \".join(\"sudh\")"
   ]
  },
  {
   "cell_type": "code",
   "execution_count": 112,
   "id": "67353120",
   "metadata": {},
   "outputs": [
    {
     "name": "stdout",
     "output_type": "stream",
     "text": [
      "h\n",
      "d\n",
      "u\n",
      "s\n"
     ]
    }
   ],
   "source": [
    "for i in reversed(\"sudh\"):\n",
    "    print(i)"
   ]
  },
  {
   "cell_type": "code",
   "execution_count": 113,
   "id": "874b2286",
   "metadata": {},
   "outputs": [
    {
     "data": {
      "text/plain": [
       "' hdus '"
      ]
     },
     "execution_count": 113,
     "metadata": {},
     "output_type": "execute_result"
    }
   ],
   "source": [
    "s = \" sudh \"\n",
    "s[::-1]"
   ]
  },
  {
   "cell_type": "code",
   "execution_count": 114,
   "id": "7ad5865b",
   "metadata": {},
   "outputs": [
    {
     "data": {
      "text/plain": [
       "' sudh'"
      ]
     },
     "execution_count": 114,
     "metadata": {},
     "output_type": "execute_result"
    }
   ],
   "source": [
    "s.rstrip()"
   ]
  },
  {
   "cell_type": "code",
   "execution_count": 115,
   "id": "9cea1188",
   "metadata": {},
   "outputs": [
    {
     "data": {
      "text/plain": [
       "'sudh '"
      ]
     },
     "execution_count": 115,
     "metadata": {},
     "output_type": "execute_result"
    }
   ],
   "source": [
    "s.lstrip()"
   ]
  },
  {
   "cell_type": "code",
   "execution_count": 116,
   "id": "77431475",
   "metadata": {},
   "outputs": [
    {
     "data": {
      "text/plain": [
       "'sudh'"
      ]
     },
     "execution_count": 116,
     "metadata": {},
     "output_type": "execute_result"
    }
   ],
   "source": [
    "s.strip()"
   ]
  },
  {
   "cell_type": "code",
   "execution_count": 117,
   "id": "69ff4776",
   "metadata": {},
   "outputs": [],
   "source": [
    "s = \"sudh\""
   ]
  },
  {
   "cell_type": "code",
   "execution_count": 118,
   "id": "21dae8aa",
   "metadata": {},
   "outputs": [
    {
     "data": {
      "text/plain": [
       "'sxyzdh'"
      ]
     },
     "execution_count": 118,
     "metadata": {},
     "output_type": "execute_result"
    }
   ],
   "source": [
    "s.replace(\"u\", \"xyz\")"
   ]
  },
  {
   "cell_type": "code",
   "execution_count": 119,
   "id": "64432e17",
   "metadata": {},
   "outputs": [
    {
     "data": {
      "text/plain": [
       "'sudh'"
      ]
     },
     "execution_count": 119,
     "metadata": {},
     "output_type": "execute_result"
    }
   ],
   "source": [
    "s.replace(\"t\",\"xyz\")"
   ]
  },
  {
   "cell_type": "code",
   "execution_count": 120,
   "id": "ccdae81f",
   "metadata": {},
   "outputs": [
    {
     "data": {
      "text/plain": [
       "'sudh    kumar'"
      ]
     },
     "execution_count": 120,
     "metadata": {},
     "output_type": "execute_result"
    }
   ],
   "source": [
    "\"sudh\\tkumar\".expandtabs()"
   ]
  },
  {
   "cell_type": "code",
   "execution_count": 121,
   "id": "98f965eb",
   "metadata": {},
   "outputs": [
    {
     "data": {
      "text/plain": [
       "'ttttttttttttttttttsudhtttttttttttttttttt'"
      ]
     },
     "execution_count": 121,
     "metadata": {},
     "output_type": "execute_result"
    }
   ],
   "source": [
    "s.center(40,'t')"
   ]
  },
  {
   "cell_type": "code",
   "execution_count": 122,
   "id": "0633b1c2",
   "metadata": {},
   "outputs": [
    {
     "data": {
      "text/plain": [
       "False"
      ]
     },
     "execution_count": 122,
     "metadata": {},
     "output_type": "execute_result"
    }
   ],
   "source": [
    "s.isupper()"
   ]
  },
  {
   "cell_type": "code",
   "execution_count": 123,
   "id": "c2c8e361",
   "metadata": {},
   "outputs": [
    {
     "data": {
      "text/plain": [
       "False"
      ]
     },
     "execution_count": 123,
     "metadata": {},
     "output_type": "execute_result"
    }
   ],
   "source": [
    "s = \"Sudh\"\n",
    "s.isupper()"
   ]
  },
  {
   "cell_type": "code",
   "execution_count": 124,
   "id": "41e8a20d",
   "metadata": {},
   "outputs": [
    {
     "data": {
      "text/plain": [
       "True"
      ]
     },
     "execution_count": 124,
     "metadata": {},
     "output_type": "execute_result"
    }
   ],
   "source": [
    "s = \"SUDH\"\n",
    "s.isupper()"
   ]
  },
  {
   "cell_type": "code",
   "execution_count": 125,
   "id": "ad3acfc5",
   "metadata": {},
   "outputs": [
    {
     "data": {
      "text/plain": [
       "False"
      ]
     },
     "execution_count": 125,
     "metadata": {},
     "output_type": "execute_result"
    }
   ],
   "source": [
    "s.islower()"
   ]
  },
  {
   "cell_type": "code",
   "execution_count": 126,
   "id": "855f7480",
   "metadata": {},
   "outputs": [
    {
     "data": {
      "text/plain": [
       "False"
      ]
     },
     "execution_count": 126,
     "metadata": {},
     "output_type": "execute_result"
    }
   ],
   "source": [
    "s.isspace()"
   ]
  },
  {
   "cell_type": "code",
   "execution_count": 127,
   "id": "e680f958",
   "metadata": {},
   "outputs": [
    {
     "data": {
      "text/plain": [
       "False"
      ]
     },
     "execution_count": 127,
     "metadata": {},
     "output_type": "execute_result"
    }
   ],
   "source": [
    "s = \"  sudh\"\n",
    "s.isspace()"
   ]
  },
  {
   "cell_type": "code",
   "execution_count": 128,
   "id": "ffe7e94c",
   "metadata": {},
   "outputs": [
    {
     "data": {
      "text/plain": [
       "True"
      ]
     },
     "execution_count": 128,
     "metadata": {},
     "output_type": "execute_result"
    }
   ],
   "source": [
    "s = \"  \"\n",
    "s.isspace()"
   ]
  },
  {
   "cell_type": "code",
   "execution_count": 129,
   "id": "df134034",
   "metadata": {},
   "outputs": [
    {
     "data": {
      "text/plain": [
       "False"
      ]
     },
     "execution_count": 129,
     "metadata": {},
     "output_type": "execute_result"
    }
   ],
   "source": [
    "s = \"sudh\"\n",
    "s.isdigit()"
   ]
  },
  {
   "cell_type": "code",
   "execution_count": 130,
   "id": "a7008a78",
   "metadata": {},
   "outputs": [
    {
     "data": {
      "text/plain": [
       "True"
      ]
     },
     "execution_count": 130,
     "metadata": {},
     "output_type": "execute_result"
    }
   ],
   "source": [
    "s = \"456321\"\n",
    "s.isdigit()"
   ]
  },
  {
   "cell_type": "code",
   "execution_count": 131,
   "id": "e4bb435e",
   "metadata": {},
   "outputs": [
    {
     "data": {
      "text/plain": [
       "True"
      ]
     },
     "execution_count": 131,
     "metadata": {},
     "output_type": "execute_result"
    }
   ],
   "source": [
    "s = \"sudh\"\n",
    "s.endswith('h')"
   ]
  },
  {
   "cell_type": "code",
   "execution_count": 132,
   "id": "13180fef",
   "metadata": {},
   "outputs": [
    {
     "data": {
      "text/plain": [
       "False"
      ]
     },
     "execution_count": 132,
     "metadata": {},
     "output_type": "execute_result"
    }
   ],
   "source": [
    "s.endswith('x')"
   ]
  },
  {
   "cell_type": "code",
   "execution_count": 133,
   "id": "475229aa",
   "metadata": {},
   "outputs": [
    {
     "data": {
      "text/plain": [
       "True"
      ]
     },
     "execution_count": 133,
     "metadata": {},
     "output_type": "execute_result"
    }
   ],
   "source": [
    "s.startswith('s')"
   ]
  },
  {
   "cell_type": "code",
   "execution_count": 134,
   "id": "fb39f01e",
   "metadata": {},
   "outputs": [
    {
     "data": {
      "text/plain": [
       "False"
      ]
     },
     "execution_count": 134,
     "metadata": {},
     "output_type": "execute_result"
    }
   ],
   "source": [
    "s.istitle()"
   ]
  },
  {
   "cell_type": "code",
   "execution_count": 135,
   "id": "5bbc2ed2",
   "metadata": {},
   "outputs": [
    {
     "data": {
      "text/plain": [
       "b'sudh'"
      ]
     },
     "execution_count": 135,
     "metadata": {},
     "output_type": "execute_result"
    }
   ],
   "source": [
    "s.encode()"
   ]
  },
  {
   "cell_type": "code",
   "execution_count": 136,
   "id": "280615e4",
   "metadata": {},
   "outputs": [],
   "source": [
    "l = [\"sudh\", \"kumar\",3456,4+9j, True, 354.25]"
   ]
  },
  {
   "cell_type": "code",
   "execution_count": 137,
   "id": "4f83bfbf",
   "metadata": {},
   "outputs": [
    {
     "data": {
      "text/plain": [
       "list"
      ]
     },
     "execution_count": 137,
     "metadata": {},
     "output_type": "execute_result"
    }
   ],
   "source": [
    "type(l)"
   ]
  },
  {
   "cell_type": "code",
   "execution_count": 138,
   "id": "acabb51f",
   "metadata": {},
   "outputs": [
    {
     "data": {
      "text/plain": [
       "'sudh'"
      ]
     },
     "execution_count": 138,
     "metadata": {},
     "output_type": "execute_result"
    }
   ],
   "source": [
    "l[0]"
   ]
  },
  {
   "cell_type": "code",
   "execution_count": 139,
   "id": "92641663",
   "metadata": {},
   "outputs": [
    {
     "data": {
      "text/plain": [
       "354.25"
      ]
     },
     "execution_count": 139,
     "metadata": {},
     "output_type": "execute_result"
    }
   ],
   "source": [
    "l[-1]"
   ]
  },
  {
   "cell_type": "code",
   "execution_count": 140,
   "id": "3f274ea5",
   "metadata": {},
   "outputs": [
    {
     "data": {
      "text/plain": [
       "'kumar'"
      ]
     },
     "execution_count": 140,
     "metadata": {},
     "output_type": "execute_result"
    }
   ],
   "source": [
    "l[-5]"
   ]
  },
  {
   "cell_type": "code",
   "execution_count": 141,
   "id": "4511374b",
   "metadata": {},
   "outputs": [
    {
     "data": {
      "text/plain": [
       "['sudh', 'kumar', 3456, (4+9j)]"
      ]
     },
     "execution_count": 141,
     "metadata": {},
     "output_type": "execute_result"
    }
   ],
   "source": [
    "l[0:4]"
   ]
  },
  {
   "cell_type": "code",
   "execution_count": 142,
   "id": "9b8433bb",
   "metadata": {},
   "outputs": [
    {
     "data": {
      "text/plain": [
       "[354.25, True, (4+9j), 3456, 'kumar', 'sudh']"
      ]
     },
     "execution_count": 142,
     "metadata": {},
     "output_type": "execute_result"
    }
   ],
   "source": [
    "l[::-1]"
   ]
  },
  {
   "cell_type": "code",
   "execution_count": 143,
   "id": "a94cb648",
   "metadata": {},
   "outputs": [
    {
     "data": {
      "text/plain": [
       "[354.25]"
      ]
     },
     "execution_count": 143,
     "metadata": {},
     "output_type": "execute_result"
    }
   ],
   "source": [
    "l[-1:6]"
   ]
  },
  {
   "cell_type": "code",
   "execution_count": 144,
   "id": "3a047db7",
   "metadata": {},
   "outputs": [
    {
     "data": {
      "text/plain": [
       "'sudh'"
      ]
     },
     "execution_count": 144,
     "metadata": {},
     "output_type": "execute_result"
    }
   ],
   "source": [
    "l[0]"
   ]
  },
  {
   "cell_type": "code",
   "execution_count": 145,
   "id": "8edf3ff9",
   "metadata": {},
   "outputs": [
    {
     "data": {
      "text/plain": [
       "'u'"
      ]
     },
     "execution_count": 145,
     "metadata": {},
     "output_type": "execute_result"
    }
   ],
   "source": [
    "l[0][1]"
   ]
  },
  {
   "cell_type": "code",
   "execution_count": 146,
   "id": "089510a9",
   "metadata": {},
   "outputs": [
    {
     "data": {
      "text/plain": [
       "4.0"
      ]
     },
     "execution_count": 146,
     "metadata": {},
     "output_type": "execute_result"
    }
   ],
   "source": [
    "l[3].real"
   ]
  },
  {
   "cell_type": "code",
   "execution_count": 147,
   "id": "a29e4989",
   "metadata": {},
   "outputs": [],
   "source": [
    "l1 = [\"sudh\", \"kumar\",4587]\n",
    "l2 = [\"xyz\",\"pqr\",456.25]"
   ]
  },
  {
   "cell_type": "code",
   "execution_count": 148,
   "id": "70a4ba5e",
   "metadata": {},
   "outputs": [
    {
     "data": {
      "text/plain": [
       "['sudh', 'kumar', 4587, 'xyz', 'pqr', 456.25]"
      ]
     },
     "execution_count": 148,
     "metadata": {},
     "output_type": "execute_result"
    }
   ],
   "source": [
    "l1+l2"
   ]
  },
  {
   "cell_type": "code",
   "execution_count": 149,
   "id": "85f5b081",
   "metadata": {},
   "outputs": [
    {
     "data": {
      "text/plain": [
       "['sudh', 'kumar', 4587, 'sudh']"
      ]
     },
     "execution_count": 149,
     "metadata": {},
     "output_type": "execute_result"
    }
   ],
   "source": [
    "l1 + [\"sudh\"]"
   ]
  },
  {
   "cell_type": "code",
   "execution_count": 150,
   "id": "5a6b58c9",
   "metadata": {},
   "outputs": [
    {
     "data": {
      "text/plain": [
       "['sudh',\n",
       " 'kumar',\n",
       " 4587,\n",
       " 'sudh',\n",
       " 'kumar',\n",
       " 4587,\n",
       " 'sudh',\n",
       " 'kumar',\n",
       " 4587,\n",
       " 'sudh',\n",
       " 'kumar',\n",
       " 4587]"
      ]
     },
     "execution_count": 150,
     "metadata": {},
     "output_type": "execute_result"
    }
   ],
   "source": [
    "l1*4"
   ]
  },
  {
   "cell_type": "code",
   "execution_count": 151,
   "id": "7d37eb2f",
   "metadata": {},
   "outputs": [
    {
     "data": {
      "text/plain": [
       "['sudh', 'kumar', 4587, 'sudh', 'kumar', 4587]"
      ]
     },
     "execution_count": 151,
     "metadata": {},
     "output_type": "execute_result"
    }
   ],
   "source": [
    "l1*2"
   ]
  },
  {
   "cell_type": "code",
   "execution_count": 152,
   "id": "d2545abd",
   "metadata": {},
   "outputs": [
    {
     "data": {
      "text/plain": [
       "['sudh', 'kumar', 4587]"
      ]
     },
     "execution_count": 152,
     "metadata": {},
     "output_type": "execute_result"
    }
   ],
   "source": [
    "l1"
   ]
  },
  {
   "cell_type": "code",
   "execution_count": 153,
   "id": "aabd6682",
   "metadata": {},
   "outputs": [
    {
     "data": {
      "text/plain": [
       "'Faiz'"
      ]
     },
     "execution_count": 153,
     "metadata": {},
     "output_type": "execute_result"
    }
   ],
   "source": [
    "l3 = l1[0].replace(\"sudh\",\"Faiz\")\n",
    "l3"
   ]
  },
  {
   "cell_type": "code",
   "execution_count": 154,
   "id": "a985c13a",
   "metadata": {},
   "outputs": [
    {
     "data": {
      "text/plain": [
       "'Faiz'"
      ]
     },
     "execution_count": 154,
     "metadata": {},
     "output_type": "execute_result"
    }
   ],
   "source": [
    "l3"
   ]
  },
  {
   "cell_type": "code",
   "execution_count": 155,
   "id": "379ed3a2",
   "metadata": {},
   "outputs": [],
   "source": [
    "l1[0] = \"Faiz\""
   ]
  },
  {
   "cell_type": "code",
   "execution_count": 156,
   "id": "900fc3d8",
   "metadata": {},
   "outputs": [
    {
     "data": {
      "text/plain": [
       "['Faiz', 'kumar', 4587]"
      ]
     },
     "execution_count": 156,
     "metadata": {},
     "output_type": "execute_result"
    }
   ],
   "source": [
    "l1"
   ]
  },
  {
   "cell_type": "code",
   "execution_count": 157,
   "id": "d9011c9a",
   "metadata": {},
   "outputs": [],
   "source": [
    "l4 = l[1].replace('k','s')"
   ]
  },
  {
   "cell_type": "code",
   "execution_count": 158,
   "id": "15622570",
   "metadata": {},
   "outputs": [
    {
     "data": {
      "text/plain": [
       "'sumar'"
      ]
     },
     "execution_count": 158,
     "metadata": {},
     "output_type": "execute_result"
    }
   ],
   "source": [
    "l4"
   ]
  },
  {
   "cell_type": "code",
   "execution_count": 159,
   "id": "4e0a29bf",
   "metadata": {},
   "outputs": [
    {
     "data": {
      "text/plain": [
       "['Faiz', 'kumar', 4587]"
      ]
     },
     "execution_count": 159,
     "metadata": {},
     "output_type": "execute_result"
    }
   ],
   "source": [
    "l1"
   ]
  },
  {
   "cell_type": "code",
   "execution_count": 160,
   "id": "cd519ffe",
   "metadata": {},
   "outputs": [
    {
     "data": {
      "text/plain": [
       "3"
      ]
     },
     "execution_count": 160,
     "metadata": {},
     "output_type": "execute_result"
    }
   ],
   "source": [
    "len(l1)"
   ]
  },
  {
   "cell_type": "code",
   "execution_count": 161,
   "id": "d5d3b727",
   "metadata": {},
   "outputs": [
    {
     "data": {
      "text/plain": [
       "False"
      ]
     },
     "execution_count": 161,
     "metadata": {},
     "output_type": "execute_result"
    }
   ],
   "source": [
    "32547 in l1"
   ]
  },
  {
   "cell_type": "code",
   "execution_count": 162,
   "id": "0adaac0a",
   "metadata": {},
   "outputs": [
    {
     "data": {
      "text/plain": [
       "['xyz', 'pqr', 456.25]"
      ]
     },
     "execution_count": 162,
     "metadata": {},
     "output_type": "execute_result"
    }
   ],
   "source": [
    "l2"
   ]
  },
  {
   "cell_type": "code",
   "execution_count": 163,
   "id": "3ede1c33",
   "metadata": {},
   "outputs": [],
   "source": [
    "l2.append(\"sudh\")"
   ]
  },
  {
   "cell_type": "code",
   "execution_count": 164,
   "id": "920805ce",
   "metadata": {},
   "outputs": [
    {
     "data": {
      "text/plain": [
       "['xyz', 'pqr', 456.25, 'sudh']"
      ]
     },
     "execution_count": 164,
     "metadata": {},
     "output_type": "execute_result"
    }
   ],
   "source": [
    "l2"
   ]
  },
  {
   "cell_type": "code",
   "execution_count": 165,
   "id": "9fc06df0",
   "metadata": {},
   "outputs": [
    {
     "data": {
      "text/plain": [
       "'sudh'"
      ]
     },
     "execution_count": 165,
     "metadata": {},
     "output_type": "execute_result"
    }
   ],
   "source": [
    "l2.pop()"
   ]
  },
  {
   "cell_type": "code",
   "execution_count": 166,
   "id": "dff5898c",
   "metadata": {},
   "outputs": [
    {
     "data": {
      "text/plain": [
       "456.25"
      ]
     },
     "execution_count": 166,
     "metadata": {},
     "output_type": "execute_result"
    }
   ],
   "source": [
    "l2.pop(2)"
   ]
  },
  {
   "cell_type": "code",
   "execution_count": 167,
   "id": "e8a5b003",
   "metadata": {},
   "outputs": [
    {
     "data": {
      "text/plain": [
       "['xyz', 'pqr']"
      ]
     },
     "execution_count": 167,
     "metadata": {},
     "output_type": "execute_result"
    }
   ],
   "source": [
    "l2"
   ]
  },
  {
   "cell_type": "code",
   "execution_count": 168,
   "id": "d9380850",
   "metadata": {},
   "outputs": [],
   "source": [
    "l2.append(345687)"
   ]
  },
  {
   "cell_type": "code",
   "execution_count": 169,
   "id": "3147e563",
   "metadata": {},
   "outputs": [],
   "source": [
    "l2.insert(1,\"faiz\")"
   ]
  },
  {
   "cell_type": "code",
   "execution_count": 170,
   "id": "603e582e",
   "metadata": {},
   "outputs": [
    {
     "data": {
      "text/plain": [
       "['xyz', 'faiz', 'pqr', 345687]"
      ]
     },
     "execution_count": 170,
     "metadata": {},
     "output_type": "execute_result"
    }
   ],
   "source": [
    "l2"
   ]
  },
  {
   "cell_type": "code",
   "execution_count": 171,
   "id": "18ef4922",
   "metadata": {},
   "outputs": [],
   "source": [
    "l2.insert(3,[325,'bukhari',\"kumar\"])"
   ]
  },
  {
   "cell_type": "code",
   "execution_count": 172,
   "id": "23f9a089",
   "metadata": {},
   "outputs": [
    {
     "data": {
      "text/plain": [
       "['xyz', 'faiz', 'pqr', [325, 'bukhari', 'kumar'], 345687]"
      ]
     },
     "execution_count": 172,
     "metadata": {},
     "output_type": "execute_result"
    }
   ],
   "source": [
    "l2"
   ]
  },
  {
   "cell_type": "code",
   "execution_count": 173,
   "id": "9dd6f616",
   "metadata": {},
   "outputs": [
    {
     "data": {
      "text/plain": [
       "[345687, [325, 'bukhari', 'kumar'], 'pqr', 'faiz', 'xyz']"
      ]
     },
     "execution_count": 173,
     "metadata": {},
     "output_type": "execute_result"
    }
   ],
   "source": [
    "l2[::-1]"
   ]
  },
  {
   "cell_type": "code",
   "execution_count": 174,
   "id": "3d9af91d",
   "metadata": {},
   "outputs": [],
   "source": [
    "l2.reverse()"
   ]
  },
  {
   "cell_type": "code",
   "execution_count": 175,
   "id": "c34a1bab",
   "metadata": {},
   "outputs": [
    {
     "data": {
      "text/plain": [
       "[345687, [325, 'bukhari', 'kumar'], 'pqr', 'faiz', 'xyz']"
      ]
     },
     "execution_count": 175,
     "metadata": {},
     "output_type": "execute_result"
    }
   ],
   "source": [
    "l2"
   ]
  },
  {
   "cell_type": "code",
   "execution_count": 176,
   "id": "97a6c0c9",
   "metadata": {},
   "outputs": [
    {
     "data": {
      "text/plain": [
       "['Faiz', 'kumar', 4587]"
      ]
     },
     "execution_count": 176,
     "metadata": {},
     "output_type": "execute_result"
    }
   ],
   "source": [
    "l1"
   ]
  },
  {
   "cell_type": "code",
   "execution_count": 177,
   "id": "3dea5eb2",
   "metadata": {},
   "outputs": [
    {
     "data": {
      "text/plain": [
       "[345687, [325, 'bukhari', 'kumar'], 'pqr', 'faiz', 'xyz']"
      ]
     },
     "execution_count": 177,
     "metadata": {},
     "output_type": "execute_result"
    }
   ],
   "source": [
    "l2"
   ]
  },
  {
   "cell_type": "code",
   "execution_count": 178,
   "id": "e9ad00a9",
   "metadata": {},
   "outputs": [
    {
     "data": {
      "text/plain": [
       "'kumar'"
      ]
     },
     "execution_count": 178,
     "metadata": {},
     "output_type": "execute_result"
    }
   ],
   "source": [
    "l2[1][2]"
   ]
  },
  {
   "cell_type": "code",
   "execution_count": 179,
   "id": "2ac50f47",
   "metadata": {},
   "outputs": [
    {
     "data": {
      "text/plain": [
       "[345687, [325, 'bukhari', 'kumar'], 'pqr', 'faiz', 'xyz']"
      ]
     },
     "execution_count": 179,
     "metadata": {},
     "output_type": "execute_result"
    }
   ],
   "source": [
    "l2"
   ]
  },
  {
   "cell_type": "code",
   "execution_count": 180,
   "id": "9d399fa1",
   "metadata": {},
   "outputs": [
    {
     "data": {
      "text/plain": [
       "1"
      ]
     },
     "execution_count": 180,
     "metadata": {},
     "output_type": "execute_result"
    }
   ],
   "source": [
    "l2.count('xyz')"
   ]
  },
  {
   "cell_type": "code",
   "execution_count": 181,
   "id": "19bdd5c7",
   "metadata": {},
   "outputs": [],
   "source": [
    "l2.append(\"munger\")"
   ]
  },
  {
   "cell_type": "code",
   "execution_count": 182,
   "id": "8e9652a9",
   "metadata": {},
   "outputs": [],
   "source": [
    "l2.append([3,4,54,6])"
   ]
  },
  {
   "cell_type": "code",
   "execution_count": 183,
   "id": "e554c84a",
   "metadata": {},
   "outputs": [
    {
     "data": {
      "text/plain": [
       "[345687,\n",
       " [325, 'bukhari', 'kumar'],\n",
       " 'pqr',\n",
       " 'faiz',\n",
       " 'xyz',\n",
       " 'munger',\n",
       " [3, 4, 54, 6]]"
      ]
     },
     "execution_count": 183,
     "metadata": {},
     "output_type": "execute_result"
    }
   ],
   "source": [
    "l2"
   ]
  },
  {
   "cell_type": "code",
   "execution_count": 184,
   "id": "eeaa2f50",
   "metadata": {},
   "outputs": [
    {
     "data": {
      "text/plain": [
       "['Faiz', 'kumar', 4587]"
      ]
     },
     "execution_count": 184,
     "metadata": {},
     "output_type": "execute_result"
    }
   ],
   "source": [
    "l1"
   ]
  },
  {
   "cell_type": "code",
   "execution_count": 185,
   "id": "e15ff47f",
   "metadata": {},
   "outputs": [],
   "source": [
    "l1.extend(['faiz',3548,2.25,True])"
   ]
  },
  {
   "cell_type": "code",
   "execution_count": 186,
   "id": "8817b75d",
   "metadata": {},
   "outputs": [
    {
     "data": {
      "text/plain": [
       "['Faiz', 'kumar', 4587, 'faiz', 3548, 2.25, True]"
      ]
     },
     "execution_count": 186,
     "metadata": {},
     "output_type": "execute_result"
    }
   ],
   "source": [
    "l1"
   ]
  },
  {
   "cell_type": "code",
   "execution_count": 188,
   "id": "29dfe88c",
   "metadata": {},
   "outputs": [],
   "source": [
    "#3:03/4"
   ]
  },
  {
   "cell_type": "code",
   "execution_count": 189,
   "id": "4c2da8e8",
   "metadata": {},
   "outputs": [],
   "source": [
    "#Tuples"
   ]
  },
  {
   "cell_type": "code",
   "execution_count": 190,
   "id": "3ea92873",
   "metadata": {},
   "outputs": [],
   "source": [
    "t = (1,2,3,4,5)"
   ]
  },
  {
   "cell_type": "code",
   "execution_count": 191,
   "id": "c0d1114b",
   "metadata": {},
   "outputs": [
    {
     "data": {
      "text/plain": [
       "tuple"
      ]
     },
     "execution_count": 191,
     "metadata": {},
     "output_type": "execute_result"
    }
   ],
   "source": [
    "type(t)"
   ]
  },
  {
   "cell_type": "code",
   "execution_count": 192,
   "id": "c9aaadd6",
   "metadata": {},
   "outputs": [],
   "source": [
    "t1 = (\"sudh\",345,45+6j, 45.50, True)"
   ]
  },
  {
   "cell_type": "code",
   "execution_count": 193,
   "id": "977f4dc6",
   "metadata": {},
   "outputs": [],
   "source": [
    "l = [\"sudh\",345,45+6j, 45.50, True]"
   ]
  },
  {
   "cell_type": "code",
   "execution_count": 194,
   "id": "5cef59b2",
   "metadata": {},
   "outputs": [
    {
     "data": {
      "text/plain": [
       "tuple"
      ]
     },
     "execution_count": 194,
     "metadata": {},
     "output_type": "execute_result"
    }
   ],
   "source": [
    "type(t1)"
   ]
  },
  {
   "cell_type": "code",
   "execution_count": 195,
   "id": "7826efa3",
   "metadata": {},
   "outputs": [
    {
     "data": {
      "text/plain": [
       "list"
      ]
     },
     "execution_count": 195,
     "metadata": {},
     "output_type": "execute_result"
    }
   ],
   "source": [
    "type(l)"
   ]
  },
  {
   "cell_type": "code",
   "execution_count": 196,
   "id": "914a8ddc",
   "metadata": {},
   "outputs": [],
   "source": [
    "t2 = ()"
   ]
  },
  {
   "cell_type": "code",
   "execution_count": 197,
   "id": "3791e35b",
   "metadata": {},
   "outputs": [
    {
     "data": {
      "text/plain": [
       "tuple"
      ]
     },
     "execution_count": 197,
     "metadata": {},
     "output_type": "execute_result"
    }
   ],
   "source": [
    "type(t2)"
   ]
  },
  {
   "cell_type": "code",
   "execution_count": 198,
   "id": "b24cd6f0",
   "metadata": {},
   "outputs": [
    {
     "data": {
      "text/plain": [
       "('sudh', 345, (45+6j), 45.5, True)"
      ]
     },
     "execution_count": 198,
     "metadata": {},
     "output_type": "execute_result"
    }
   ],
   "source": [
    "t1"
   ]
  },
  {
   "cell_type": "code",
   "execution_count": 199,
   "id": "9523d536",
   "metadata": {},
   "outputs": [
    {
     "data": {
      "text/plain": [
       "['sudh', 345, (45+6j), 45.5, True]"
      ]
     },
     "execution_count": 199,
     "metadata": {},
     "output_type": "execute_result"
    }
   ],
   "source": [
    "l"
   ]
  },
  {
   "cell_type": "code",
   "execution_count": 200,
   "id": "735c4821",
   "metadata": {},
   "outputs": [
    {
     "data": {
      "text/plain": [
       "['sudh', 345]"
      ]
     },
     "execution_count": 200,
     "metadata": {},
     "output_type": "execute_result"
    }
   ],
   "source": [
    "l[0:2]"
   ]
  },
  {
   "cell_type": "code",
   "execution_count": 201,
   "id": "ae0e82f5",
   "metadata": {},
   "outputs": [
    {
     "data": {
      "text/plain": [
       "('sudh', 345)"
      ]
     },
     "execution_count": 201,
     "metadata": {},
     "output_type": "execute_result"
    }
   ],
   "source": [
    "t1[0:2]"
   ]
  },
  {
   "cell_type": "code",
   "execution_count": 202,
   "id": "ab6ff7ec",
   "metadata": {},
   "outputs": [
    {
     "data": {
      "text/plain": [
       "(True, 45.5, (45+6j), 345, 'sudh')"
      ]
     },
     "execution_count": 202,
     "metadata": {},
     "output_type": "execute_result"
    }
   ],
   "source": [
    "t1[::-1]"
   ]
  },
  {
   "cell_type": "code",
   "execution_count": 203,
   "id": "0884a175",
   "metadata": {},
   "outputs": [
    {
     "data": {
      "text/plain": [
       "True"
      ]
     },
     "execution_count": 203,
     "metadata": {},
     "output_type": "execute_result"
    }
   ],
   "source": [
    "t1[-1]"
   ]
  },
  {
   "cell_type": "code",
   "execution_count": 204,
   "id": "47837d7a",
   "metadata": {},
   "outputs": [
    {
     "data": {
      "text/plain": [
       "('sudh', 345, (45+6j), 45.5, True)"
      ]
     },
     "execution_count": 204,
     "metadata": {},
     "output_type": "execute_result"
    }
   ],
   "source": [
    "t1"
   ]
  },
  {
   "cell_type": "code",
   "execution_count": 205,
   "id": "9ede10d1",
   "metadata": {},
   "outputs": [
    {
     "data": {
      "text/plain": [
       "('sudh', (45+6j), True)"
      ]
     },
     "execution_count": 205,
     "metadata": {},
     "output_type": "execute_result"
    }
   ],
   "source": [
    "t1[0::2]"
   ]
  },
  {
   "cell_type": "code",
   "execution_count": 206,
   "id": "ea613d43",
   "metadata": {},
   "outputs": [
    {
     "data": {
      "text/plain": [
       "['sudh', 345, (45+6j), 45.5, True]"
      ]
     },
     "execution_count": 206,
     "metadata": {},
     "output_type": "execute_result"
    }
   ],
   "source": [
    "l"
   ]
  },
  {
   "cell_type": "code",
   "execution_count": 207,
   "id": "a5be853a",
   "metadata": {},
   "outputs": [],
   "source": [
    "l1 = [4,5,6,7]"
   ]
  },
  {
   "cell_type": "code",
   "execution_count": 208,
   "id": "c6216408",
   "metadata": {},
   "outputs": [
    {
     "data": {
      "text/plain": [
       "[4, 5, 6, 7]"
      ]
     },
     "execution_count": 208,
     "metadata": {},
     "output_type": "execute_result"
    }
   ],
   "source": [
    "l1"
   ]
  },
  {
   "cell_type": "code",
   "execution_count": 209,
   "id": "8046c635",
   "metadata": {},
   "outputs": [],
   "source": [
    "l[0] = \"kumar\""
   ]
  },
  {
   "cell_type": "code",
   "execution_count": 210,
   "id": "5035ea4f",
   "metadata": {},
   "outputs": [
    {
     "data": {
      "text/plain": [
       "['kumar', 345, (45+6j), 45.5, True]"
      ]
     },
     "execution_count": 210,
     "metadata": {},
     "output_type": "execute_result"
    }
   ],
   "source": [
    "l"
   ]
  },
  {
   "cell_type": "code",
   "execution_count": 211,
   "id": "c6ddc597",
   "metadata": {},
   "outputs": [
    {
     "data": {
      "text/plain": [
       "('sudh', 345, (45+6j), 45.5, True)"
      ]
     },
     "execution_count": 211,
     "metadata": {},
     "output_type": "execute_result"
    }
   ],
   "source": [
    "t1"
   ]
  },
  {
   "cell_type": "code",
   "execution_count": 212,
   "id": "17a26e6a",
   "metadata": {},
   "outputs": [
    {
     "ename": "TypeError",
     "evalue": "'tuple' object does not support item assignment",
     "output_type": "error",
     "traceback": [
      "\u001b[1;31m---------------------------------------------------------------------------\u001b[0m",
      "\u001b[1;31mTypeError\u001b[0m                                 Traceback (most recent call last)",
      "\u001b[1;32m<ipython-input-212-5bd21952e310>\u001b[0m in \u001b[0;36m<module>\u001b[1;34m\u001b[0m\n\u001b[1;32m----> 1\u001b[1;33m \u001b[0mt1\u001b[0m\u001b[1;33m[\u001b[0m\u001b[1;36m0\u001b[0m\u001b[1;33m]\u001b[0m \u001b[1;33m=\u001b[0m \u001b[1;34m\"xyz\"\u001b[0m\u001b[1;33m\u001b[0m\u001b[1;33m\u001b[0m\u001b[0m\n\u001b[0m",
      "\u001b[1;31mTypeError\u001b[0m: 'tuple' object does not support item assignment"
     ]
    }
   ],
   "source": [
    "t1[0] = \"xyz\""
   ]
  },
  {
   "cell_type": "code",
   "execution_count": 213,
   "id": "05c8d909",
   "metadata": {},
   "outputs": [
    {
     "data": {
      "text/plain": [
       "('sudh', 345, (45+6j), 45.5, True)"
      ]
     },
     "execution_count": 213,
     "metadata": {},
     "output_type": "execute_result"
    }
   ],
   "source": [
    "t1"
   ]
  },
  {
   "cell_type": "code",
   "execution_count": 214,
   "id": "f39c5026",
   "metadata": {},
   "outputs": [],
   "source": [
    "t2 = (34,56,56.5,654)"
   ]
  },
  {
   "cell_type": "code",
   "execution_count": 215,
   "id": "e7f8f8c7",
   "metadata": {},
   "outputs": [
    {
     "data": {
      "text/plain": [
       "('sudh', 345, (45+6j), 45.5, True, 34, 56, 56.5, 654)"
      ]
     },
     "execution_count": 215,
     "metadata": {},
     "output_type": "execute_result"
    }
   ],
   "source": [
    "t1+t2"
   ]
  },
  {
   "cell_type": "code",
   "execution_count": 216,
   "id": "6b8247ba",
   "metadata": {},
   "outputs": [
    {
     "data": {
      "text/plain": [
       "['kumar', 345, (45+6j), 45.5, True, 4, 5, 6, 7]"
      ]
     },
     "execution_count": 216,
     "metadata": {},
     "output_type": "execute_result"
    }
   ],
   "source": [
    "l+l1"
   ]
  },
  {
   "cell_type": "code",
   "execution_count": 217,
   "id": "c9a05a93",
   "metadata": {},
   "outputs": [
    {
     "data": {
      "text/plain": [
       "('sudh', 345, (45+6j), 45.5, True)"
      ]
     },
     "execution_count": 217,
     "metadata": {},
     "output_type": "execute_result"
    }
   ],
   "source": [
    "t1"
   ]
  },
  {
   "cell_type": "code",
   "execution_count": 218,
   "id": "7349a4d2",
   "metadata": {},
   "outputs": [
    {
     "data": {
      "text/plain": [
       "('sudh', 345, (45+6j), 45.5, True, 'sudh', 345, (45+6j), 45.5, True)"
      ]
     },
     "execution_count": 218,
     "metadata": {},
     "output_type": "execute_result"
    }
   ],
   "source": [
    "t1*2"
   ]
  },
  {
   "cell_type": "code",
   "execution_count": 219,
   "id": "74d6e4dc",
   "metadata": {},
   "outputs": [
    {
     "data": {
      "text/plain": [
       "1"
      ]
     },
     "execution_count": 219,
     "metadata": {},
     "output_type": "execute_result"
    }
   ],
   "source": [
    "t1.count(\"sudh\")"
   ]
  },
  {
   "cell_type": "code",
   "execution_count": 220,
   "id": "66143b7a",
   "metadata": {},
   "outputs": [
    {
     "data": {
      "text/plain": [
       "0"
      ]
     },
     "execution_count": 220,
     "metadata": {},
     "output_type": "execute_result"
    }
   ],
   "source": [
    "t1.index(\"sudh\")"
   ]
  },
  {
   "cell_type": "code",
   "execution_count": 221,
   "id": "a0d146c2",
   "metadata": {},
   "outputs": [],
   "source": [
    "t = (45,456,23.5,(\"sudh\",4,5,6),(\"sudh\"))"
   ]
  },
  {
   "cell_type": "code",
   "execution_count": 222,
   "id": "86f9839f",
   "metadata": {},
   "outputs": [
    {
     "data": {
      "text/plain": [
       "(45, 456, 23.5, ('sudh', 4, 5, 6), 'sudh')"
      ]
     },
     "execution_count": 222,
     "metadata": {},
     "output_type": "execute_result"
    }
   ],
   "source": [
    "t"
   ]
  },
  {
   "cell_type": "code",
   "execution_count": 223,
   "id": "364987b1",
   "metadata": {},
   "outputs": [],
   "source": [
    "t1 = ([1,2,30],(\"sudh\",456,23.5,45),\"sudh\")"
   ]
  },
  {
   "cell_type": "code",
   "execution_count": 224,
   "id": "74cb9485",
   "metadata": {},
   "outputs": [
    {
     "data": {
      "text/plain": [
       "([1, 2, 30], ('sudh', 456, 23.5, 45), 'sudh')"
      ]
     },
     "execution_count": 224,
     "metadata": {},
     "output_type": "execute_result"
    }
   ],
   "source": [
    "t1"
   ]
  },
  {
   "cell_type": "code",
   "execution_count": 225,
   "id": "1e5cb209",
   "metadata": {},
   "outputs": [],
   "source": [
    "t1[0][1] = \"faiz\""
   ]
  },
  {
   "cell_type": "code",
   "execution_count": 226,
   "id": "86685431",
   "metadata": {},
   "outputs": [
    {
     "data": {
      "text/plain": [
       "'faiz'"
      ]
     },
     "execution_count": 226,
     "metadata": {},
     "output_type": "execute_result"
    }
   ],
   "source": [
    "t1[0][1]"
   ]
  },
  {
   "cell_type": "code",
   "execution_count": 227,
   "id": "bc7ec7c6",
   "metadata": {},
   "outputs": [
    {
     "data": {
      "text/plain": [
       "([1, 'faiz', 30], ('sudh', 456, 23.5, 45), 'sudh')"
      ]
     },
     "execution_count": 227,
     "metadata": {},
     "output_type": "execute_result"
    }
   ],
   "source": [
    "t1"
   ]
  },
  {
   "cell_type": "code",
   "execution_count": 228,
   "id": "b4f6dad0",
   "metadata": {},
   "outputs": [
    {
     "ename": "TypeError",
     "evalue": "'tuple' object does not support item assignment",
     "output_type": "error",
     "traceback": [
      "\u001b[1;31m---------------------------------------------------------------------------\u001b[0m",
      "\u001b[1;31mTypeError\u001b[0m                                 Traceback (most recent call last)",
      "\u001b[1;32m<ipython-input-228-32a41bba93f8>\u001b[0m in \u001b[0;36m<module>\u001b[1;34m\u001b[0m\n\u001b[1;32m----> 1\u001b[1;33m \u001b[0mt1\u001b[0m\u001b[1;33m[\u001b[0m\u001b[1;36m0\u001b[0m\u001b[1;33m]\u001b[0m \u001b[1;33m=\u001b[0m \u001b[1;34m\"faiz\"\u001b[0m\u001b[1;33m\u001b[0m\u001b[1;33m\u001b[0m\u001b[0m\n\u001b[0m",
      "\u001b[1;31mTypeError\u001b[0m: 'tuple' object does not support item assignment"
     ]
    }
   ],
   "source": [
    "t1[0] = \"faiz\""
   ]
  },
  {
   "cell_type": "code",
   "execution_count": 229,
   "id": "5e7eaf9f",
   "metadata": {},
   "outputs": [
    {
     "data": {
      "text/plain": [
       "[[1, 'faiz', 30], ('sudh', 456, 23.5, 45), 'sudh']"
      ]
     },
     "execution_count": 229,
     "metadata": {},
     "output_type": "execute_result"
    }
   ],
   "source": [
    "list(t1)"
   ]
  },
  {
   "cell_type": "code",
   "execution_count": 230,
   "id": "3dab9726",
   "metadata": {},
   "outputs": [
    {
     "data": {
      "text/plain": [
       "['kumar', 345, (45+6j), 45.5, True]"
      ]
     },
     "execution_count": 230,
     "metadata": {},
     "output_type": "execute_result"
    }
   ],
   "source": [
    "l"
   ]
  },
  {
   "cell_type": "code",
   "execution_count": 231,
   "id": "0841ccd3",
   "metadata": {},
   "outputs": [
    {
     "data": {
      "text/plain": [
       "('kumar', 345, (45+6j), 45.5, True)"
      ]
     },
     "execution_count": 231,
     "metadata": {},
     "output_type": "execute_result"
    }
   ],
   "source": [
    "tuple(l)"
   ]
  },
  {
   "cell_type": "code",
   "execution_count": 232,
   "id": "31406399",
   "metadata": {},
   "outputs": [],
   "source": [
    "# set"
   ]
  },
  {
   "cell_type": "code",
   "execution_count": 233,
   "id": "9bbd7979",
   "metadata": {},
   "outputs": [],
   "source": [
    "l = [1,2,3,4,5,6,5,5,55,6,4,7,8,6,4,5,55,5,5,5]"
   ]
  },
  {
   "cell_type": "code",
   "execution_count": 234,
   "id": "6e78f0d3",
   "metadata": {},
   "outputs": [
    {
     "data": {
      "text/plain": [
       "{1, 2, 3, 4, 5, 6, 7, 8, 55}"
      ]
     },
     "execution_count": 234,
     "metadata": {},
     "output_type": "execute_result"
    }
   ],
   "source": [
    "set(l)"
   ]
  },
  {
   "cell_type": "code",
   "execution_count": 235,
   "id": "9eb70445",
   "metadata": {},
   "outputs": [],
   "source": [
    "s = {}"
   ]
  },
  {
   "cell_type": "code",
   "execution_count": 236,
   "id": "db70753a",
   "metadata": {},
   "outputs": [
    {
     "data": {
      "text/plain": [
       "dict"
      ]
     },
     "execution_count": 236,
     "metadata": {},
     "output_type": "execute_result"
    }
   ],
   "source": [
    "type(s)"
   ]
  },
  {
   "cell_type": "code",
   "execution_count": 237,
   "id": "d333396e",
   "metadata": {},
   "outputs": [],
   "source": [
    "s1 = {1,2,3,4}"
   ]
  },
  {
   "cell_type": "code",
   "execution_count": 238,
   "id": "8b758cb7",
   "metadata": {},
   "outputs": [
    {
     "data": {
      "text/plain": [
       "set"
      ]
     },
     "execution_count": 238,
     "metadata": {},
     "output_type": "execute_result"
    }
   ],
   "source": [
    "type(s1)"
   ]
  },
  {
   "cell_type": "code",
   "execution_count": 239,
   "id": "95879bf1",
   "metadata": {},
   "outputs": [],
   "source": [
    "s2 = {1,11,2,3,1,1,2,3,4,4,4,5,6,6,6,2,0,1,1,4,2,2,1,1}"
   ]
  },
  {
   "cell_type": "code",
   "execution_count": 240,
   "id": "60a62bcf",
   "metadata": {},
   "outputs": [
    {
     "data": {
      "text/plain": [
       "{0, 1, 2, 3, 4, 5, 6, 11}"
      ]
     },
     "execution_count": 240,
     "metadata": {},
     "output_type": "execute_result"
    }
   ],
   "source": [
    "s2"
   ]
  },
  {
   "cell_type": "code",
   "execution_count": 241,
   "id": "ab0fab8f",
   "metadata": {},
   "outputs": [
    {
     "ename": "TypeError",
     "evalue": "'set' object is not subscriptable",
     "output_type": "error",
     "traceback": [
      "\u001b[1;31m---------------------------------------------------------------------------\u001b[0m",
      "\u001b[1;31mTypeError\u001b[0m                                 Traceback (most recent call last)",
      "\u001b[1;32m<ipython-input-241-ab7c8e26b0d3>\u001b[0m in \u001b[0;36m<module>\u001b[1;34m\u001b[0m\n\u001b[1;32m----> 1\u001b[1;33m \u001b[0ms2\u001b[0m\u001b[1;33m[\u001b[0m\u001b[1;36m0\u001b[0m\u001b[1;33m]\u001b[0m\u001b[1;33m\u001b[0m\u001b[1;33m\u001b[0m\u001b[0m\n\u001b[0m",
      "\u001b[1;31mTypeError\u001b[0m: 'set' object is not subscriptable"
     ]
    }
   ],
   "source": [
    "s2[0]"
   ]
  },
  {
   "cell_type": "code",
   "execution_count": 242,
   "id": "4fb43916",
   "metadata": {},
   "outputs": [
    {
     "data": {
      "text/plain": [
       "[0, 1, 2, 3, 4, 5, 6, 11]"
      ]
     },
     "execution_count": 242,
     "metadata": {},
     "output_type": "execute_result"
    }
   ],
   "source": [
    "list(s2)"
   ]
  },
  {
   "cell_type": "code",
   "execution_count": 243,
   "id": "f7068505",
   "metadata": {},
   "outputs": [
    {
     "data": {
      "text/plain": [
       "{0, 1, 2, 3, 4, 5, 6, 11}"
      ]
     },
     "execution_count": 243,
     "metadata": {},
     "output_type": "execute_result"
    }
   ],
   "source": [
    "s2"
   ]
  },
  {
   "cell_type": "code",
   "execution_count": 244,
   "id": "a19347b6",
   "metadata": {},
   "outputs": [],
   "source": [
    "s2.add(1234)"
   ]
  },
  {
   "cell_type": "code",
   "execution_count": 245,
   "id": "04c26bc9",
   "metadata": {},
   "outputs": [
    {
     "data": {
      "text/plain": [
       "{0, 1, 2, 3, 4, 5, 6, 11, 1234}"
      ]
     },
     "execution_count": 245,
     "metadata": {},
     "output_type": "execute_result"
    }
   ],
   "source": [
    "s2"
   ]
  },
  {
   "cell_type": "code",
   "execution_count": 246,
   "id": "49d40509",
   "metadata": {},
   "outputs": [],
   "source": [
    "s2.add(\"faiz\")"
   ]
  },
  {
   "cell_type": "code",
   "execution_count": 247,
   "id": "af2e6cd3",
   "metadata": {},
   "outputs": [
    {
     "data": {
      "text/plain": [
       "{0, 1, 11, 1234, 2, 3, 4, 5, 6, 'faiz'}"
      ]
     },
     "execution_count": 247,
     "metadata": {},
     "output_type": "execute_result"
    }
   ],
   "source": [
    "s2"
   ]
  },
  {
   "cell_type": "code",
   "execution_count": 248,
   "id": "69b04e2a",
   "metadata": {},
   "outputs": [
    {
     "ename": "TypeError",
     "evalue": "unhashable type: 'list'",
     "output_type": "error",
     "traceback": [
      "\u001b[1;31m---------------------------------------------------------------------------\u001b[0m",
      "\u001b[1;31mTypeError\u001b[0m                                 Traceback (most recent call last)",
      "\u001b[1;32m<ipython-input-248-0d584c4844ea>\u001b[0m in \u001b[0;36m<module>\u001b[1;34m\u001b[0m\n\u001b[1;32m----> 1\u001b[1;33m \u001b[0ms2\u001b[0m\u001b[1;33m.\u001b[0m\u001b[0madd\u001b[0m\u001b[1;33m(\u001b[0m\u001b[1;33m[\u001b[0m\u001b[1;36m1\u001b[0m\u001b[1;33m,\u001b[0m\u001b[1;36m2\u001b[0m\u001b[1;33m,\u001b[0m\u001b[1;36m3\u001b[0m\u001b[1;33m,\u001b[0m\u001b[1;36m4\u001b[0m\u001b[1;33m]\u001b[0m\u001b[1;33m)\u001b[0m\u001b[1;33m\u001b[0m\u001b[1;33m\u001b[0m\u001b[0m\n\u001b[0m",
      "\u001b[1;31mTypeError\u001b[0m: unhashable type: 'list'"
     ]
    }
   ],
   "source": [
    "s2.add([1,2,3,4])"
   ]
  },
  {
   "cell_type": "code",
   "execution_count": 249,
   "id": "fa915517",
   "metadata": {},
   "outputs": [
    {
     "ename": "TypeError",
     "evalue": "unhashable type: 'list'",
     "output_type": "error",
     "traceback": [
      "\u001b[1;31m---------------------------------------------------------------------------\u001b[0m",
      "\u001b[1;31mTypeError\u001b[0m                                 Traceback (most recent call last)",
      "\u001b[1;32m<ipython-input-249-4c5b3a28657d>\u001b[0m in \u001b[0;36m<module>\u001b[1;34m\u001b[0m\n\u001b[1;32m----> 1\u001b[1;33m \u001b[1;33m{\u001b[0m\u001b[1;33m[\u001b[0m\u001b[1;36m3\u001b[0m\u001b[1;33m,\u001b[0m\u001b[1;36m4\u001b[0m\u001b[1;33m,\u001b[0m\u001b[1;36m5\u001b[0m\u001b[1;33m]\u001b[0m\u001b[1;33m,\u001b[0m\u001b[1;36m3\u001b[0m\u001b[1;33m,\u001b[0m\u001b[1;36m45\u001b[0m\u001b[1;33m,\u001b[0m\u001b[1;36m56\u001b[0m\u001b[1;33m,\u001b[0m\u001b[1;36m4\u001b[0m\u001b[1;33m}\u001b[0m\u001b[1;33m\u001b[0m\u001b[1;33m\u001b[0m\u001b[0m\n\u001b[0m",
      "\u001b[1;31mTypeError\u001b[0m: unhashable type: 'list'"
     ]
    }
   ],
   "source": [
    "{[3,4,5],3,45,56,4}"
   ]
  },
  {
   "cell_type": "code",
   "execution_count": 250,
   "id": "e6e052aa",
   "metadata": {},
   "outputs": [
    {
     "data": {
      "text/plain": [
       "{(3, 4, 5), 3, 4, 45, 56}"
      ]
     },
     "execution_count": 250,
     "metadata": {},
     "output_type": "execute_result"
    }
   ],
   "source": [
    "{(3,4,5),3,45,56,4}"
   ]
  },
  {
   "cell_type": "code",
   "execution_count": 251,
   "id": "964c1105",
   "metadata": {},
   "outputs": [],
   "source": [
    "s = {(3, 4, 5),(3, 4, 5), 3, 4, 45, 56, 3, 4, 45, 56}"
   ]
  },
  {
   "cell_type": "code",
   "execution_count": 252,
   "id": "18ccbce3",
   "metadata": {},
   "outputs": [
    {
     "data": {
      "text/plain": [
       "{(3, 4, 5), 3, 4, 45, 56}"
      ]
     },
     "execution_count": 252,
     "metadata": {},
     "output_type": "execute_result"
    }
   ],
   "source": [
    "s"
   ]
  },
  {
   "cell_type": "code",
   "execution_count": 253,
   "id": "2af2fd28",
   "metadata": {},
   "outputs": [],
   "source": [
    "s.remove(4)"
   ]
  },
  {
   "cell_type": "code",
   "execution_count": 254,
   "id": "c5bb1529",
   "metadata": {},
   "outputs": [
    {
     "data": {
      "text/plain": [
       "{(3, 4, 5), 3, 45, 56}"
      ]
     },
     "execution_count": 254,
     "metadata": {},
     "output_type": "execute_result"
    }
   ],
   "source": [
    "s"
   ]
  },
  {
   "cell_type": "code",
   "execution_count": 255,
   "id": "350e9a71",
   "metadata": {},
   "outputs": [],
   "source": [
    "s.discard(45)"
   ]
  },
  {
   "cell_type": "code",
   "execution_count": 256,
   "id": "144e9ce1",
   "metadata": {},
   "outputs": [
    {
     "data": {
      "text/plain": [
       "{(3, 4, 5), 3, 56}"
      ]
     },
     "execution_count": 256,
     "metadata": {},
     "output_type": "execute_result"
    }
   ],
   "source": [
    "s"
   ]
  },
  {
   "cell_type": "code",
   "execution_count": 257,
   "id": "1f156f33",
   "metadata": {},
   "outputs": [],
   "source": [
    "s.discard(45)"
   ]
  },
  {
   "cell_type": "code",
   "execution_count": 258,
   "id": "106157e5",
   "metadata": {},
   "outputs": [
    {
     "data": {
      "text/plain": [
       "{(3, 4, 5), 3, 56}"
      ]
     },
     "execution_count": 258,
     "metadata": {},
     "output_type": "execute_result"
    }
   ],
   "source": [
    "s"
   ]
  },
  {
   "cell_type": "code",
   "execution_count": 259,
   "id": "dbf77112",
   "metadata": {},
   "outputs": [
    {
     "ename": "KeyError",
     "evalue": "4",
     "output_type": "error",
     "traceback": [
      "\u001b[1;31m---------------------------------------------------------------------------\u001b[0m",
      "\u001b[1;31mKeyError\u001b[0m                                  Traceback (most recent call last)",
      "\u001b[1;32m<ipython-input-259-758cf2d329e6>\u001b[0m in \u001b[0;36m<module>\u001b[1;34m\u001b[0m\n\u001b[1;32m----> 1\u001b[1;33m \u001b[0ms\u001b[0m\u001b[1;33m.\u001b[0m\u001b[0mremove\u001b[0m\u001b[1;33m(\u001b[0m\u001b[1;36m4\u001b[0m\u001b[1;33m)\u001b[0m\u001b[1;33m\u001b[0m\u001b[1;33m\u001b[0m\u001b[0m\n\u001b[0m",
      "\u001b[1;31mKeyError\u001b[0m: 4"
     ]
    }
   ],
   "source": [
    "s.remove(4)"
   ]
  },
  {
   "cell_type": "code",
   "execution_count": 260,
   "id": "df7bda95",
   "metadata": {},
   "outputs": [],
   "source": [
    "# set is neithe a mutable nor imutable "
   ]
  },
  {
   "cell_type": "code",
   "execution_count": 261,
   "id": "2f571f3c",
   "metadata": {},
   "outputs": [
    {
     "data": {
      "text/plain": [
       "{'Faiz', 'faiz'}"
      ]
     },
     "execution_count": 261,
     "metadata": {},
     "output_type": "execute_result"
    }
   ],
   "source": [
    "{\"Faiz\",\"faiz\"}"
   ]
  },
  {
   "cell_type": "code",
   "execution_count": 262,
   "id": "faa7505d",
   "metadata": {},
   "outputs": [
    {
     "data": {
      "text/plain": [
       "{'Sudh', 'sudh'}"
      ]
     },
     "execution_count": 262,
     "metadata": {},
     "output_type": "execute_result"
    }
   ],
   "source": [
    "{\"sudh\",\"Sudh\"}"
   ]
  },
  {
   "cell_type": "code",
   "execution_count": 263,
   "id": "386a1adf",
   "metadata": {},
   "outputs": [
    {
     "data": {
      "text/plain": [
       "{1, 2, 3, 4, 5, 'faiz'}"
      ]
     },
     "execution_count": 263,
     "metadata": {},
     "output_type": "execute_result"
    }
   ],
   "source": [
    "s = {1,2,3,4,4,5,1,2,1,2,3,2,4,\"faiz\",\"faiz\"}\n",
    "s"
   ]
  },
  {
   "cell_type": "code",
   "execution_count": 264,
   "id": "90100b43",
   "metadata": {},
   "outputs": [],
   "source": [
    "#dictionary"
   ]
  },
  {
   "cell_type": "code",
   "execution_count": 265,
   "id": "9b6afc41",
   "metadata": {},
   "outputs": [],
   "source": [
    "d = {}"
   ]
  },
  {
   "cell_type": "code",
   "execution_count": 266,
   "id": "3c6883fd",
   "metadata": {},
   "outputs": [
    {
     "data": {
      "text/plain": [
       "dict"
      ]
     },
     "execution_count": 266,
     "metadata": {},
     "output_type": "execute_result"
    }
   ],
   "source": [
    "type(d)"
   ]
  },
  {
   "cell_type": "code",
   "execution_count": 267,
   "id": "003ef87e",
   "metadata": {},
   "outputs": [],
   "source": [
    "d = {1,5}"
   ]
  },
  {
   "cell_type": "code",
   "execution_count": 268,
   "id": "3d4df5a8",
   "metadata": {},
   "outputs": [
    {
     "data": {
      "text/plain": [
       "set"
      ]
     },
     "execution_count": 268,
     "metadata": {},
     "output_type": "execute_result"
    }
   ],
   "source": [
    "type(d)"
   ]
  },
  {
   "cell_type": "code",
   "execution_count": 269,
   "id": "2eec6b82",
   "metadata": {},
   "outputs": [],
   "source": [
    "d = {4:\"sudh\"}"
   ]
  },
  {
   "cell_type": "code",
   "execution_count": 270,
   "id": "9b77c5bd",
   "metadata": {},
   "outputs": [],
   "source": [
    "d1 = {\"key1\":4554,\"key2\":\"sudh\",45:[3,4,5,6,8]}"
   ]
  },
  {
   "cell_type": "code",
   "execution_count": 271,
   "id": "df200d31",
   "metadata": {},
   "outputs": [
    {
     "data": {
      "text/plain": [
       "{'key1': 4554, 'key2': 'sudh', 45: [3, 4, 5, 6, 8]}"
      ]
     },
     "execution_count": 271,
     "metadata": {},
     "output_type": "execute_result"
    }
   ],
   "source": [
    "d1"
   ]
  },
  {
   "cell_type": "code",
   "execution_count": 272,
   "id": "fcb15bcd",
   "metadata": {},
   "outputs": [
    {
     "data": {
      "text/plain": [
       "4554"
      ]
     },
     "execution_count": 272,
     "metadata": {},
     "output_type": "execute_result"
    }
   ],
   "source": [
    "d1[\"key1\"]"
   ]
  },
  {
   "cell_type": "code",
   "execution_count": 273,
   "id": "22e4b995",
   "metadata": {},
   "outputs": [
    {
     "data": {
      "text/plain": [
       "[3, 4, 5, 6, 8]"
      ]
     },
     "execution_count": 273,
     "metadata": {},
     "output_type": "execute_result"
    }
   ],
   "source": [
    "d1[45]"
   ]
  },
  {
   "cell_type": "code",
   "execution_count": 274,
   "id": "c22a01d3",
   "metadata": {},
   "outputs": [],
   "source": [
    "d = {3:[\"sudh\",'faiz',4,5,6,4]}"
   ]
  },
  {
   "cell_type": "code",
   "execution_count": 275,
   "id": "bbb8171b",
   "metadata": {},
   "outputs": [
    {
     "data": {
      "text/plain": [
       "['sudh', 'faiz', 4, 5, 6, 4]"
      ]
     },
     "execution_count": 275,
     "metadata": {},
     "output_type": "execute_result"
    }
   ],
   "source": [
    "d[3]"
   ]
  },
  {
   "cell_type": "code",
   "execution_count": 276,
   "id": "62ba066d",
   "metadata": {},
   "outputs": [
    {
     "ename": "NameError",
     "evalue": "name '_4' is not defined",
     "output_type": "error",
     "traceback": [
      "\u001b[1;31m---------------------------------------------------------------------------\u001b[0m",
      "\u001b[1;31mNameError\u001b[0m                                 Traceback (most recent call last)",
      "\u001b[1;32m<ipython-input-276-bbbcd752da12>\u001b[0m in \u001b[0;36m<module>\u001b[1;34m\u001b[0m\n\u001b[1;32m----> 1\u001b[1;33m \u001b[0md\u001b[0m \u001b[1;33m=\u001b[0m \u001b[1;33m{\u001b[0m\u001b[0m_4\u001b[0m\u001b[1;33m:\u001b[0m\u001b[1;33m[\u001b[0m\u001b[1;34m\"sudh\"\u001b[0m\u001b[1;33m,\u001b[0m\u001b[1;34m'faiz'\u001b[0m\u001b[1;33m,\u001b[0m\u001b[1;36m4\u001b[0m\u001b[1;33m,\u001b[0m\u001b[1;36m5\u001b[0m\u001b[1;33m,\u001b[0m\u001b[1;36m6\u001b[0m\u001b[1;33m,\u001b[0m\u001b[1;36m4\u001b[0m\u001b[1;33m]\u001b[0m\u001b[1;33m}\u001b[0m\u001b[1;33m\u001b[0m\u001b[1;33m\u001b[0m\u001b[0m\n\u001b[0m",
      "\u001b[1;31mNameError\u001b[0m: name '_4' is not defined"
     ]
    }
   ],
   "source": [
    "d = {_4:[\"sudh\",'faiz',4,5,6,4]}"
   ]
  },
  {
   "cell_type": "code",
   "execution_count": 277,
   "id": "bae9d5e2",
   "metadata": {},
   "outputs": [],
   "source": [
    "d = {.4:[\"sudh\",'faiz',4,5,6,4]}"
   ]
  },
  {
   "cell_type": "code",
   "execution_count": 278,
   "id": "4c636be9",
   "metadata": {},
   "outputs": [],
   "source": [
    "d = {\"key\":(\"sudh\",'faiz',4,5,6,4)}"
   ]
  },
  {
   "cell_type": "code",
   "execution_count": 279,
   "id": "fc8c23e1",
   "metadata": {},
   "outputs": [],
   "source": [
    "d = {\"key\":{\"sudh\",'faiz',4,5,6,4}}"
   ]
  },
  {
   "cell_type": "code",
   "execution_count": 280,
   "id": "cf8da541",
   "metadata": {},
   "outputs": [],
   "source": [
    "d1 = {\"key1\":[2,3,4,5],\"key2\":\"sudh\",\"key1\":45}"
   ]
  },
  {
   "cell_type": "code",
   "execution_count": 281,
   "id": "2ddce7a2",
   "metadata": {},
   "outputs": [
    {
     "data": {
      "text/plain": [
       "45"
      ]
     },
     "execution_count": 281,
     "metadata": {},
     "output_type": "execute_result"
    }
   ],
   "source": [
    "d1[\"key1\"]"
   ]
  },
  {
   "cell_type": "code",
   "execution_count": 282,
   "id": "1cf62a5e",
   "metadata": {},
   "outputs": [
    {
     "data": {
      "text/plain": [
       "{'key1': 45, 'key2': 'sudh'}"
      ]
     },
     "execution_count": 282,
     "metadata": {},
     "output_type": "execute_result"
    }
   ],
   "source": [
    "d1"
   ]
  },
  {
   "cell_type": "code",
   "execution_count": 283,
   "id": "d91176cb",
   "metadata": {},
   "outputs": [],
   "source": [
    "d1 = {\"key1\":[2,3,4,5],\"key2\":\"sudh\",\"kumar\":45}"
   ]
  },
  {
   "cell_type": "code",
   "execution_count": 284,
   "id": "f8379e6b",
   "metadata": {},
   "outputs": [
    {
     "data": {
      "text/plain": [
       "{'key': {4, 5, 6, 'faiz', 'sudh'}}"
      ]
     },
     "execution_count": 284,
     "metadata": {},
     "output_type": "execute_result"
    }
   ],
   "source": [
    "d"
   ]
  },
  {
   "cell_type": "code",
   "execution_count": 285,
   "id": "1e4a63bd",
   "metadata": {},
   "outputs": [],
   "source": [
    "d = {\"name\":\"sudhanshu\",\"mo_no\":9873300865,\"mail_id\":\"fazlullahb@gmail.com\",\"key1\":[4,5,6,7],\"key2\":(3,4,5,6),\n",
    "     \"key3\":{4,7,8,5,78,5,4,5},\"key4\":{1:5,5:6}}"
   ]
  },
  {
   "cell_type": "code",
   "execution_count": 286,
   "id": "b180ab31",
   "metadata": {},
   "outputs": [
    {
     "data": {
      "text/plain": [
       "{'name': 'sudhanshu',\n",
       " 'mo_no': 9873300865,\n",
       " 'mail_id': 'fazlullahb@gmail.com',\n",
       " 'key1': [4, 5, 6, 7],\n",
       " 'key2': (3, 4, 5, 6),\n",
       " 'key3': {4, 5, 7, 8, 78},\n",
       " 'key4': {1: 5, 5: 6}}"
      ]
     },
     "execution_count": 286,
     "metadata": {},
     "output_type": "execute_result"
    }
   ],
   "source": [
    "d"
   ]
  },
  {
   "cell_type": "code",
   "execution_count": 287,
   "id": "ef110959",
   "metadata": {},
   "outputs": [
    {
     "data": {
      "text/plain": [
       "{4, 5, 7, 8, 78}"
      ]
     },
     "execution_count": 287,
     "metadata": {},
     "output_type": "execute_result"
    }
   ],
   "source": [
    "d[\"key3\"]"
   ]
  },
  {
   "cell_type": "code",
   "execution_count": 288,
   "id": "56080a8f",
   "metadata": {},
   "outputs": [
    {
     "data": {
      "text/plain": [
       "set"
      ]
     },
     "execution_count": 288,
     "metadata": {},
     "output_type": "execute_result"
    }
   ],
   "source": [
    "type(d[\"key3\"])"
   ]
  },
  {
   "cell_type": "code",
   "execution_count": 289,
   "id": "685c5e2f",
   "metadata": {},
   "outputs": [
    {
     "data": {
      "text/plain": [
       "{1: 5, 5: 6}"
      ]
     },
     "execution_count": 289,
     "metadata": {},
     "output_type": "execute_result"
    }
   ],
   "source": [
    "d[\"key4\"]"
   ]
  },
  {
   "cell_type": "code",
   "execution_count": 290,
   "id": "6fe74ce0",
   "metadata": {},
   "outputs": [
    {
     "data": {
      "text/plain": [
       "6"
      ]
     },
     "execution_count": 290,
     "metadata": {},
     "output_type": "execute_result"
    }
   ],
   "source": [
    "d[\"key4\"][5]"
   ]
  },
  {
   "cell_type": "code",
   "execution_count": 291,
   "id": "1a028103",
   "metadata": {},
   "outputs": [
    {
     "data": {
      "text/plain": [
       "dict_keys(['name', 'mo_no', 'mail_id', 'key1', 'key2', 'key3', 'key4'])"
      ]
     },
     "execution_count": 291,
     "metadata": {},
     "output_type": "execute_result"
    }
   ],
   "source": [
    "d.keys()"
   ]
  },
  {
   "cell_type": "code",
   "execution_count": 292,
   "id": "8df280fe",
   "metadata": {},
   "outputs": [
    {
     "data": {
      "text/plain": [
       "dict_values(['sudhanshu', 9873300865, 'fazlullahb@gmail.com', [4, 5, 6, 7], (3, 4, 5, 6), {4, 5, 7, 8, 78}, {1: 5, 5: 6}])"
      ]
     },
     "execution_count": 292,
     "metadata": {},
     "output_type": "execute_result"
    }
   ],
   "source": [
    "d.values()"
   ]
  },
  {
   "cell_type": "code",
   "execution_count": 293,
   "id": "96365f8d",
   "metadata": {},
   "outputs": [
    {
     "data": {
      "text/plain": [
       "dict_items([('name', 'sudhanshu'), ('mo_no', 9873300865), ('mail_id', 'fazlullahb@gmail.com'), ('key1', [4, 5, 6, 7]), ('key2', (3, 4, 5, 6)), ('key3', {4, 5, 7, 8, 78}), ('key4', {1: 5, 5: 6})])"
      ]
     },
     "execution_count": 293,
     "metadata": {},
     "output_type": "execute_result"
    }
   ],
   "source": [
    "d.items()"
   ]
  },
  {
   "cell_type": "code",
   "execution_count": 294,
   "id": "c21d7094",
   "metadata": {},
   "outputs": [
    {
     "data": {
      "text/plain": [
       "dict_items"
      ]
     },
     "execution_count": 294,
     "metadata": {},
     "output_type": "execute_result"
    }
   ],
   "source": [
    "type(d.items())"
   ]
  },
  {
   "cell_type": "code",
   "execution_count": 295,
   "id": "658c28b0",
   "metadata": {},
   "outputs": [],
   "source": [
    "d = {\"key1\":\"sudh\",\"key2\":[1,2,3,4]}"
   ]
  },
  {
   "cell_type": "code",
   "execution_count": 296,
   "id": "c88690fc",
   "metadata": {},
   "outputs": [
    {
     "data": {
      "text/plain": [
       "{'key1': 'sudh', 'key2': [1, 2, 3, 4]}"
      ]
     },
     "execution_count": 296,
     "metadata": {},
     "output_type": "execute_result"
    }
   ],
   "source": [
    "d"
   ]
  },
  {
   "cell_type": "code",
   "execution_count": 297,
   "id": "3756e2d5",
   "metadata": {},
   "outputs": [],
   "source": [
    "d[\"key3\"] = \"kumar\""
   ]
  },
  {
   "cell_type": "code",
   "execution_count": 298,
   "id": "8bc73860",
   "metadata": {},
   "outputs": [
    {
     "data": {
      "text/plain": [
       "{'key1': 'sudh', 'key2': [1, 2, 3, 4], 'key3': 'kumar'}"
      ]
     },
     "execution_count": 298,
     "metadata": {},
     "output_type": "execute_result"
    }
   ],
   "source": [
    "d"
   ]
  },
  {
   "cell_type": "code",
   "execution_count": 299,
   "id": "41399d22",
   "metadata": {},
   "outputs": [],
   "source": [
    "d[4] = [2,5,4,8,6]"
   ]
  },
  {
   "cell_type": "code",
   "execution_count": 300,
   "id": "449bb4f5",
   "metadata": {},
   "outputs": [
    {
     "data": {
      "text/plain": [
       "{'key1': 'sudh', 'key2': [1, 2, 3, 4], 'key3': 'kumar', 4: [2, 5, 4, 8, 6]}"
      ]
     },
     "execution_count": 300,
     "metadata": {},
     "output_type": "execute_result"
    }
   ],
   "source": [
    "d"
   ]
  },
  {
   "cell_type": "code",
   "execution_count": 301,
   "id": "3ec34f0d",
   "metadata": {},
   "outputs": [],
   "source": [
    "d[\"key1\"] = \"Fazlullah\""
   ]
  },
  {
   "cell_type": "code",
   "execution_count": 302,
   "id": "5e41281e",
   "metadata": {},
   "outputs": [
    {
     "data": {
      "text/plain": [
       "{'key1': 'Fazlullah',\n",
       " 'key2': [1, 2, 3, 4],\n",
       " 'key3': 'kumar',\n",
       " 4: [2, 5, 4, 8, 6]}"
      ]
     },
     "execution_count": 302,
     "metadata": {},
     "output_type": "execute_result"
    }
   ],
   "source": [
    "d"
   ]
  },
  {
   "cell_type": "code",
   "execution_count": 303,
   "id": "cddbb478",
   "metadata": {},
   "outputs": [],
   "source": [
    "del d[\"key1\"]"
   ]
  },
  {
   "cell_type": "code",
   "execution_count": 304,
   "id": "fe076f4e",
   "metadata": {},
   "outputs": [
    {
     "data": {
      "text/plain": [
       "{'key2': [1, 2, 3, 4], 'key3': 'kumar', 4: [2, 5, 4, 8, 6]}"
      ]
     },
     "execution_count": 304,
     "metadata": {},
     "output_type": "execute_result"
    }
   ],
   "source": [
    "d"
   ]
  },
  {
   "cell_type": "code",
   "execution_count": 305,
   "id": "e64cfd1c",
   "metadata": {},
   "outputs": [],
   "source": [
    "del d"
   ]
  },
  {
   "cell_type": "code",
   "execution_count": 306,
   "id": "37eff28a",
   "metadata": {},
   "outputs": [
    {
     "ename": "NameError",
     "evalue": "name 'd' is not defined",
     "output_type": "error",
     "traceback": [
      "\u001b[1;31m---------------------------------------------------------------------------\u001b[0m",
      "\u001b[1;31mNameError\u001b[0m                                 Traceback (most recent call last)",
      "\u001b[1;32m<ipython-input-306-e983f374794d>\u001b[0m in \u001b[0;36m<module>\u001b[1;34m\u001b[0m\n\u001b[1;32m----> 1\u001b[1;33m \u001b[0md\u001b[0m\u001b[1;33m\u001b[0m\u001b[1;33m\u001b[0m\u001b[0m\n\u001b[0m",
      "\u001b[1;31mNameError\u001b[0m: name 'd' is not defined"
     ]
    }
   ],
   "source": [
    "d"
   ]
  },
  {
   "cell_type": "code",
   "execution_count": 307,
   "id": "b7ae4a45",
   "metadata": {},
   "outputs": [],
   "source": [
    "d1 = {\"key1\":\"sudh\",\"key2\":[4,5,67,8]}"
   ]
  },
  {
   "cell_type": "code",
   "execution_count": 308,
   "id": "2757419a",
   "metadata": {},
   "outputs": [
    {
     "ename": "TypeError",
     "evalue": "unhashable type: 'list'",
     "output_type": "error",
     "traceback": [
      "\u001b[1;31m---------------------------------------------------------------------------\u001b[0m",
      "\u001b[1;31mTypeError\u001b[0m                                 Traceback (most recent call last)",
      "\u001b[1;32m<ipython-input-308-be53110e7467>\u001b[0m in \u001b[0;36m<module>\u001b[1;34m\u001b[0m\n\u001b[1;32m----> 1\u001b[1;33m \u001b[0md1\u001b[0m\u001b[1;33m[\u001b[0m\u001b[1;33m[\u001b[0m\u001b[1;36m1\u001b[0m\u001b[1;33m,\u001b[0m\u001b[1;36m2\u001b[0m\u001b[1;33m,\u001b[0m\u001b[1;36m3\u001b[0m\u001b[1;33m]\u001b[0m\u001b[1;33m]\u001b[0m \u001b[1;33m=\u001b[0m \u001b[1;34m\"ineuron\"\u001b[0m\u001b[1;33m\u001b[0m\u001b[1;33m\u001b[0m\u001b[0m\n\u001b[0m",
      "\u001b[1;31mTypeError\u001b[0m: unhashable type: 'list'"
     ]
    }
   ],
   "source": [
    "d1[[1,2,3]] = \"ineuron\""
   ]
  },
  {
   "cell_type": "code",
   "execution_count": 309,
   "id": "24846dd2",
   "metadata": {},
   "outputs": [
    {
     "data": {
      "text/plain": [
       "{'key1': 'sudh', 'key2': [4, 5, 67, 8]}"
      ]
     },
     "execution_count": 309,
     "metadata": {},
     "output_type": "execute_result"
    }
   ],
   "source": [
    "d1"
   ]
  },
  {
   "cell_type": "code",
   "execution_count": 310,
   "id": "6cd7d34f",
   "metadata": {},
   "outputs": [],
   "source": [
    "d1[(1,2,3)] = \"ineuron\""
   ]
  },
  {
   "cell_type": "code",
   "execution_count": 311,
   "id": "a8411b95",
   "metadata": {},
   "outputs": [
    {
     "data": {
      "text/plain": [
       "{'key1': 'sudh', 'key2': [4, 5, 67, 8], (1, 2, 3): 'ineuron'}"
      ]
     },
     "execution_count": 311,
     "metadata": {},
     "output_type": "execute_result"
    }
   ],
   "source": [
    "d1"
   ]
  },
  {
   "cell_type": "code",
   "execution_count": 312,
   "id": "75b2b69e",
   "metadata": {},
   "outputs": [
    {
     "data": {
      "text/plain": [
       "'sudh'"
      ]
     },
     "execution_count": 312,
     "metadata": {},
     "output_type": "execute_result"
    }
   ],
   "source": [
    "d1.get(\"key1\")"
   ]
  },
  {
   "cell_type": "code",
   "execution_count": 313,
   "id": "3d2b7666",
   "metadata": {},
   "outputs": [],
   "source": [
    "d1 = {\"key1\":\"ineuron\",\"key\":\"FSDS\"}"
   ]
  },
  {
   "cell_type": "code",
   "execution_count": 314,
   "id": "cd9d660b",
   "metadata": {},
   "outputs": [],
   "source": [
    "d2 = {\"key2\":456,\"key3\":[1,2,3,4,5]}"
   ]
  },
  {
   "cell_type": "code",
   "execution_count": 315,
   "id": "9d4ccc43",
   "metadata": {},
   "outputs": [],
   "source": [
    "d1.update(d2)"
   ]
  },
  {
   "cell_type": "code",
   "execution_count": 316,
   "id": "ea2173e7",
   "metadata": {},
   "outputs": [
    {
     "data": {
      "text/plain": [
       "{'key1': 'ineuron', 'key': 'FSDS', 'key2': 456, 'key3': [1, 2, 3, 4, 5]}"
      ]
     },
     "execution_count": 316,
     "metadata": {},
     "output_type": "execute_result"
    }
   ],
   "source": [
    "d1"
   ]
  },
  {
   "cell_type": "code",
   "execution_count": 317,
   "id": "6e2f2df9",
   "metadata": {},
   "outputs": [
    {
     "data": {
      "text/plain": [
       "{'key2': 456, 'key3': [1, 2, 3, 4, 5]}"
      ]
     },
     "execution_count": 317,
     "metadata": {},
     "output_type": "execute_result"
    }
   ],
   "source": [
    "d2"
   ]
  },
  {
   "cell_type": "code",
   "execution_count": 318,
   "id": "ad0275b6",
   "metadata": {},
   "outputs": [
    {
     "ename": "TypeError",
     "evalue": "unsupported operand type(s) for +: 'dict' and 'dict'",
     "output_type": "error",
     "traceback": [
      "\u001b[1;31m---------------------------------------------------------------------------\u001b[0m",
      "\u001b[1;31mTypeError\u001b[0m                                 Traceback (most recent call last)",
      "\u001b[1;32m<ipython-input-318-686adf62153a>\u001b[0m in \u001b[0;36m<module>\u001b[1;34m\u001b[0m\n\u001b[1;32m----> 1\u001b[1;33m \u001b[0md1\u001b[0m\u001b[1;33m+\u001b[0m\u001b[0md2\u001b[0m\u001b[1;33m\u001b[0m\u001b[1;33m\u001b[0m\u001b[0m\n\u001b[0m",
      "\u001b[1;31mTypeError\u001b[0m: unsupported operand type(s) for +: 'dict' and 'dict'"
     ]
    }
   ],
   "source": [
    "d1+d2"
   ]
  },
  {
   "cell_type": "code",
   "execution_count": 319,
   "id": "e9c6b599",
   "metadata": {},
   "outputs": [
    {
     "data": {
      "text/plain": [
       "1"
      ]
     },
     "execution_count": 319,
     "metadata": {},
     "output_type": "execute_result"
    }
   ],
   "source": [
    "t1 = (\"faiz\",1,1+5j,True)\n",
    "t1.index(True)"
   ]
  },
  {
   "cell_type": "code",
   "execution_count": 320,
   "id": "6dc5b76a",
   "metadata": {},
   "outputs": [
    {
     "data": {
      "text/plain": [
       "{(1+5j), 1, 'faiz'}"
      ]
     },
     "execution_count": 320,
     "metadata": {},
     "output_type": "execute_result"
    }
   ],
   "source": [
    "set(t1)"
   ]
  },
  {
   "cell_type": "code",
   "execution_count": 321,
   "id": "3ccb3691",
   "metadata": {},
   "outputs": [
    {
     "data": {
      "text/plain": [
       "{'key1': 'ineuron', 'key': 'FSDS', 'key2': 456, 'key3': [1, 2, 3, 4, 5]}"
      ]
     },
     "execution_count": 321,
     "metadata": {},
     "output_type": "execute_result"
    }
   ],
   "source": [
    "d1"
   ]
  },
  {
   "cell_type": "code",
   "execution_count": 322,
   "id": "0d58067d",
   "metadata": {},
   "outputs": [],
   "source": [
    "key = (\"name\",\"mobile_no\",\"email_id\")\n",
    "value = \"sudh\""
   ]
  },
  {
   "cell_type": "code",
   "execution_count": 323,
   "id": "9036f603",
   "metadata": {},
   "outputs": [],
   "source": [
    "d = d1.fromkeys(key,value)"
   ]
  },
  {
   "cell_type": "code",
   "execution_count": 324,
   "id": "51104fc8",
   "metadata": {},
   "outputs": [
    {
     "data": {
      "text/plain": [
       "{'name': 'sudh', 'mobile_no': 'sudh', 'email_id': 'sudh'}"
      ]
     },
     "execution_count": 324,
     "metadata": {},
     "output_type": "execute_result"
    }
   ],
   "source": [
    "d"
   ]
  },
  {
   "cell_type": "code",
   "execution_count": 315,
   "id": "df26d541",
   "metadata": {},
   "outputs": [],
   "source": [
    "#3:20/5"
   ]
  }
 ],
 "metadata": {
  "kernelspec": {
   "display_name": "Python 3",
   "language": "python",
   "name": "python3"
  },
  "language_info": {
   "codemirror_mode": {
    "name": "ipython",
    "version": 3
   },
   "file_extension": ".py",
   "mimetype": "text/x-python",
   "name": "python",
   "nbconvert_exporter": "python",
   "pygments_lexer": "ipython3",
   "version": "3.8.8"
  }
 },
 "nbformat": 4,
 "nbformat_minor": 5
}
