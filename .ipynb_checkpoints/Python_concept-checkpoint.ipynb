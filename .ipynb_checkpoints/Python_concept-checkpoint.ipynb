{
 "cells": [
  {
   "cell_type": "code",
   "execution_count": 11,
   "id": "557329a3",
   "metadata": {},
   "outputs": [],
   "source": [
    "l = [1,2,3,4]\n",
    "it1 = iter(l)"
   ]
  },
  {
   "cell_type": "code",
   "execution_count": 12,
   "id": "f1a3775b",
   "metadata": {},
   "outputs": [
    {
     "ename": "TypeError",
     "evalue": "'list' object is not an iterator",
     "output_type": "error",
     "traceback": [
      "\u001b[1;31m---------------------------------------------------------------------------\u001b[0m",
      "\u001b[1;31mTypeError\u001b[0m                                 Traceback (most recent call last)",
      "\u001b[1;32m~\\AppData\\Local\\Temp/ipykernel_11532/3335607625.py\u001b[0m in \u001b[0;36m<module>\u001b[1;34m\u001b[0m\n\u001b[0;32m      1\u001b[0m \u001b[1;32mwhile\u001b[0m \u001b[1;32mTrue\u001b[0m\u001b[1;33m:\u001b[0m\u001b[1;33m\u001b[0m\u001b[1;33m\u001b[0m\u001b[0m\n\u001b[0;32m      2\u001b[0m     \u001b[1;32mtry\u001b[0m\u001b[1;33m:\u001b[0m\u001b[1;33m\u001b[0m\u001b[1;33m\u001b[0m\u001b[0m\n\u001b[1;32m----> 3\u001b[1;33m         \u001b[0mprint\u001b[0m\u001b[1;33m(\u001b[0m\u001b[0mnext\u001b[0m\u001b[1;33m(\u001b[0m\u001b[0ml\u001b[0m\u001b[1;33m)\u001b[0m\u001b[1;33m)\u001b[0m\u001b[1;33m\u001b[0m\u001b[1;33m\u001b[0m\u001b[0m\n\u001b[0m\u001b[0;32m      4\u001b[0m     \u001b[1;32mexcept\u001b[0m \u001b[0mStopIteration\u001b[0m \u001b[1;32mas\u001b[0m \u001b[0ms\u001b[0m\u001b[1;33m:\u001b[0m\u001b[1;33m\u001b[0m\u001b[1;33m\u001b[0m\u001b[0m\n\u001b[0;32m      5\u001b[0m         \u001b[0mprint\u001b[0m\u001b[1;33m(\u001b[0m\u001b[0ms\u001b[0m\u001b[1;33m)\u001b[0m\u001b[1;33m\u001b[0m\u001b[1;33m\u001b[0m\u001b[0m\n",
      "\u001b[1;31mTypeError\u001b[0m: 'list' object is not an iterator"
     ]
    }
   ],
   "source": [
    "while True:\n",
    "    try:\n",
    "        print(next(l))\n",
    "    except StopIteration as s:\n",
    "        print(s)\n",
    "        break"
   ]
  },
  {
   "cell_type": "code",
   "execution_count": 13,
   "id": "62c6fc5e",
   "metadata": {},
   "outputs": [
    {
     "name": "stdout",
     "output_type": "stream",
     "text": [
      "1\n",
      "2\n",
      "3\n",
      "4\n",
      "\n"
     ]
    }
   ],
   "source": [
    "while True:\n",
    "    try:\n",
    "        print(next(it1))\n",
    "    except StopIteration as s:\n",
    "        print(s)\n",
    "        break"
   ]
  },
  {
   "cell_type": "code",
   "execution_count": 14,
   "id": "8a39f8ba",
   "metadata": {},
   "outputs": [],
   "source": [
    "def sum_numbers(a,b):\n",
    "    return a+b"
   ]
  },
  {
   "cell_type": "code",
   "execution_count": null,
   "id": "d60dc94f",
   "metadata": {},
   "outputs": [],
   "source": []
  },
  {
   "cell_type": "code",
   "execution_count": 15,
   "id": "8eb7b544",
   "metadata": {},
   "outputs": [],
   "source": [
    "def genrate_number():\n",
    "    yield 1\n",
    "    yield 2\n",
    "    yield 3"
   ]
  },
  {
   "cell_type": "code",
   "execution_count": 25,
   "id": "de250bc4",
   "metadata": {},
   "outputs": [],
   "source": [
    "gen1 = genrate_number()"
   ]
  },
  {
   "cell_type": "code",
   "execution_count": 26,
   "id": "61051ef7",
   "metadata": {},
   "outputs": [
    {
     "data": {
      "text/plain": [
       "1"
      ]
     },
     "execution_count": 26,
     "metadata": {},
     "output_type": "execute_result"
    }
   ],
   "source": [
    "next(gen1)"
   ]
  },
  {
   "cell_type": "code",
   "execution_count": 27,
   "id": "27f0174f",
   "metadata": {},
   "outputs": [
    {
     "data": {
      "text/plain": [
       "2"
      ]
     },
     "execution_count": 27,
     "metadata": {},
     "output_type": "execute_result"
    }
   ],
   "source": [
    "next(gen1)"
   ]
  },
  {
   "cell_type": "code",
   "execution_count": 28,
   "id": "b2d904ae",
   "metadata": {},
   "outputs": [
    {
     "data": {
      "text/plain": [
       "3"
      ]
     },
     "execution_count": 28,
     "metadata": {},
     "output_type": "execute_result"
    }
   ],
   "source": [
    "next(gen1)"
   ]
  },
  {
   "cell_type": "code",
   "execution_count": 29,
   "id": "c1826be0",
   "metadata": {},
   "outputs": [
    {
     "ename": "StopIteration",
     "evalue": "",
     "output_type": "error",
     "traceback": [
      "\u001b[1;31m---------------------------------------------------------------------------\u001b[0m",
      "\u001b[1;31mStopIteration\u001b[0m                             Traceback (most recent call last)",
      "\u001b[1;32m~\\AppData\\Local\\Temp/ipykernel_11532/3608331878.py\u001b[0m in \u001b[0;36m<module>\u001b[1;34m\u001b[0m\n\u001b[1;32m----> 1\u001b[1;33m \u001b[0mnext\u001b[0m\u001b[1;33m(\u001b[0m\u001b[0mgen1\u001b[0m\u001b[1;33m)\u001b[0m\u001b[1;33m\u001b[0m\u001b[1;33m\u001b[0m\u001b[0m\n\u001b[0m",
      "\u001b[1;31mStopIteration\u001b[0m: "
     ]
    }
   ],
   "source": [
    "next(gen1)"
   ]
  },
  {
   "cell_type": "code",
   "execution_count": 31,
   "id": "22df206d",
   "metadata": {},
   "outputs": [],
   "source": [
    "gen1 = genrate_number()"
   ]
  },
  {
   "cell_type": "code",
   "execution_count": 32,
   "id": "1fa00f90",
   "metadata": {},
   "outputs": [
    {
     "name": "stdout",
     "output_type": "stream",
     "text": [
      "1\n",
      "2\n",
      "3\n"
     ]
    }
   ],
   "source": [
    "for i in gen1:\n",
    "    print(i)"
   ]
  },
  {
   "cell_type": "code",
   "execution_count": 18,
   "id": "97ab52ec",
   "metadata": {},
   "outputs": [
    {
     "data": {
      "text/plain": [
       "generator"
      ]
     },
     "execution_count": 18,
     "metadata": {},
     "output_type": "execute_result"
    }
   ],
   "source": [
    "type(genrate_number())"
   ]
  },
  {
   "cell_type": "code",
   "execution_count": 33,
   "id": "fad3ebe1",
   "metadata": {},
   "outputs": [],
   "source": [
    "str1 = \"fazlullah@$%\""
   ]
  },
  {
   "cell_type": "code",
   "execution_count": 39,
   "id": "01175c6d",
   "metadata": {},
   "outputs": [],
   "source": [
    "word1 = ''.join(char for char in str1 if  char.isalnum())"
   ]
  },
  {
   "cell_type": "code",
   "execution_count": 40,
   "id": "ede723c0",
   "metadata": {},
   "outputs": [
    {
     "data": {
      "text/plain": [
       "'fazlullah'"
      ]
     },
     "execution_count": 40,
     "metadata": {},
     "output_type": "execute_result"
    }
   ],
   "source": [
    "word1"
   ]
  },
  {
   "cell_type": "code",
   "execution_count": 38,
   "id": "5f966436",
   "metadata": {},
   "outputs": [
    {
     "name": "stdout",
     "output_type": "stream",
     "text": [
      "HeyWhatsupbro\n"
     ]
    }
   ],
   "source": [
    "string = \"Hey! What's up bro?\"\n",
    "\n",
    "new_string = ''.join(char for char in string if char.isalnum())\n",
    "print(new_string)"
   ]
  },
  {
   "cell_type": "code",
   "execution_count": 44,
   "id": "3d5164eb",
   "metadata": {},
   "outputs": [
    {
     "name": "stdout",
     "output_type": "stream",
     "text": [
      "Lorem ipsum dolor sit amet, consectetur adipiscing elit. Aliquam sem odio, varius nec aliquam nec, tempor commodo ante. Pellentesque sit amet augue vel ante dictum placerat ut ut sapien. Proin maximus eu diam in posuere. Suspendisse in lectus in lectus finibus auctor. Nam sed porttitor arcu. Vestibulum augue odio, posuere quis libero sed, pharetra sollicitudin est. Donec sit amet nunc eu nisi malesuada elementum id ut purus.Nunc sit amet % massa rhoncus, venenatis eros sit amet, ornare augue. Nunc a mi sed est tincidunt facilisis at nec diam. Donec nec ex lorem. Morbi vitae diam tincidunt, dignissim arcu ut, facilisis nisi. Maecenas non felis #ullamcorper, viverra augue id, consequat_nunc. Suspendisse potenti. Proin tempor, sapien ut ornare placerat, sapien mauris luctus sapien, eget aliquam turpis urna at quam. Sed a&eros vel@ ante vestibulum vulputate. Suspendisse vitae vulputate velit. Suspendisse! ligula nisl, semper ut sodales et, ultricies porttitor felis. Nunc ac mattis erat, aliquet pretium risus. Nullam quis congue lacus, et mollis nulla. Nunc laoreet in nisi sit amet facili*sis. Cras rutrum justo ut eros mollis volutpat. Sed quis mi nunc. Nunc sed bibendum nibh, quis bibendum tortor. ,_!@*%#$.\n",
      ",\n",
      "3\n",
      "adipiscing\n"
     ]
    },
    {
     "ename": "ValueError",
     "evalue": "invalid literal for int() with base 10: 'adipiscing'",
     "output_type": "error",
     "traceback": [
      "\u001b[1;31m---------------------------------------------------------------------------\u001b[0m",
      "\u001b[1;31mValueError\u001b[0m                                Traceback (most recent call last)",
      "\u001b[1;32m~\\AppData\\Local\\Temp/ipykernel_11532/4049292686.py\u001b[0m in \u001b[0;36m<module>\u001b[1;34m\u001b[0m\n\u001b[0;32m     92\u001b[0m     \u001b[0mspch2\u001b[0m \u001b[1;33m=\u001b[0m \u001b[0minput\u001b[0m\u001b[1;33m(\u001b[0m\u001b[1;33m)\u001b[0m\u001b[1;33m\u001b[0m\u001b[1;33m\u001b[0m\u001b[0m\n\u001b[0;32m     93\u001b[0m \u001b[1;33m\u001b[0m\u001b[0m\n\u001b[1;32m---> 94\u001b[1;33m     \u001b[0mqw1_count\u001b[0m \u001b[1;33m=\u001b[0m \u001b[0mint\u001b[0m\u001b[1;33m(\u001b[0m\u001b[0minput\u001b[0m\u001b[1;33m(\u001b[0m\u001b[1;33m)\u001b[0m\u001b[1;33m.\u001b[0m\u001b[0mstrip\u001b[0m\u001b[1;33m(\u001b[0m\u001b[1;33m)\u001b[0m\u001b[1;33m)\u001b[0m\u001b[1;33m\u001b[0m\u001b[1;33m\u001b[0m\u001b[0m\n\u001b[0m\u001b[0;32m     95\u001b[0m \u001b[1;33m\u001b[0m\u001b[0m\n\u001b[0;32m     96\u001b[0m     \u001b[0mqw1\u001b[0m \u001b[1;33m=\u001b[0m \u001b[1;33m[\u001b[0m\u001b[1;33m]\u001b[0m\u001b[1;33m\u001b[0m\u001b[1;33m\u001b[0m\u001b[0m\n",
      "\u001b[1;31mValueError\u001b[0m: invalid literal for int() with base 10: 'adipiscing'"
     ]
    }
   ],
   "source": [
    "#!/bin/python3\n",
    "\n",
    "import math\n",
    "import os\n",
    "import random\n",
    "import re\n",
    "import sys\n",
    "\n",
    "\n",
    "\n",
    "#\n",
    "# Complete the 'strmethod' function below.\n",
    "#\n",
    "# The function accepts following parameters:\n",
    "#  1. STRING para\n",
    "#  2. STRING spch1\n",
    "#  3. STRING spch2\n",
    "#  4. LIST li1\n",
    "#  5. STRING strf\n",
    "#\n",
    "def stringmethod(para: str, special1: str, special2: str, list1: list, strfind: str):\n",
    "    tpara = para\n",
    "\n",
    "    \"\"\"\n",
    "    Remove all the special characters from para specified in special1 and save them in the variable word1.\n",
    "    Get the first 70 characters from word1, reverse the strings, save it in variable rword2, \n",
    "    and print it.\n",
    "    \"\"\"\n",
    "    for symbol in special1:\n",
    "        tpara = tpara.replace(symbol, '')\n",
    "    word1 = tpara\n",
    "    rword2 = word1[0:70]\n",
    "    rword2 = rword2[::-1]\n",
    "    print(rword2)\n",
    "\n",
    "    \"\"\"\n",
    "    Remove all the wide spaces from rword2, join the characters using the special \n",
    "    character specified in special2, and print the joint string.\n",
    "    \"\"\"\n",
    "    rword3 = special2.join(rword2.replace(\" \", ''))\n",
    "    print(rword3)\n",
    "\n",
    "    \"\"\"\n",
    "    If every string from list1 is present in para, then format the print statement as follows:\n",
    "    \"Every string in {list1} were present\"\n",
    "    else\"Every string in {list1} were not present\"\n",
    "    \"\"\"\n",
    "\n",
    "    status = True\n",
    "    for pattern in list1:\n",
    "        if pattern not in para:\n",
    "            status = False\n",
    "            break\n",
    "\n",
    "    if status == True:\n",
    "        print(\"Every string in\", list1, \"were present\")\n",
    "    else:\n",
    "        print(\"Every string in\", list1, \"were not present\")\n",
    "\n",
    "    \"\"\"\n",
    "    Split every word from word1 and print the first 20 strings as a list.\n",
    "    Calculate the less frequently used words whose count < 13**. and print the last 20 less frequent \n",
    "    words as a list.\n",
    "\n",
    "    *** Note: Count the words in the order that they appear\n",
    "    \"\"\"\n",
    "\n",
    "    spitted_word = word1.split(' ')\n",
    "    first_20 = spitted_word[:20]\n",
    "    print(first_20)\n",
    "\n",
    "    less_freq_word_lists = []\n",
    "\n",
    "    for word in spitted_word:\n",
    "        if word1.count(word) < 13:\n",
    "            if word not in less_freq_word_lists:\n",
    "                less_freq_word_lists.append(word)\n",
    "\n",
    "    print(less_freq_word_lists[-20:])\n",
    "\n",
    "    \"\"\"\n",
    "    Print the last index in word1, where the substring strfind is found.\n",
    "    \"\"\"\n",
    "    print(word1.rfind(strfind))\n",
    "\n",
    "\n",
    "if __name__ == '__main__':\n",
    "    para = input()\n",
    "\n",
    "    spch1 = input()\n",
    "\n",
    "    spch2 = input()\n",
    "    \n",
    "    qw1_count = int(input().strip())\n",
    "\n",
    "    qw1 = []\n",
    "\n",
    "    for _ in range(qw1_count):\n",
    "        qw1_item = input()\n",
    "        qw1.append(qw1_item)\n",
    "\n",
    "    strf = input()\n",
    "\n",
    "    stringmethod(para, spch1, spch2, qw1, strf)\n"
   ]
  },
  {
   "cell_type": "code",
   "execution_count": null,
   "id": "0901781f",
   "metadata": {},
   "outputs": [],
   "source": [
    "Lorem ipsum dolor sit amet, consectetur adipiscing elit. Aliquam sem odio, varius nec aliquam nec, tempor commodo ante. Pellentesque sit amet augue vel ante dictum placerat ut ut sapien. Proin maximus eu diam in posuere. Suspendisse in lectus in lectus finibus auctor. Nam sed porttitor arcu. Vestibulum augue odio, posuere quis libero sed, pharetra sollicitudin est. Donec sit amet nunc eu nisi malesuada elementum id ut purus.Nunc sit amet % massa rhoncus, venenatis eros sit amet, ornare augue. Nunc a mi sed est tincidunt facilisis at nec diam. Donec nec ex lorem. Morbi vitae diam tincidunt, dignissim arcu ut, facilisis nisi. Maecenas non felis #ullamcorper, viverra augue id, consequat_nunc. Suspendisse potenti. Proin tempor, sapien ut ornare placerat, sapien mauris luctus sapien, eget aliquam turpis urna at quam. Sed a&eros vel@ ante vestibulum vulputate. Suspendisse vitae vulputate velit. Suspendisse! ligula nisl, semper ut sodales et, ultricies porttitor felis. Nunc ac mattis erat, aliquet pretium risus. Nullam quis congue lacus, et mollis nulla. Nunc laoreet in nisi sit amet facili*sis. Cras rutrum justo ut eros mollis volutpat. Sed quis mi nunc. Nunc sed bibendum nibh, quis bibendum tortor.\n",
    ",_!@*%#$.\n",
    ",\n",
    "3\n",
    "adipiscing\n",
    "Aliquam\n",
    "Suspendisse\n",
    "vulputate"
   ]
  },
  {
   "cell_type": "code",
   "execution_count": null,
   "id": "597d6660",
   "metadata": {},
   "outputs": [],
   "source": []
  },
  {
   "cell_type": "code",
   "execution_count": 48,
   "id": "b04f641a",
   "metadata": {},
   "outputs": [
    {
     "name": "stdout",
     "output_type": "stream",
     "text": [
      "10\n",
      "15\n",
      "34\n",
      "65\n",
      "111\n",
      "175\n",
      "260\n",
      "369\n",
      "505\n",
      "<class 'generator'>\n"
     ]
    }
   ],
   "source": [
    "def generator_Magic(n1):\n",
    "    # Write your code here\n",
    "    #list_magic = []\n",
    "    for a in range(3,n+1):\n",
    "        yield  (a*a*a+ a)/2\n",
    "        \n",
    "\n",
    "if __name__ == '__main__':\n",
    "\n",
    "    n = int(input().strip())\n",
    "    \n",
    "    for i in generator_Magic(n):\n",
    "        print(int(i))\n",
    "\n",
    "    gen1 = generator_Magic(n)\n",
    "    print(type(gen1))"
   ]
  },
  {
   "cell_type": "code",
   "execution_count": 52,
   "id": "ba5da538",
   "metadata": {},
   "outputs": [
    {
     "name": "stdout",
     "output_type": "stream",
     "text": [
      "21\n",
      "1\n",
      "2 5 11 17 "
     ]
    }
   ],
   "source": [
    "def primegenerator(num, val):\n",
    "    # Write your code here\n",
    "    primes = []\n",
    "    for i in range(2, num):\n",
    "        for j in range(2, int(i / 2) + 1):\n",
    "            if i % j == 0:\n",
    "                break\n",
    "        else:\n",
    "            primes.append(i)\n",
    "        \n",
    "    for i in range(1 - val, len(primes), 2):\n",
    "        yield primes[i]\n",
    "\n",
    "#prime1 = list(primenum(21, 0)) # [3, 7, 13, 19]\n",
    "#prime2 = list(primenum(21, 1)) # [2, 5, 11, 17]\n",
    "\n",
    "if __name__ == '__main__':\n",
    "\n",
    "    num = int(input().strip())\n",
    "\n",
    "    val = int(input().strip())\n",
    "\n",
    "    for i in primegenerator(num, val):\n",
    "        print(i,end=\" \")"
   ]
  },
  {
   "cell_type": "code",
   "execution_count": 61,
   "id": "3c090cac",
   "metadata": {},
   "outputs": [
    {
     "name": "stdout",
     "output_type": "stream",
     "text": [
      "m\n",
      "v\n",
      "r\n",
      "c\n",
      "k\n"
     ]
    }
   ],
   "source": [
    "k = [print(i) for i in \"maverick\" if i not in \"aeiou\"]"
   ]
  },
  {
   "cell_type": "code",
   "execution_count": 62,
   "id": "bffcb625",
   "metadata": {},
   "outputs": [
    {
     "data": {
      "text/plain": [
       "list"
      ]
     },
     "execution_count": 62,
     "metadata": {},
     "output_type": "execute_result"
    }
   ],
   "source": [
    "type(k)"
   ]
  },
  {
   "cell_type": "code",
   "execution_count": 54,
   "id": "d6906897",
   "metadata": {},
   "outputs": [],
   "source": [
    "d = {0 if i%2 == 0 else 1 for i in range(8)}"
   ]
  },
  {
   "cell_type": "code",
   "execution_count": 55,
   "id": "4e306282",
   "metadata": {},
   "outputs": [
    {
     "data": {
      "text/plain": [
       "{0, 1}"
      ]
     },
     "execution_count": 55,
     "metadata": {},
     "output_type": "execute_result"
    }
   ],
   "source": [
    "d"
   ]
  },
  {
   "cell_type": "code",
   "execution_count": 60,
   "id": "139592b7",
   "metadata": {},
   "outputs": [
    {
     "name": "stdout",
     "output_type": "stream",
     "text": [
      "<itertools.takewhile object at 0x0000024B5E82E4C0>\n"
     ]
    }
   ],
   "source": [
    "import itertools\n",
    "f = itertools.takewhile(lambda x: x<5, [1,4,6,4,1])\n",
    "print(f)"
   ]
  },
  {
   "cell_type": "code",
   "execution_count": 57,
   "id": "b162d45f",
   "metadata": {},
   "outputs": [
    {
     "name": "stdout",
     "output_type": "stream",
     "text": [
      "1\n",
      "4\n",
      "4\n",
      "1\n"
     ]
    }
   ],
   "source": [
    "def test(x):\n",
    "    for i in x:\n",
    "        if i<5:\n",
    "            print(i)\n",
    "            \n",
    "test([1,4,6,4,1])            "
   ]
  },
  {
   "cell_type": "code",
   "execution_count": null,
   "id": "e6b4479a",
   "metadata": {},
   "outputs": [],
   "source": [
    "id()"
   ]
  },
  {
   "cell_type": "code",
   "execution_count": 63,
   "id": "faebb1a6",
   "metadata": {},
   "outputs": [],
   "source": [
    "class Person:\n",
    "    def __init__(self, fname, lname):\n",
    "        self.fname = fname\n",
    "        self.lname = lname\n",
    "class Employee(Person):\n",
    "    all_employees = []\n",
    "    def __init__(self, fname, lname, empid):\n",
    "        Person.__init__(self, fname, lname)\n",
    "        self.empid = empid\n",
    "        Employee.all_employees.append(self)"
   ]
  },
  {
   "cell_type": "code",
   "execution_count": 69,
   "id": "da793685",
   "metadata": {},
   "outputs": [
    {
     "name": "stdout",
     "output_type": "stream",
     "text": [
      "George - smith\n",
      "Jack - 456342\n",
      "John - 123656\n"
     ]
    }
   ],
   "source": [
    "p1 = Person('George', 'smith')\n",
    "print(p1.fname, '-', p1.lname)\n",
    "e1 = Employee('Jack', 'simmons', 456342)\n",
    "e2 = Employee('John', 'williams', 123656)\n",
    "print(e1.fname, '-', e1.empid)\n",
    "print(e2.fname, '-', e2.empid)"
   ]
  },
  {
   "cell_type": "code",
   "execution_count": 70,
   "id": "13e3dbaa",
   "metadata": {},
   "outputs": [],
   "source": [
    "class EmployeesList(list):\n",
    "    def search(self, name):\n",
    "        matching_employees = []\n",
    "        for employee in Employee.all_employees:\n",
    "            if name in employee.fname:\n",
    "                matching_employees.append(employee.fname)\n",
    "        return matching_employees"
   ]
  },
  {
   "cell_type": "code",
   "execution_count": 71,
   "id": "8c70cda5",
   "metadata": {},
   "outputs": [
    {
     "name": "stdout",
     "output_type": "stream",
     "text": [
      "['George']\n"
     ]
    }
   ],
   "source": [
    "class Employee(Person):\n",
    "    all_employees = EmployeesList()\n",
    "    def __init__(self, fname, lname, empid):\n",
    "        Person.__init__(self, fname, lname)\n",
    "        self.empid = empid\n",
    "        Employee.all_employees.append(self)\n",
    "\n",
    "e1 = Employee('Jack', 'simmons', 456342)\n",
    "e2 = Employee('George', 'Brown', 656721)\n",
    "print(Employee.all_employees.search('or'))"
   ]
  },
  {
   "cell_type": "code",
   "execution_count": 72,
   "id": "9b828b73",
   "metadata": {},
   "outputs": [],
   "source": [
    "class Employee(Person):\n",
    "    all_employees = EmployeesList ()\n",
    "    def __init__(self, fname, lname, empid):\n",
    "        Person.__init__(self, fname, lname)\n",
    "        self.empid = empid\n",
    "        Employee.all_employees.append(self)\n",
    "    def getSalary(self):\n",
    "        return 'You get Monthly salary.'\n",
    "    def getBonus(self):\n",
    "        return 'You are eligible for Bonus.'"
   ]
  },
  {
   "cell_type": "code",
   "execution_count": 73,
   "id": "07080575",
   "metadata": {},
   "outputs": [
    {
     "name": "stdout",
     "output_type": "stream",
     "text": [
      "You are eligible for Bonus.\n",
      "You are not eligible for Bonus.\n"
     ]
    }
   ],
   "source": [
    "class ContractEmployee(Employee):\n",
    "    def getSalary(self):\n",
    "        return 'You will not get Salary from Organization.'\n",
    "    def getBonus(self):\n",
    "        return 'You are not eligible for Bonus.'\n",
    "e1 = Employee('Jack', 'simmons', 456342)\n",
    "e2 = ContractEmployee('John', 'williams', 123656)\n",
    "print(e1.getBonus())\n",
    "print(e2.getBonus())"
   ]
  },
  {
   "cell_type": "raw",
   "id": "e36a794f",
   "metadata": {},
   "source": [
    "Abstraction and Encapsulation\n",
    "Abstraction means working with something you know how to use without knowing how it works internally.\n",
    "\n",
    "Encapsulation allows binding data and associated methods together in a unit i.e class.\n",
    "\n",
    "These principles together allows a programmer to define an interface for applications, i.e. to define all tasks the program is capable to execute and their respective input and output data.\n",
    "\n",
    "A good example is a television set. We don’t need to know the inner workings of a TV, in order to use it. All we need to know is how to use the remote control (i.e the interface for the user to interact with the TV)."
   ]
  },
  {
   "cell_type": "raw",
   "id": "425ed06d",
   "metadata": {},
   "source": [
    "Abstracting Data\n",
    "Direct access to data can be restricted by making required attributes or methods private, just by prefixing it's name with one or two underscores.\n",
    "\n",
    "An attribute or a method starting with:\n",
    "\n",
    "no underscores is a public one.\n",
    "\n",
    "a single underscore is private, however, still accessible from outside.\n",
    "\n",
    "double underscores is strongly private and not accessible from outside."
   ]
  },
  {
   "cell_type": "raw",
   "id": "612fda7e",
   "metadata": {},
   "source": [
    "Abstraction and Encapsulation Example\n",
    "empid attribute of Employee class is made private and is accessible outside the class only using the method getEmpid."
   ]
  },
  {
   "cell_type": "code",
   "execution_count": 74,
   "id": "c7fb68d4",
   "metadata": {},
   "outputs": [],
   "source": [
    "class Employee(Person):\n",
    "    all_employees = EmployeesList()\n",
    "    def __init__(self, fname, lname, empid):\n",
    "        Person.__init__(self, fname, lname)\n",
    "        self.__empid = empid\n",
    "        Employee.all_employees.append(self)\n",
    "    def getEmpid(self):\n",
    "        return self.__empid"
   ]
  },
  {
   "cell_type": "code",
   "execution_count": 75,
   "id": "5f70af68",
   "metadata": {},
   "outputs": [
    {
     "name": "stdout",
     "output_type": "stream",
     "text": [
      "Jack simmons\n",
      "456342\n"
     ]
    },
    {
     "ename": "AttributeError",
     "evalue": "'Employee' object has no attribute '__empid'",
     "output_type": "error",
     "traceback": [
      "\u001b[1;31m---------------------------------------------------------------------------\u001b[0m",
      "\u001b[1;31mAttributeError\u001b[0m                            Traceback (most recent call last)",
      "\u001b[1;32m~\\AppData\\Local\\Temp/ipykernel_11532/2601449606.py\u001b[0m in \u001b[0;36m<module>\u001b[1;34m\u001b[0m\n\u001b[0;32m      2\u001b[0m \u001b[0mprint\u001b[0m\u001b[1;33m(\u001b[0m\u001b[0me1\u001b[0m\u001b[1;33m.\u001b[0m\u001b[0mfname\u001b[0m\u001b[1;33m,\u001b[0m \u001b[0me1\u001b[0m\u001b[1;33m.\u001b[0m\u001b[0mlname\u001b[0m\u001b[1;33m)\u001b[0m\u001b[1;33m\u001b[0m\u001b[1;33m\u001b[0m\u001b[0m\n\u001b[0;32m      3\u001b[0m \u001b[0mprint\u001b[0m\u001b[1;33m(\u001b[0m\u001b[0me1\u001b[0m\u001b[1;33m.\u001b[0m\u001b[0mgetEmpid\u001b[0m\u001b[1;33m(\u001b[0m\u001b[1;33m)\u001b[0m\u001b[1;33m)\u001b[0m\u001b[1;33m\u001b[0m\u001b[1;33m\u001b[0m\u001b[0m\n\u001b[1;32m----> 4\u001b[1;33m \u001b[0mprint\u001b[0m\u001b[1;33m(\u001b[0m\u001b[0me1\u001b[0m\u001b[1;33m.\u001b[0m\u001b[0m__empid\u001b[0m\u001b[1;33m)\u001b[0m\u001b[1;33m\u001b[0m\u001b[1;33m\u001b[0m\u001b[0m\n\u001b[0m",
      "\u001b[1;31mAttributeError\u001b[0m: 'Employee' object has no attribute '__empid'"
     ]
    }
   ],
   "source": [
    "e1 = Employee('Jack', 'simmons', 456342)\n",
    "print(e1.fname, e1.lname)\n",
    "print(e1.getEmpid())\n",
    "print(e1.__empid)"
   ]
  },
  {
   "cell_type": "code",
   "execution_count": 76,
   "id": "eb0a1103",
   "metadata": {},
   "outputs": [
    {
     "ename": "TypeError",
     "evalue": "__init__() takes 1 positional argument but 3 were given",
     "output_type": "error",
     "traceback": [
      "\u001b[1;31m---------------------------------------------------------------------------\u001b[0m",
      "\u001b[1;31mTypeError\u001b[0m                                 Traceback (most recent call last)",
      "\u001b[1;32m~\\AppData\\Local\\Temp/ipykernel_11532/2906133674.py\u001b[0m in \u001b[0;36m<module>\u001b[1;34m\u001b[0m\n\u001b[0;32m     16\u001b[0m         \u001b[0mprint\u001b[0m\u001b[1;33m(\u001b[0m\u001b[1;34m'a :'\u001b[0m\u001b[1;33m,\u001b[0m \u001b[0mself\u001b[0m\u001b[1;33m.\u001b[0m\u001b[0ma\u001b[0m\u001b[1;33m,\u001b[0m \u001b[1;34m' b :'\u001b[0m\u001b[1;33m,\u001b[0m \u001b[0mself\u001b[0m\u001b[1;33m.\u001b[0m\u001b[0mb\u001b[0m\u001b[1;33m)\u001b[0m\u001b[1;33m\u001b[0m\u001b[1;33m\u001b[0m\u001b[0m\n\u001b[0;32m     17\u001b[0m \u001b[1;33m\u001b[0m\u001b[0m\n\u001b[1;32m---> 18\u001b[1;33m \u001b[0ma1\u001b[0m \u001b[1;33m=\u001b[0m \u001b[0mA\u001b[0m\u001b[1;33m(\u001b[0m\u001b[1;34m'George'\u001b[0m\u001b[1;33m,\u001b[0m \u001b[1;36m25000\u001b[0m\u001b[1;33m)\u001b[0m\u001b[1;33m\u001b[0m\u001b[1;33m\u001b[0m\u001b[0m\n\u001b[0m\u001b[0;32m     19\u001b[0m \u001b[0ma2\u001b[0m \u001b[1;33m=\u001b[0m \u001b[0mA\u001b[0m\u001b[1;33m(\u001b[0m\u001b[1;34m'John'\u001b[0m\u001b[1;33m,\u001b[0m \u001b[1;36m30000\u001b[0m\u001b[1;33m)\u001b[0m\u001b[1;33m\u001b[0m\u001b[1;33m\u001b[0m\u001b[0m\n\u001b[0;32m     20\u001b[0m \u001b[0ma3\u001b[0m \u001b[1;33m=\u001b[0m \u001b[0mA\u001b[0m\u001b[1;33m(\u001b[0m\u001b[1;33m)\u001b[0m\u001b[1;33m\u001b[0m\u001b[1;33m\u001b[0m\u001b[0m\n",
      "\u001b[1;31mTypeError\u001b[0m: __init__() takes 1 positional argument but 3 were given"
     ]
    }
   ],
   "source": [
    "class A:\n",
    "    x = 0\n",
    "\n",
    "    def __init__(self, a, b):\n",
    "        self.a = a\n",
    "        self.b = b\n",
    "        A.x += 1\n",
    "\n",
    "    def __init__(self):\n",
    "        A.x += 1\n",
    "\n",
    "    def displayCount(self):\n",
    "        print('Count : %d' % A.x)\n",
    "\n",
    "    def display(self):\n",
    "        print('a :', self.a, ' b :', self.b)\n",
    "\n",
    "a1 = A('George', 25000)\n",
    "a2 = A('John', 30000)\n",
    "a3 = A()\n",
    "a1.display()\n",
    "a2.display()\n",
    "print(A.x)"
   ]
  },
  {
   "cell_type": "code",
   "execution_count": 77,
   "id": "bc8df888",
   "metadata": {},
   "outputs": [
    {
     "name": "stdout",
     "output_type": "stream",
     "text": [
      "2 2 3 2 "
     ]
    }
   ],
   "source": [
    "class class1:\n",
    "    a = 1\n",
    "\n",
    "    def f1(self):\n",
    "        a = 2\n",
    "        class1.a += 1\n",
    "        print(class1.a, end=' ')\n",
    "        print(a, end=' ')\n",
    "\n",
    "class1().f1()\n",
    "class1().f1()"
   ]
  },
  {
   "cell_type": "code",
   "execution_count": 78,
   "id": "a4992dc8",
   "metadata": {},
   "outputs": [
    {
     "name": "stdout",
     "output_type": "stream",
     "text": [
      "False\n",
      "A(x: 12, y: 3)\n"
     ]
    }
   ],
   "source": [
    "class A:\n",
    "    def __init__(self, x=5, y=4):\n",
    "        self.x = x\n",
    "        self.y = y\n",
    "\n",
    "    def __str__(self):\n",
    "        return 'A(x: {}, y: {})'.format(self.x, self.y)\n",
    "        \n",
    "    def __eq__(self, other):\n",
    "        return self.x * self.y == other.x * other.y\n",
    "     \n",
    "def f1():\n",
    "    a = A(12, 3)\n",
    "    b = A(3, 12)\n",
    "    if (a == b):\n",
    "        print(b != a)\n",
    "        print(a)\n",
    "\n",
    "f1()"
   ]
  },
  {
   "cell_type": "code",
   "execution_count": 79,
   "id": "1d81b20e",
   "metadata": {},
   "outputs": [
    {
     "name": "stdout",
     "output_type": "stream",
     "text": [
      "False\n",
      "A(x: 12, y: 3)\n"
     ]
    }
   ],
   "source": [
    "class A:\n",
    "    def __init__(self, x=5, y=4):\n",
    "        self.x = x\n",
    "        self.y = y\n",
    "\n",
    "    def __str__(self):\n",
    "        return 'A(x: {}, y: {})'.format(self.x, self.y)\n",
    "        \n",
    "    def __eq__(self, other):\n",
    "        return self.x * self.y == other.x * other.y\n",
    "     \n",
    "def f1():\n",
    "    a = A(12, 3)\n",
    "    b = A(3, 12)\n",
    "    if (a == b):\n",
    "        print(b != a)\n",
    "        print(a)\n",
    "\n",
    "f1()"
   ]
  },
  {
   "cell_type": "code",
   "execution_count": 80,
   "id": "3149062b",
   "metadata": {},
   "outputs": [
    {
     "name": "stdout",
     "output_type": "stream",
     "text": [
      "(<class '__main__.child'>, <class '__main__.mother'>, <class '__main__.father'>, <class '__main__.grandpa'>, <class 'object'>)\n"
     ]
    }
   ],
   "source": [
    "class grandpa(object):\n",
    "    pass\n",
    "\n",
    "class father(grandpa):\n",
    "    pass\n",
    "\n",
    "class mother(object):\n",
    "    pass\n",
    "\n",
    "class child(mother, father):\n",
    "    pass\n",
    "\n",
    "print(child.__mro__)"
   ]
  },
  {
   "cell_type": "code",
   "execution_count": 81,
   "id": "a8dd57e4",
   "metadata": {},
   "outputs": [
    {
     "name": "stdout",
     "output_type": "stream",
     "text": [
      "two\n",
      "0.0\n",
      "-0x2a\n"
     ]
    }
   ],
   "source": [
    "class A:\n",
    "    def __init__(self):\n",
    "        print('one')\n",
    "\n",
    "    def f(self):\n",
    "        print(float())\n",
    "        print(hex(-255))\n",
    "\n",
    "class B(A):\n",
    "    def __init__(self):\n",
    "        print('two')\n",
    "\n",
    "    def f(self):\n",
    "        print(float())\n",
    "        print(hex(-42))\n",
    "\n",
    "x = B()\n",
    "x.f()"
   ]
  },
  {
   "cell_type": "code",
   "execution_count": 93,
   "id": "92f68dc5",
   "metadata": {},
   "outputs": [
    {
     "name": "stdout",
     "output_type": "stream",
     "text": [
      "h\n",
      "2\n",
      "20\n",
      "Movie :  h\n",
      "Number of Tickets :  2\n",
      "Total cost :  20\n"
     ]
    },
    {
     "ename": "TypeError",
     "evalue": "__str__ returned non-string (type NoneType)",
     "output_type": "error",
     "traceback": [
      "\u001b[1;31m---------------------------------------------------------------------------\u001b[0m",
      "\u001b[1;31mTypeError\u001b[0m                                 Traceback (most recent call last)",
      "\u001b[1;32m~\\AppData\\Local\\Temp/ipykernel_11532/3652274045.py\u001b[0m in \u001b[0;36m<module>\u001b[1;34m\u001b[0m\n\u001b[0;32m     14\u001b[0m \u001b[0mcost\u001b[0m\u001b[1;33m=\u001b[0m\u001b[0mint\u001b[0m\u001b[1;33m(\u001b[0m\u001b[0minput\u001b[0m\u001b[1;33m(\u001b[0m\u001b[1;33m)\u001b[0m\u001b[1;33m.\u001b[0m\u001b[0mstrip\u001b[0m\u001b[1;33m(\u001b[0m\u001b[1;33m)\u001b[0m\u001b[1;33m)\u001b[0m\u001b[1;33m\u001b[0m\u001b[1;33m\u001b[0m\u001b[0m\n\u001b[0;32m     15\u001b[0m \u001b[0mp1\u001b[0m\u001b[1;33m=\u001b[0m\u001b[0mMovie\u001b[0m\u001b[1;33m(\u001b[0m\u001b[0mname\u001b[0m\u001b[1;33m,\u001b[0m\u001b[0mn\u001b[0m\u001b[1;33m,\u001b[0m\u001b[0mcost\u001b[0m\u001b[1;33m)\u001b[0m\u001b[1;33m\u001b[0m\u001b[1;33m\u001b[0m\u001b[0m\n\u001b[1;32m---> 16\u001b[1;33m \u001b[0mprint\u001b[0m\u001b[1;33m(\u001b[0m\u001b[0mp1\u001b[0m\u001b[1;33m)\u001b[0m\u001b[1;33m\u001b[0m\u001b[1;33m\u001b[0m\u001b[0m\n\u001b[0m",
      "\u001b[1;31mTypeError\u001b[0m: __str__ returned non-string (type NoneType)"
     ]
    }
   ],
   "source": [
    "class Movie:\n",
    "    def __init__(self,name,n,cost):\n",
    "        self.name=name\n",
    "        self.n=n\n",
    "        self.cost=cost\n",
    "#step 2\n",
    "    def __str__(self):\n",
    "        return \"Movie:\"+self.name+\"\\n\"+\"Number Of Tickets:\"+str(self.n)+\"\\n\"+\"Total Cost:\"+str(self.cost)\n",
    "if __name__=='__main__':\n",
    "    name=input()\n",
    "n=int(input().strip())\n",
    "cost=int(input().strip())\n",
    "p1=Movie(name,n,cost)\n",
    "print(p1)"
   ]
  },
  {
   "cell_type": "code",
   "execution_count": 108,
   "id": "20aa990a",
   "metadata": {},
   "outputs": [
    {
     "name": "stdout",
     "output_type": "stream",
     "text": [
      "1\n",
      "2\n",
      "3\n",
      "4\n",
      "Sum of the two Complex numbers :4+6i\n",
      "Subtraction of the two Complex numbers :-2-2i\n"
     ]
    }
   ],
   "source": [
    "class comp:\n",
    "    def __init__(self,real,imaginary):\n",
    "        self.real = real\n",
    "        self.imaginary = imaginary\n",
    "    def add(a,b):\n",
    "        imag = a.imaginary+b.imaginary\n",
    "        s=\"+\"\n",
    "        if(imag<0):\n",
    "            s = \"+\"\n",
    "        print(\"Sum of the two Complex numbers :\"+str(a.real+b.real)+s+str(a.imaginary+b.imaginary)+\"i\")\n",
    "\n",
    "    def sub(a,b):\n",
    "        imag = a.imaginary-b.imaginary\n",
    "        s=\"+\"\n",
    "        if(imag<0):\n",
    "            s = \"\"\n",
    "        print(\"Subtraction of the two Complex numbers :\"+str(a.real-b.real)+s+str(a.imaginary-b.imaginary)+\"i\")\n",
    "        \n",
    "if __name__ == '__main__':\n",
    "    \n",
    "    real1 = int(input().strip())\n",
    "    img1 = int(input().strip())\n",
    "    \n",
    "    real2 = int(input().strip())\n",
    "    img2 = int(input().strip())\n",
    "    \n",
    "    p1 = comp(real1,img1)\n",
    "    p2 = comp(real2,img2)\n",
    "\n",
    "    p1.add(p2)\n",
    "    p1.sub(p2)        "
   ]
  },
  {
   "cell_type": "code",
   "execution_count": 110,
   "id": "85838feb",
   "metadata": {},
   "outputs": [
    {
     "ename": "NameError",
     "evalue": "name 'parent' is not defined",
     "output_type": "error",
     "traceback": [
      "\u001b[1;31m---------------------------------------------------------------------------\u001b[0m",
      "\u001b[1;31mNameError\u001b[0m                                 Traceback (most recent call last)",
      "\u001b[1;32m~\\AppData\\Local\\Temp/ipykernel_11532/3245934085.py\u001b[0m in \u001b[0;36m<module>\u001b[1;34m\u001b[0m\n\u001b[1;32m----> 1\u001b[1;33m \u001b[1;32mclass\u001b[0m \u001b[0mson\u001b[0m\u001b[1;33m(\u001b[0m\u001b[0mparent\u001b[0m\u001b[1;33m)\u001b[0m\u001b[1;33m:\u001b[0m\u001b[1;33m\u001b[0m\u001b[1;33m\u001b[0m\u001b[0m\n\u001b[0m\u001b[0;32m      2\u001b[0m     \u001b[1;32mdef\u001b[0m \u001b[0m__init__\u001b[0m\u001b[1;33m(\u001b[0m\u001b[0mself\u001b[0m\u001b[1;33m,\u001b[0m \u001b[0mtotal_asset\u001b[0m\u001b[1;33m,\u001b[0m\u001b[0mpps\u001b[0m\u001b[1;33m)\u001b[0m\u001b[1;33m:\u001b[0m\u001b[1;33m\u001b[0m\u001b[1;33m\u001b[0m\u001b[0m\n\u001b[0;32m      3\u001b[0m         \u001b[0msuper\u001b[0m\u001b[1;33m(\u001b[0m\u001b[1;33m)\u001b[0m\u001b[1;33m.\u001b[0m\u001b[0m__init__\u001b[0m\u001b[1;33m(\u001b[0m\u001b[0mtotal_asset\u001b[0m\u001b[1;33m)\u001b[0m\u001b[1;33m\u001b[0m\u001b[1;33m\u001b[0m\u001b[0m\n\u001b[0;32m      4\u001b[0m         \u001b[0mself\u001b[0m\u001b[1;33m.\u001b[0m\u001b[0mpps\u001b[0m \u001b[1;33m=\u001b[0m \u001b[0mpps\u001b[0m\u001b[1;33m\u001b[0m\u001b[1;33m\u001b[0m\u001b[0m\n\u001b[0;32m      5\u001b[0m     \u001b[1;32mdef\u001b[0m \u001b[0mson_display\u001b[0m\u001b[1;33m(\u001b[0m\u001b[0mself\u001b[0m\u001b[1;33m)\u001b[0m\u001b[1;33m:\u001b[0m\u001b[1;33m\u001b[0m\u001b[1;33m\u001b[0m\u001b[0m\n",
      "\u001b[1;31mNameError\u001b[0m: name 'parent' is not defined"
     ]
    }
   ],
   "source": [
    "class son(parent):\n",
    "    def __init__(self, total_asset,pps):\n",
    "        super().__init__(total_asset)\n",
    "        self.pps = pps\n",
    "    def son_display(self):\n",
    "        print(\"Share of Son is \"+str(round(self.total_asset*self.pps/100,2))+\" Million.\")\n",
    "\n",
    "class daughter(parent):\n",
    "    def __init__(self, total_asset,pps):\n",
    "        super().__init__(total_asset)\n",
    "        self.pps = pps\n",
    "    def daughter_display(self):\n",
    "        print(\"Share of Daughter is \"+str(round(self.total_asset*self.pps/100,2))+\" Million.\")\n",
    "        \n",
    "if __name__ == '__main__':\n",
    "    \n",
    "    t = int(input())\n",
    "    sp = int(input())\n",
    "    dp = int(input())\n",
    "\n",
    "\n",
    "    obj1 = parent(t)\n",
    "    \n",
    "\n",
    "    obj2 = son(t,sp)\n",
    "    obj2.son_display()\n",
    "    obj2.display()\n",
    "\n",
    "\n",
    "    obj3 = daughter(t,dp)\n",
    "    obj3.daughter_display()\n",
    "    obj3.display()\n",
    "    \n",
    "    print(isinstance(obj2,parent))\n",
    "    print(isinstance(obj3,parent))\n",
    "\n",
    "    print(isinstance(obj3,son))\n",
    "    print(isinstance(obj2,daughter))        "
   ]
  },
  {
   "cell_type": "code",
   "execution_count": 111,
   "id": "c4dcd9df",
   "metadata": {},
   "outputs": [
    {
     "name": "stdout",
     "output_type": "stream",
     "text": [
      "5\n",
      "4\n",
      "6\n",
      "This is a Rectangle\n",
      "Area of Rectangle is  20\n",
      "This is a Square\n",
      "Area of square is  36\n"
     ]
    }
   ],
   "source": [
    "class rectangle:\n",
    "    def display(self):\n",
    "        print(\"This is a Rectangle\")\n",
    "    def area(self,l,b):  \n",
    "        print(\"Area of Rectangle is  \"+str(l*b)) \n",
    "class square:\n",
    "    def display(self):\n",
    "                print(\"This is a Square\")\n",
    "    def area(self,a):         \n",
    "        print(\"Area of square is  \"+str(a*a))\n",
    "        \n",
    "        \n",
    "if __name__ == '__main__':\n",
    "    \n",
    "    l = int(input())\n",
    "    b = int(input())\n",
    "    s = int(input())\n",
    "\n",
    "    obj1 = rectangle()\n",
    "    obj1.display()\n",
    "    obj1.area(l,b)\n",
    "\n",
    "    obj2 = square()\n",
    "    obj2.display()\n",
    "    obj2.area(s)\n",
    "        "
   ]
  },
  {
   "cell_type": "raw",
   "id": "27d92f35",
   "metadata": {},
   "source": [
    "Exceptions\n",
    "An exception is an error that occurs during execution of a program.\n",
    "\n",
    "Python allows a programmer to handle such exceptions using try ... except clauses, thus avoiding the program to crash.\n",
    "\n",
    "Some of the python expressions, though written correctly in syntax, result in error during execution. Such scenarios have to be handled."
   ]
  },
  {
   "cell_type": "raw",
   "id": "efea56c9",
   "metadata": {},
   "source": [
    "Sample Exceptions\n",
    "Try executing the following two expressions\n",
    "\n",
    "10 + ( 1 / 0)\n",
    "\n",
    "36 + '20'\n",
    "\n",
    "The first one throws error message, ZeroDivisionError : division by zero, and\n",
    "\n",
    "Second one throws, TypeError : unsupported operand type(s) for +: 'int' and 'str'.\n",
    "\n",
    "In Python, every error message has two parts. The first part tells what type of exception it is and second part explains the details of error."
   ]
  },
  {
   "cell_type": "raw",
   "id": "e7efa068",
   "metadata": {},
   "source": [
    "Handling Exception\n",
    "Python handles exceptions using code written inside try ... except blocks.\n",
    "\n",
    "A try block is followed by one or more except clauses.\n",
    "\n",
    "The code to be handled is written inside try clause and the code to be executed when an exception occurs is written inside except clause."
   ]
  },
  {
   "cell_type": "code",
   "execution_count": 4,
   "id": "3b4df049",
   "metadata": {},
   "outputs": [
    {
     "name": "stdout",
     "output_type": "stream",
     "text": [
      "Value of 'a' : 16\n",
      "oops!!! unsupported operand type(s) for ** or pow(): 'int' and 'str'\n",
      "Out of try ... except.\n"
     ]
    }
   ],
   "source": [
    "try:\n",
    "    a = pow(2, 4)\n",
    "    print(\"Value of 'a' :\", a)\n",
    "    b = pow(2, 'hello')   # results in exception\n",
    "    print(\"Value of 'b' :\", b)\n",
    "except TypeError as e:\n",
    "    print('oops!!!',e)\n",
    "print('Out of try ... except.')"
   ]
  },
  {
   "cell_type": "raw",
   "id": "622a04bf",
   "metadata": {},
   "source": [
    "Raising Exceptions\n",
    "raise keyword is used when a programmer wants a specific exception to occur."
   ]
  },
  {
   "cell_type": "code",
   "execution_count": 5,
   "id": "3ff766bb",
   "metadata": {},
   "outputs": [
    {
     "name": "stdout",
     "output_type": "stream",
     "text": [
      "Two inputs must be integers.\n"
     ]
    }
   ],
   "source": [
    "try:\n",
    "    a = 2; b = 'hello'\n",
    "    if not (isinstance(a, int)\n",
    "            and isinstance(b, int)):\n",
    "        raise TypeError('Two inputs must be integers.')\n",
    "    c = a**b\n",
    "except TypeError as e:\n",
    "    print(e)"
   ]
  },
  {
   "cell_type": "raw",
   "id": "e7335032",
   "metadata": {},
   "source": [
    "Above example raises TypeError when both a or b are not integers."
   ]
  },
  {
   "cell_type": "raw",
   "id": "0f7b641e",
   "metadata": {},
   "source": [
    "User Defined Functions\n",
    "There are many built-in exceptions in Python, which are directly or indirectly derived from Exception class.\n",
    "\n",
    "Python also allows a programmer to create custom exceptions, derived from base Exception class."
   ]
  },
  {
   "cell_type": "code",
   "execution_count": 6,
   "id": "f91fde62",
   "metadata": {},
   "outputs": [],
   "source": [
    "class CustomError(Exception):\n",
    "    def __init__(self, value):\n",
    "        self.value = value\n",
    "    def __str__(self):\n",
    "        return str(self.value)"
   ]
  },
  {
   "cell_type": "code",
   "execution_count": 7,
   "id": "1c03ce66",
   "metadata": {},
   "outputs": [
    {
     "name": "stdout",
     "output_type": "stream",
     "text": [
      "Two inputs must be integers.\n"
     ]
    }
   ],
   "source": [
    "try:\n",
    "    a = 2; b = 'hello'\n",
    "    if not (isinstance(a, int)\n",
    "            and isinstance(b, int)):\n",
    "        raise CustomError('Two inputs must be integers.')\n",
    "    c = a**b\n",
    "except CustomError as e:\n",
    "    print(e)"
   ]
  },
  {
   "cell_type": "raw",
   "id": "c92616b0",
   "metadata": {},
   "source": [
    "CustomError is raised in above example, instead of TypeError."
   ]
  },
  {
   "cell_type": "raw",
   "id": "83b38a6b",
   "metadata": {},
   "source": [
    "Using 'finally' clause\n",
    "finally clause is an optional one that can be used with try ... except clauses.\n",
    "\n",
    "All the statements under finally clause are executed irrespective of exception occurrence."
   ]
  },
  {
   "cell_type": "code",
   "execution_count": 8,
   "id": "6eae6cb8",
   "metadata": {},
   "outputs": [],
   "source": [
    "def divide(a,b):\n",
    "    try:\n",
    "        result = a / b\n",
    "        return result\n",
    "    except ZeroDivisionError:\n",
    "        print(\"Dividing by Zero.\")\n",
    "    finally:\n",
    "        print(\"In finally clause.\")"
   ]
  },
  {
   "cell_type": "code",
   "execution_count": 9,
   "id": "ee908e86",
   "metadata": {},
   "outputs": [
    {
     "name": "stdout",
     "output_type": "stream",
     "text": [
      "First call\n",
      "In finally clause.\n",
      "2.0\n",
      "Second call\n",
      "Dividing by Zero.\n",
      "In finally clause.\n",
      "None\n"
     ]
    }
   ],
   "source": [
    "print('First call')\n",
    "print(divide(14, 7))\n",
    "print('Second call')\n",
    "print(divide(14, 0))"
   ]
  },
  {
   "cell_type": "raw",
   "id": "46d5d787",
   "metadata": {},
   "source": [
    "Statements inside finally clause are executed in both function calls."
   ]
  },
  {
   "cell_type": "raw",
   "id": "9755f855",
   "metadata": {},
   "source": [
    "Using 'else' clause\n",
    "else clause is also an optional clause with try ... except clauses.\n",
    "\n",
    "Statements under else clause are executed only when no exception occurs in try clause."
   ]
  },
  {
   "cell_type": "code",
   "execution_count": 10,
   "id": "40e7c5a2",
   "metadata": {},
   "outputs": [
    {
     "name": "stdout",
     "output_type": "stream",
     "text": [
      "First ELSE\n",
      "oops!!!\n"
     ]
    }
   ],
   "source": [
    "try:\n",
    "    a = 14 / 7\n",
    "except ZeroDivisionError:\n",
    "    print('oops!!!')\n",
    "else:\n",
    "    print('First ELSE')\n",
    "try:\n",
    "    a = 14 / 0\n",
    "except ZeroDivisionError:\n",
    "    print('oops!!!')\n",
    "else:\n",
    "    print('Second ELSE')"
   ]
  },
  {
   "cell_type": "code",
   "execution_count": 18,
   "id": "8f438981",
   "metadata": {},
   "outputs": [],
   "source": [
    "def Handle_Exc1():\n",
    "    try:\n",
    "\n",
    "        a=int(input())\n",
    "        b=int(input())   \n",
    "        if (a>150 or b<100):\n",
    "            raise ValueError('Input integers value out of range.')\n",
    "    except ValueError as e:\n",
    "          print(e)  \n",
    "\n",
    "    else:\n",
    "        try:\n",
    "            c=a+b\n",
    "            if c>400:\n",
    "                raise ValueError('Their sum is out of range')\n",
    "        except ValueError as f:\n",
    "                print(f)\n",
    "        else:\n",
    "            print(\"All in range\")"
   ]
  },
  {
   "cell_type": "code",
   "execution_count": 19,
   "id": "6a7d45b7",
   "metadata": {},
   "outputs": [
    {
     "name": "stdout",
     "output_type": "stream",
     "text": [
      "156\n",
      "445\n",
      "Input integers value out of range.\n"
     ]
    }
   ],
   "source": [
    "Handle_Exc1()"
   ]
  },
  {
   "cell_type": "code",
   "execution_count": 23,
   "id": "2b61464a",
   "metadata": {},
   "outputs": [
    {
     "name": "stdout",
     "output_type": "stream",
     "text": [
      "5\n",
      "1\n",
      "3\n",
      "4\n",
      "5\n",
      "6\n",
      "[1, 3, 4, 5, 6]\n",
      "1\n",
      "3\n",
      "4\n",
      "5\n",
      "6\n",
      "<class 'list_iterator'>\n",
      "Stop Iteration : No Next Element to fetch\n"
     ]
    }
   ],
   "source": [
    "#!/bin/python3\n",
    "\n",
    "import math\n",
    "import os\n",
    "import random\n",
    "import re\n",
    "import sys\n",
    "\n",
    "\n",
    "\n",
    "#\n",
    "# Complete the 'FORLoop' function below.\n",
    "#\n",
    "\n",
    "def FORLoop():\n",
    "    # Write your code here\n",
    "    \n",
    "    n = int(input())\n",
    "    l1 = []\n",
    "    for i in range(n):\n",
    "        a = int(input())\n",
    "        l1.append(a)\n",
    "    print(l1)\n",
    "    iter1 = iter(l1)\n",
    "    for i in range(n):\n",
    "        print(next(iter1))\n",
    "    return iter1\n",
    "\n",
    "if __name__ == '__main__':\n",
    "    try:\n",
    "        d = FORLoop()\n",
    "        print(type(d))\n",
    "        print(next(d))\n",
    "  \n",
    "    except StopIteration:\n",
    "        print('Stop Iteration : No Next Element to fetch')"
   ]
  },
  {
   "cell_type": "code",
   "execution_count": 26,
   "id": "df3519d1",
   "metadata": {},
   "outputs": [
    {
     "name": "stdout",
     "output_type": "stream",
     "text": [
      "5000\n",
      "2\n",
      "3000\n",
      "Updated Balance Amount:  2000\n"
     ]
    }
   ],
   "source": [
    "class MinimumDepositError(Exception):\n",
    "    pass\n",
    "class MinimumBalanceError(Exception):\n",
    "    pass\n",
    "def Bank_ATM(balance,choice,amount):\n",
    "\n",
    "    if(balance<500):\n",
    "        raise ValueError(\"As per the Minimum Balance Policy, Balance must be at least 500\")\n",
    "    if(choice == 1 and amount<2000):\n",
    "        raise MinimumDepositError(\"The Minimum amount of Deposit should be 2000.\")\n",
    "    elif(choice == 1):\n",
    "        balance+=amount\n",
    "        print(\"Updated Balance Amount:  \"+str(balance))\n",
    "\n",
    "    if(choice == 2 and balance-amount<500):\n",
    "        raise MinimumBalanceError(\"You cannot withdraw this amount due to Minimum Balance Policy\")\n",
    "    elif(choice ==2):\n",
    "        balance-=amount\n",
    "        print(\"Updated Balance Amount:  \"+str(balance))\n",
    "        \n",
    "if __name__ == '__main__':\n",
    "    \n",
    "    bal = int(input())\n",
    "    ch = int(input())\n",
    "    amt = int(input())\n",
    "    \n",
    "    try:\n",
    "        Bank_ATM(bal,ch,amt)\n",
    "    \n",
    "    \n",
    "    except ValueError as e:\n",
    "        print(e)\n",
    "    except MinimumDepositError as e:\n",
    "        print(e)\n",
    "    except MinimumBalanceError as e:\n",
    "        print(e)        "
   ]
  },
  {
   "cell_type": "code",
   "execution_count": 28,
   "id": "18f447bd",
   "metadata": {},
   "outputs": [
    {
     "name": "stdout",
     "output_type": "stream",
     "text": [
      "60000\n",
      "5\n",
      "ballet of tony\n",
      "Maximum Permitted Number of Installments is 3\n"
     ]
    }
   ],
   "source": [
    "def Library(memberfee,installment,book):\n",
    "\n",
    "    if(installment>3):\n",
    "        raise ValueError(\"Maximum Permitted Number of Installments is 3\")\n",
    "    elif(installment==0):\n",
    "        raise ZeroDivisionError(\"Number of Installments cannot be Zero.\")\n",
    "    else:\n",
    "\n",
    "        print(\"Amount per Installment is  \"+str(memberfee/installment))\n",
    "    books = [\"Philosophers Stone\",\"Chamber of Secrets\",\"Prisoner of Azkaban\",\"Goblet of Fire\",\"Order of Phoenix\",\"Half Blood Prince\",\"Deathly Hallows 1\",\"Deathly Hallows 2\"]\n",
    "    b = [x.lower() for x in books]\n",
    "    if (book.lower() not in b):\n",
    "        raise NameError(\"No such book exists in this section\")\n",
    "    else:\n",
    "        print(\"It is available in this section\")\n",
    "        \n",
    "\n",
    "if __name__ == '__main__':\n",
    "    \n",
    "    memberfee = int(input())\n",
    "    installment = int(input())\n",
    "    book = input()\n",
    "    \n",
    "    try:\n",
    "        Library(memberfee,installment,book)\n",
    "        \n",
    "    except ZeroDivisionError as e:\n",
    "        print(e)\n",
    "    except ValueError as e:\n",
    "        print(e)\n",
    "    except NameError as e:\n",
    "        print(e)        "
   ]
  },
  {
   "cell_type": "code",
   "execution_count": 29,
   "id": "dae8662d",
   "metadata": {},
   "outputs": [
    {
     "ename": "NameError",
     "evalue": "name 'g' is not defined",
     "output_type": "error",
     "traceback": [
      "\u001b[1;31m---------------------------------------------------------------------------\u001b[0m",
      "\u001b[1;31mNameError\u001b[0m                                 Traceback (most recent call last)",
      "\u001b[1;32m~\\AppData\\Local\\Temp/ipykernel_1796/736664629.py\u001b[0m in \u001b[0;36m<module>\u001b[1;34m\u001b[0m\n\u001b[1;32m----> 1\u001b[1;33m \u001b[0mprint\u001b[0m\u001b[1;33m(\u001b[0m\u001b[0mg\u001b[0m\u001b[1;33m)\u001b[0m\u001b[1;33m\u001b[0m\u001b[1;33m\u001b[0m\u001b[0m\n\u001b[0m",
      "\u001b[1;31mNameError\u001b[0m: name 'g' is not defined"
     ]
    }
   ],
   "source": [
    "print(g)"
   ]
  },
  {
   "cell_type": "code",
   "execution_count": 30,
   "id": "d9ce2ebf",
   "metadata": {},
   "outputs": [
    {
     "data": {
      "text/plain": [
       "False"
      ]
     },
     "execution_count": 30,
     "metadata": {},
     "output_type": "execute_result"
    }
   ],
   "source": [
    "'2' == 2"
   ]
  },
  {
   "cell_type": "raw",
   "id": "cdd54f3d",
   "metadata": {},
   "source": [
    "Introduction to a Module\n",
    "Any file containing logically organized Python code can be used as a module.\n",
    "\n",
    "A module generally contains any of the defined functions, classes and variables. A module can also include executable code.\n",
    "\n",
    "Any Python source file can be used as a module by using an import statement in some other Python source file."
   ]
  },
  {
   "cell_type": "code",
   "execution_count": 32,
   "id": "2abc9d4b",
   "metadata": {},
   "outputs": [
    {
     "name": "stdout",
     "output_type": "stream",
     "text": [
      "3\n",
      "22\n",
      "34\n",
      "56\n",
      "[datetime.time(22, 34, 56), '10']\n"
     ]
    }
   ],
   "source": [
    "import calendar\n",
    "\n",
    "import datetime\n",
    "\n",
    " \n",
    "\n",
    "def dateandtime(val,tup):\n",
    "\n",
    "    l1=[]\n",
    "    s=\"\"\n",
    "    if(val==1):\n",
    "        for x in tup:\n",
    "            s+=str(x)\n",
    "\n",
    "        d1 = datetime.datetime.strptime(s,'%Y%m%d').date()\n",
    "        l1.append(d1)\n",
    "        l1.append(datetime.date.strftime(d1,'%d/%m/%Y'))\n",
    "    elif(val==2):\n",
    "        l1.append(datetime.date.fromtimestamp(tup[0]))\n",
    "    elif(val==3):\n",
    "        s = \"\"\n",
    "        for x in tup:\n",
    "            s+=str(x)\n",
    "        s1=int(s)\n",
    "        t = datetime.time(tup[0],tup[1],tup[2])\n",
    "        l1.append(t)\n",
    "        h=datetime.time.strftime(t,'%I')\n",
    "\n",
    "        l1.append(h)\n",
    "    elif(val==4):\n",
    "        for x in tup:\n",
    "            s+=str(x)\n",
    "        s1=int(s)\n",
    "        d1 = datetime.date(tup[0],tup[1],tup[2])\n",
    "        l1.append(calendar.day_name[d1.weekday()])\n",
    "        l1.append(calendar.month_name[d1.month])\n",
    "        l1.append(str(d1.strftime('%j')))\n",
    "    elif(val==5):\n",
    "        s=\"\"\n",
    "        for x in tup:\n",
    "            s+=str(x)\n",
    "        s1=int(s)\n",
    "        l1.append(datetime.datetime.strptime(s,'%Y%m%d%H%M%S'))\n",
    "    return l1\n",
    "\n",
    "if __name__ == '__main__':\n",
    "    val = int(input().strip())\n",
    "    \n",
    "    if val ==1 or val==4 or val ==3:\n",
    "        qw1_count=3\n",
    "    if val==2:\n",
    "        qw1_count=1\n",
    "    if val ==5:\n",
    "        qw1_count=6\n",
    "    qw1 = []\n",
    "\n",
    "    for _ in range(qw1_count):\n",
    "        qw1_item = int(input().strip())\n",
    "        qw1.append(qw1_item)\n",
    "        \n",
    "    tup=tuple(qw1)\n",
    "    \n",
    "    ans = dateandtime(val,tup)\n",
    "    \n",
    "    print(ans)"
   ]
  },
  {
   "cell_type": "code",
   "execution_count": 33,
   "id": "17f023be",
   "metadata": {},
   "outputs": [
    {
     "name": "stdout",
     "output_type": "stream",
     "text": [
      "4\n",
      "1\n",
      "((1, 10, 5, 2), (8, 48, 14, 63), (59, 47, 49, 22), (19, 60, 1, 40))\n"
     ]
    },
    {
     "ename": "ValueError",
     "evalue": "invalid literal for int() with base 10: '((1, 10, 5, 2), (8, 48, 14, 63), (59, 47, 49, 22), (19, 60, 1, 40))'",
     "output_type": "error",
     "traceback": [
      "\u001b[1;31m---------------------------------------------------------------------------\u001b[0m",
      "\u001b[1;31mValueError\u001b[0m                                Traceback (most recent call last)",
      "\u001b[1;32m~\\AppData\\Local\\Temp/ipykernel_1796/529315963.py\u001b[0m in \u001b[0;36m<module>\u001b[1;34m\u001b[0m\n\u001b[0;32m     39\u001b[0m         \u001b[0mqw2\u001b[0m \u001b[1;33m=\u001b[0m \u001b[1;33m[\u001b[0m\u001b[1;33m]\u001b[0m\u001b[1;33m\u001b[0m\u001b[1;33m\u001b[0m\u001b[0m\n\u001b[0;32m     40\u001b[0m         \u001b[1;32mfor\u001b[0m \u001b[0m_\u001b[0m \u001b[1;32min\u001b[0m \u001b[0mrange\u001b[0m\u001b[1;33m(\u001b[0m\u001b[0mlength\u001b[0m\u001b[1;33m)\u001b[0m\u001b[1;33m:\u001b[0m\u001b[1;33m\u001b[0m\u001b[1;33m\u001b[0m\u001b[0m\n\u001b[1;32m---> 41\u001b[1;33m             \u001b[0mqw2_item\u001b[0m \u001b[1;33m=\u001b[0m \u001b[0mint\u001b[0m\u001b[1;33m(\u001b[0m\u001b[0minput\u001b[0m\u001b[1;33m(\u001b[0m\u001b[1;33m)\u001b[0m\u001b[1;33m.\u001b[0m\u001b[0mstrip\u001b[0m\u001b[1;33m(\u001b[0m\u001b[1;33m)\u001b[0m\u001b[1;33m)\u001b[0m\u001b[1;33m\u001b[0m\u001b[1;33m\u001b[0m\u001b[0m\n\u001b[0m\u001b[0;32m     42\u001b[0m             \u001b[0mqw2\u001b[0m\u001b[1;33m.\u001b[0m\u001b[0mappend\u001b[0m\u001b[1;33m(\u001b[0m\u001b[0mqw2_item\u001b[0m\u001b[1;33m)\u001b[0m\u001b[1;33m\u001b[0m\u001b[1;33m\u001b[0m\u001b[0m\n\u001b[0;32m     43\u001b[0m         \u001b[0mqw1\u001b[0m\u001b[1;33m.\u001b[0m\u001b[0mappend\u001b[0m\u001b[1;33m(\u001b[0m\u001b[0mtuple\u001b[0m\u001b[1;33m(\u001b[0m\u001b[0mqw2\u001b[0m\u001b[1;33m)\u001b[0m\u001b[1;33m)\u001b[0m\u001b[1;33m\u001b[0m\u001b[1;33m\u001b[0m\u001b[0m\n",
      "\u001b[1;31mValueError\u001b[0m: invalid literal for int() with base 10: '((1, 10, 5, 2), (8, 48, 14, 63), (59, 47, 49, 22), (19, 60, 1, 40))'"
     ]
    }
   ],
   "source": [
    "import itertools\n",
    "import operator\n",
    "def performIterator(tuplevalues):\n",
    "\n",
    "    l1=[]\n",
    "    l2=[]\n",
    "    for x in range(4):\n",
    "        l2.append(tuplevalues[0][x])\n",
    "\n",
    "    t2=tuple(l2)\n",
    "    l1.append(t2)\n",
    "\n",
    "    ll=[tuplevalues[1][0] for x in range(len(tuplevalues[1]))]\n",
    "\n",
    "    t3=tuple(ll)\n",
    "    l1.append(t3)\n",
    "\n",
    "    t4=tuple(itertools.accumulate(tuplevalues[2]))\n",
    "    l1.append(t4)\n",
    "\n",
    "    f=[]\n",
    "    for x in tuplevalues:\n",
    "        for y in x:\n",
    "            f.append(y)\n",
    "    l1.append(tuple(f))\n",
    "\n",
    "    ff = itertools.filterfalse(lambda x: x%2==0,f)\n",
    "    l1.append(tuple(ff))\n",
    "\n",
    "    tf = tuple(l1)\n",
    "    return tf\n",
    "\n",
    "if __name__ == '__main__':\n",
    "\n",
    "    length = int(input().strip())\n",
    "\n",
    "    qw1 = []\n",
    "    for i in range(4):\n",
    "        qw2 = []\n",
    "        for _ in range(length):\n",
    "            qw2_item = int(input().strip())\n",
    "            qw2.append(qw2_item)\n",
    "        qw1.append(tuple(qw2))\n",
    "    tupb = tuple(qw1)\n",
    "\n",
    "    q = performIterator(tupb)\n",
    "    print(q)\n"
   ]
  },
  {
   "cell_type": "raw",
   "id": "bb3f5430",
   "metadata": {},
   "source": [
    "Python 3 Functions and OOPs - Course Summary\n",
    "Lets summarise what you have learnt in the course.\n",
    "\n",
    "Creating functionswith variable number of parameters and passing values to them.\n",
    "\n",
    "Working with iterators, generators, list comprehensions.\n",
    "\n",
    "Defining a class, invoking objects and various OOPs concepts.\n",
    "\n",
    "Creating and accessing modulesand packages.\n",
    "\n",
    "Exception handling clauses."
   ]
  },
  {
   "cell_type": "code",
   "execution_count": 35,
   "id": "55047492",
   "metadata": {},
   "outputs": [
    {
     "name": "stdout",
     "output_type": "stream",
     "text": [
      "Get useful information from live Python objects.\n",
      "\n",
      "This module encapsulates the interface provided by the internal special\n",
      "attributes (co_*, im_*, tb_*, etc.) in a friendlier fashion.\n",
      "It also provides some help for examining source code and class layout.\n",
      "\n",
      "Here are some of the useful functions provided by this module:\n",
      "\n",
      "    ismodule(), isclass(), ismethod(), isfunction(), isgeneratorfunction(),\n",
      "        isgenerator(), istraceback(), isframe(), iscode(), isbuiltin(),\n",
      "        isroutine() - check object types\n",
      "    getmembers() - get members of an object that satisfy a given condition\n",
      "\n",
      "    getfile(), getsourcefile(), getsource() - find an object's source code\n",
      "    getdoc(), getcomments() - get documentation on an object\n",
      "    getmodule() - determine the module that an object came from\n",
      "    getclasstree() - arrange classes so as to represent their hierarchy\n",
      "\n",
      "    getargvalues(), getcallargs() - get info about function arguments\n",
      "    getfullargspec() - same, with support for Python 3 features\n",
      "    formatargvalues() - format an argument spec\n",
      "    getouterframes(), getinnerframes() - get info about frames\n",
      "    currentframe() - get the current stack frame\n",
      "    stack(), trace() - get info about frames on the stack or in a traceback\n",
      "\n",
      "    signature() - get a Signature object for the callable\n",
      "\n"
     ]
    }
   ],
   "source": [
    "import inspect as I\n",
    "doc = I.__doc__\n",
    "print(doc)"
   ]
  },
  {
   "cell_type": "code",
   "execution_count": 36,
   "id": "7c445446",
   "metadata": {},
   "outputs": [
    {
     "ename": "NameError",
     "evalue": "name 'y' is not defined",
     "output_type": "error",
     "traceback": [
      "\u001b[1;31m---------------------------------------------------------------------------\u001b[0m",
      "\u001b[1;31mNameError\u001b[0m                                 Traceback (most recent call last)",
      "\u001b[1;32m~\\AppData\\Local\\Temp/ipykernel_1796/1056546137.py\u001b[0m in \u001b[0;36m<module>\u001b[1;34m\u001b[0m\n\u001b[1;32m----> 1\u001b[1;33m \u001b[0mprint\u001b[0m\u001b[1;33m(\u001b[0m\u001b[0my\u001b[0m\u001b[1;33m)\u001b[0m\u001b[1;33m\u001b[0m\u001b[1;33m\u001b[0m\u001b[0m\n\u001b[0m",
      "\u001b[1;31mNameError\u001b[0m: name 'y' is not defined"
     ]
    }
   ],
   "source": [
    "print(y)"
   ]
  },
  {
   "cell_type": "code",
   "execution_count": 37,
   "id": "56e0de52",
   "metadata": {},
   "outputs": [
    {
     "data": {
      "text/plain": [
       "[('K', 1), ('I', 1), ('W', 1), ('I', 1)]"
      ]
     },
     "execution_count": 37,
     "metadata": {},
     "output_type": "execute_result"
    }
   ],
   "source": [
    "[(i.upper(), len(i)) for i in 'kiwi' ]"
   ]
  },
  {
   "cell_type": "code",
   "execution_count": 38,
   "id": "b2d1d823",
   "metadata": {},
   "outputs": [
    {
     "name": "stdout",
     "output_type": "stream",
     "text": [
      "False\n",
      "A(x: 12, y: 3)\n"
     ]
    }
   ],
   "source": [
    "class A:\n",
    "    def __init__(self, x=5, y=4):\n",
    "        self.x = x\n",
    "        self.y = y\n",
    "\n",
    "    def __str__(self):\n",
    "        return 'A(x: {}, y: {})'.format(self.x, self.y)\n",
    "        \n",
    "    def __eq__(self, other):\n",
    "        return self.x * self.y == other.x * other.y\n",
    "     \n",
    "def f1():\n",
    "    a = A(12, 3)\n",
    "    b = A(3, 12)\n",
    "    if (a == b):\n",
    "        print(b != a)\n",
    "        print(a)\n",
    "\n",
    "f1()"
   ]
  },
  {
   "cell_type": "code",
   "execution_count": 39,
   "id": "a7205930",
   "metadata": {},
   "outputs": [
    {
     "data": {
      "text/plain": [
       "[6, 4, 1]"
      ]
     },
     "execution_count": 39,
     "metadata": {},
     "output_type": "execute_result"
    }
   ],
   "source": [
    "list(itertools.dropwhile(lambda x: x<5, [1,4,6,4,1]))"
   ]
  },
  {
   "cell_type": "code",
   "execution_count": 40,
   "id": "dceb68b0",
   "metadata": {},
   "outputs": [
    {
     "ename": "ZeroDivisionError",
     "evalue": "division by zero",
     "output_type": "error",
     "traceback": [
      "\u001b[1;31m---------------------------------------------------------------------------\u001b[0m",
      "\u001b[1;31mZeroDivisionError\u001b[0m                         Traceback (most recent call last)",
      "\u001b[1;32m~\\AppData\\Local\\Temp/ipykernel_1796/600699680.py\u001b[0m in \u001b[0;36m<module>\u001b[1;34m\u001b[0m\n\u001b[1;32m----> 1\u001b[1;33m \u001b[1;36m8\u001b[0m\u001b[1;33m/\u001b[0m\u001b[1;36m0\u001b[0m\u001b[1;33m\u001b[0m\u001b[1;33m\u001b[0m\u001b[0m\n\u001b[0m",
      "\u001b[1;31mZeroDivisionError\u001b[0m: division by zero"
     ]
    }
   ],
   "source": [
    "8/0"
   ]
  },
  {
   "cell_type": "code",
   "execution_count": 41,
   "id": "13e7b1c2",
   "metadata": {},
   "outputs": [
    {
     "data": {
      "text/plain": [
       "[0, 1, 2]"
      ]
     },
     "execution_count": 41,
     "metadata": {},
     "output_type": "execute_result"
    }
   ],
   "source": [
    "[i**+1 for i in range(3)]"
   ]
  },
  {
   "cell_type": "code",
   "execution_count": null,
   "id": "1dcefdc2",
   "metadata": {},
   "outputs": [],
   "source": []
  }
 ],
 "metadata": {
  "kernelspec": {
   "display_name": "Python 3",
   "language": "python",
   "name": "python3"
  },
  "language_info": {
   "codemirror_mode": {
    "name": "ipython",
    "version": 3
   },
   "file_extension": ".py",
   "mimetype": "text/x-python",
   "name": "python",
   "nbconvert_exporter": "python",
   "pygments_lexer": "ipython3",
   "version": "3.8.8"
  }
 },
 "nbformat": 4,
 "nbformat_minor": 5
}
