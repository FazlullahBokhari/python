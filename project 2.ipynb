{
 "cells": [
  {
   "cell_type": "code",
   "execution_count": null,
   "id": "6ac0f151",
   "metadata": {},
   "outputs": [],
   "source": [
    "import matplotlib.pyplot as plt\n",
    "import seaborn as sns\n",
    "  \n",
    "sns.set_context('paper')\n",
    " \n",
    "# load dataset\n",
    "titanic = sns.load_dataset('titanic')\n",
    "# create plot\n",
    "sns.countplot(x = 'class', hue = 'who', data = titanic, palette = 'magma')\n",
    "plt.title('Survivors')\n",
    "plt.show()"
   ]
  },
  {
   "cell_type": "markdown",
   "id": "db76b136",
   "metadata": {},
   "source": [
    "def "
   ]
  },
  {
   "cell_type": "code",
   "execution_count": null,
   "id": "3868001e",
   "metadata": {},
   "outputs": [],
   "source": [
    "class Me:\n",
    "    pass"
   ]
  },
  {
   "cell_type": "code",
   "execution_count": null,
   "id": "5ab26ab2",
   "metadata": {},
   "outputs": [],
   "source": [
    "1 --> 3 sessions * 1 library"
   ]
  },
  {
   "cell_type": "code",
   "execution_count": 1,
   "id": "0c312384",
   "metadata": {},
   "outputs": [
    {
     "name": "stdout",
     "output_type": "stream",
     "text": [
      "Select operation. \n",
      "1.add\n",
      "2.substraction\n",
      "3.multiplication\n",
      "4.division\n",
      "5.floor division\n",
      "6. power\n",
      "7.reminder\n",
      "Enter choice(1/2/3/4/5/6/7): 5\n",
      "Enter your first number: 7\n",
      "Enter your second number: 3\n",
      "7.0  //  3.0  =  2.0\n",
      "Let's do next calculation? (yes/no): yes\n",
      "Enter choice(1/2/3/4/5/6/7): 3\n",
      "Enter your first number: 8\n",
      "Enter your second number: 5\n",
      "8.0  *  5.0  =  40.0\n",
      "Let's do next calculation? (yes/no): no\n",
      "\n",
      " Let's meet tomrrow Bye bye...\n"
     ]
    }
   ],
   "source": [
    "# Functions to add two variables\n",
    "def add(x,y):\n",
    "    return x+y\n",
    "\n",
    "# Functions to substract two variables\n",
    "def substract(x,y):\n",
    "    return x-y\n",
    "\n",
    "# Functions to multiplication two variables\n",
    "def multiply(x,y):\n",
    "    return x*y\n",
    "\n",
    "# Functions to divide two variables\n",
    "def divide(x,y):\n",
    "    return x/y\n",
    "\n",
    "# Functions to modulus two variables\n",
    "def modulus(x,y):\n",
    "    return x%y\n",
    "\n",
    "# Functions to power two variables\n",
    "def power(x,y):\n",
    "    return x**y\n",
    "\n",
    "# Functions to floor division two variables\n",
    "def floordiv(x,y):\n",
    "    return x//y\n",
    "\n",
    "print(\"Select operation. \")\n",
    "print(\"1.add\")\n",
    "print(\"2.substraction\")\n",
    "print(\"3.multiplication\")\n",
    "print(\"4.division\")\n",
    "print(\"5.floor division\")\n",
    "print(\"6. power\")\n",
    "print(\"7.reminder\")\n",
    "\n",
    "while True:\n",
    "    # take input from user\n",
    "    user_input = input(\"Enter choice(1/2/3/4/5/6/7): \")\n",
    "    if user_input in (\"1\",\"2\",\"3\",\"4\",\"5\",\"6\"):\n",
    "        x = float(input(\"Enter your first number: \"))\n",
    "        y = float(input(\"Enter your second number: \"))\n",
    "        \n",
    "        if user_input == \"1\":\n",
    "            print(x, \" + \", y, \" = \", add(x,y))\n",
    "        elif user_input == \"2\":\n",
    "            print(x, \" - \", y, \" = \", substract(x,y))    \n",
    "        elif user_input == \"3\":\n",
    "            print(x, \" * \", y, \" = \", multiply(x,y))    \n",
    "    \n",
    "        elif user_input == \"4\":\n",
    "            print(x, \" / \", y, \" = \", divide(x,y))   \n",
    "            \n",
    "        elif user_input == \"5\":\n",
    "            print(x, \" // \", y, \" = \", floordiv(x,y))   \n",
    "            \n",
    "        elif user_input == \"6\":\n",
    "            print(x, \" ** \", y, \" = \", power(x,y))    \n",
    "        elif user_input == \"7\":\n",
    "            print(x, \" % \", y, \" = \", modulus(x,y))   \n",
    "       \n",
    "      \n",
    "        next_cal = input(\"Let's do next calculation? (yes/no): \") \n",
    "    \n",
    "        if next_cal == \"no\":\n",
    "            print()\n",
    "            print(\" Let's meet tomrrow Bye bye...\")\n",
    "            break\n",
    "        \n",
    "    \n",
    "    else:\n",
    "        print(\"Invalid input\")"
   ]
  },
  {
   "cell_type": "code",
   "execution_count": null,
   "id": "d17d98a8",
   "metadata": {},
   "outputs": [],
   "source": []
  }
 ],
 "metadata": {
  "kernelspec": {
   "display_name": "Python 3",
   "language": "python",
   "name": "python3"
  },
  "language_info": {
   "codemirror_mode": {
    "name": "ipython",
    "version": 3
   },
   "file_extension": ".py",
   "mimetype": "text/x-python",
   "name": "python",
   "nbconvert_exporter": "python",
   "pygments_lexer": "ipython3",
   "version": "3.8.8"
  }
 },
 "nbformat": 4,
 "nbformat_minor": 5
}
